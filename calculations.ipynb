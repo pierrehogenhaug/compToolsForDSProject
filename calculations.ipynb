{
 "cells": [
  {
   "cell_type": "markdown",
   "metadata": {},
   "source": [
    "# Import data"
   ]
  },
  {
   "cell_type": "code",
   "execution_count": 1,
   "metadata": {},
   "outputs": [
    {
     "name": "stdout",
     "output_type": "stream",
     "text": [
      "Posts loaded\n",
      "Answers loaded\n",
      "Comments loaded\n"
     ]
    }
   ],
   "source": [
    "import os\n",
    "import pandas as pd\n",
    "import numpy as np\n",
    "\n",
    "directory = './picklefiles'\n",
    "# List all files that start with the specified pattern\n",
    "\n",
    "def load_pickle_files(directory, file_pattern):\n",
    "    matching_files = [file for file in os.listdir(directory) if file.startswith(file_pattern)]\n",
    "    matching_files\n",
    "    l = []\n",
    "    for file in matching_files:\n",
    "        l.append(pd.read_pickle(os.path.join(directory,file)))\n",
    "    return pd.concat(l)\n",
    "\n",
    "import pickle\n",
    "posts = pickle.load(open(f'{directory}/posts_with_topic.pkl', 'rb'))\n",
    "print(\"Posts loaded\")\n",
    "\n",
    "answers = load_pickle_files(directory, 'posts_typecasted_')\n",
    "answers = answers[answers[\"PostTypeId\"] == 2]\n",
    "print(\"Answers loaded\")\n",
    "\n",
    "comments = pickle.load(open(f'{directory}/comments_typecasted.pkl', 'rb'))\n",
    "print(\"Comments loaded\")\n"
   ]
  },
  {
   "cell_type": "code",
   "execution_count": 2,
   "metadata": {},
   "outputs": [
    {
     "name": "stdout",
     "output_type": "stream",
     "text": [
      "Tag counts loaded\n",
      "Topic tags loaded\n"
     ]
    }
   ],
   "source": [
    "TAG_COUNTS = pickle.load(open(f'{directory}/tag_counts.pkl', 'rb'))\n",
    "print(\"Tag counts loaded\")\n",
    "# Dictionary TOPIC -> {TAGS}\n",
    "TOPIC_TAGS = pickle.load(open(f'{directory}/communities_louvain.pkl', 'rb'))\n",
    "TOPIC_TAGS = [{key: value for (key,value) in topic} for topic in TOPIC_TAGS] # Convert to list of dictionaries\n",
    "print(\"Topic tags loaded\")"
   ]
  },
  {
   "cell_type": "code",
   "execution_count": 4,
   "metadata": {},
   "outputs": [],
   "source": [
    "USERS = pickle.load(open(f'{directory}/active_users_with_sentiment.pkl', 'rb'))"
   ]
  },
  {
   "cell_type": "markdown",
   "metadata": {},
   "source": [
    "# Clean data"
   ]
  },
  {
   "cell_type": "code",
   "execution_count": 5,
   "metadata": {},
   "outputs": [],
   "source": [
    "def percentage_of_nan(column):\n",
    "    return round(100*sum(column.isna())/len(column),2)"
   ]
  },
  {
   "cell_type": "code",
   "execution_count": 6,
   "metadata": {},
   "outputs": [],
   "source": [
    "posts_mapping = dict(zip(posts['Id'], posts['ViewCount']))\n",
    "answers_mapping = dict(zip(answers['Id'], answers['ViewCount']))\n",
    "\n",
    "all_mapping = {**posts_mapping, **answers_mapping}"
   ]
  },
  {
   "cell_type": "code",
   "execution_count": 7,
   "metadata": {},
   "outputs": [],
   "source": [
    "answers = answers[answers['ParentId'].map(posts_mapping).notna()]"
   ]
  },
  {
   "cell_type": "code",
   "execution_count": 8,
   "metadata": {},
   "outputs": [],
   "source": [
    "comments = comments[comments['PostId'].map(all_mapping).notna()]"
   ]
  },
  {
   "cell_type": "code",
   "execution_count": 9,
   "metadata": {},
   "outputs": [
    {
     "data": {
      "text/plain": [
       "0.0"
      ]
     },
     "execution_count": 9,
     "metadata": {},
     "output_type": "execute_result"
    }
   ],
   "source": [
    "percentage_of_nan(comments['PostId'].map(all_mapping))"
   ]
  },
  {
   "cell_type": "code",
   "execution_count": 10,
   "metadata": {},
   "outputs": [
    {
     "data": {
      "text/plain": [
       "6435484"
      ]
     },
     "execution_count": 10,
     "metadata": {},
     "output_type": "execute_result"
    }
   ],
   "source": [
    "len(comments)"
   ]
  },
  {
   "cell_type": "code",
   "execution_count": 11,
   "metadata": {},
   "outputs": [],
   "source": [
    "question_topic_mapping = dict(zip(posts['Id'], posts['Topic']))\n",
    "answers['Topic'] = answers['ParentId'].map(question_topic_mapping)"
   ]
  },
  {
   "cell_type": "code",
   "execution_count": 12,
   "metadata": {},
   "outputs": [],
   "source": [
    "answer_topic_mapping = dict(zip(answers['Id'], answers['Topic']))\n",
    "\n",
    "posts_topic_mapping = {**question_topic_mapping, **answer_topic_mapping} \n",
    "\n",
    "comments['Topic'] = comments['PostId'].map(posts_topic_mapping)"
   ]
  },
  {
   "cell_type": "code",
   "execution_count": 15,
   "metadata": {},
   "outputs": [],
   "source": [
    "pickle.dump(answers, open(f'{directory}/answers_clean.pkl', 'wb'))\n",
    "pickle.dump(comments, open(f'{directory}/comments_clean.pkl', 'wb'))\n",
    "pickle.dump(TOPIC_TAGS, open(f'{directory}/topic_tags_clean.pkl', 'wb'))"
   ]
  },
  {
   "cell_type": "markdown",
   "metadata": {},
   "source": [
    "# Create new columns"
   ]
  },
  {
   "cell_type": "markdown",
   "metadata": {},
   "source": [
    "## Views and ViewCount"
   ]
  },
  {
   "cell_type": "code",
   "execution_count": 13,
   "metadata": {},
   "outputs": [],
   "source": [
    "post_probability = 0.5\n",
    "\n",
    "posts_views_mapping = dict(zip(posts['Id'], posts['ViewCount']*post_probability))\n",
    "answers['ViewCount'] = answers['ParentId'].map(posts_views_mapping)"
   ]
  },
  {
   "cell_type": "code",
   "execution_count": 14,
   "metadata": {},
   "outputs": [],
   "source": [
    "comment_probability = 0.7\n",
    "posts_views_mapping = dict(zip(posts['Id'], posts['ViewCount']*comment_probability))\n",
    "answers_views_mapping = dict(zip(answers['Id'], answers['ViewCount']*comment_probability))\n",
    "comments['Views'] = comments['PostId'].map({**posts_views_mapping, **answers_views_mapping})"
   ]
  },
  {
   "cell_type": "code",
   "execution_count": null,
   "metadata": {},
   "outputs": [],
   "source": [
    "pickle.dump(answers, open(f'{directory}/answers_clean.pkl', 'wb'))\n",
    "pickle.dump(comments, open(f'{directory}/comments_clean.pkl', 'wb'))"
   ]
  },
  {
   "cell_type": "markdown",
   "metadata": {},
   "source": [
    "## Main topic"
   ]
  },
  {
   "cell_type": "code",
   "execution_count": 10,
   "metadata": {},
   "outputs": [
    {
     "name": "stdout",
     "output_type": "stream",
     "text": [
      "Posts loaded\n",
      "Answers loaded\n",
      "Comments loaded\n",
      "Topic tags loaded\n",
      "Tag counts loaded\n"
     ]
    }
   ],
   "source": [
    "import os\n",
    "import pandas as pd\n",
    "import numpy as np\n",
    "import pickle\n",
    "\n",
    "directory = './picklefiles'\n",
    "\n",
    "posts = pickle.load(open(f'{directory}/posts_with_topic.pkl', 'rb'))\n",
    "print(\"Posts loaded\")\n",
    "answers = pickle.load(open(f'{directory}/answers_clean.pkl', 'rb'))\n",
    "print(\"Answers loaded\")\n",
    "comments = pickle.load(open(f'{directory}/comments_clean.pkl', 'rb'))\n",
    "print(\"Comments loaded\")\n",
    "TOPIC_TAGS = pickle.load(open(f'{directory}/topic_tags_clean.pkl', 'rb'))\n",
    "print(\"Topic tags loaded\")\n",
    "TAG_COUNTS = pickle.load(open(f'{directory}/tag_counts.pkl', 'rb'))\n",
    "print(\"Tag counts loaded\")\n",
    "USERS = pickle.load(open(f'{directory}/active_users_with_sentiment.pkl', 'rb'))"
   ]
  },
  {
   "cell_type": "markdown",
   "metadata": {},
   "source": [
    "Building a dictionary that links each tag to their corresponding topic."
   ]
  },
  {
   "cell_type": "code",
   "execution_count": 4,
   "metadata": {},
   "outputs": [
    {
     "name": "stdout",
     "output_type": "stream",
     "text": [
      "Tag topics built\n"
     ]
    }
   ],
   "source": [
    "def find_topic(tag):\n",
    "    for i, topic in enumerate(TOPIC_TAGS):\n",
    "        if tag in topic:\n",
    "            return i\n",
    "    return None\n",
    "\n",
    "# Dictionary TAG -> TOPIC\n",
    "TAG_TOPICS = {tag: find_topic(tag) for tag in TAG_COUNTS}\n",
    "print(\"Tag topics built\")"
   ]
  },
  {
   "cell_type": "markdown",
   "metadata": {},
   "source": [
    "Get main topic for a post (the topic that we will consider to analyze the post). We follow this criteria:\n",
    "1. The main topic is the one with the most amount of tags.\n",
    "2. If there are more than one, the tags with less instances gets picked."
   ]
  },
  {
   "cell_type": "code",
   "execution_count": 8,
   "metadata": {},
   "outputs": [],
   "source": [
    "def get_main_topic(row, verbosity = 0):\n",
    "    topic_tag_counts = row[\"Topic\"]    \n",
    "    max_tag = max(topic_tag_counts)\n",
    "    count_max = sum(1 for el2 in [el == max_tag for el in topic_tag_counts] if el2)\n",
    "    if verbosity > 0:\n",
    "        print(f\"Max: {max_tag} - Count: {count_max}\")\n",
    "    if count_max == 0:\n",
    "        return None\n",
    "    elif count_max == 1:\n",
    "        return np.argmax(topic_tag_counts)\n",
    "    else:\n",
    "        if verbosity > 0:\n",
    "            print(\"else\")\n",
    "        # WHICH TAGS ARE IN THE TOPICS THAT ARE DRAWN\n",
    "        # WE SUM THE NUMBER OF TAG INSTANCES IN EACH TOPIC -> ITERATE OVER TOPIC -> ITERATE OVER TAG -> SUM -> RETURN THE TOPIC WITH THE MINIMUM VALUE\n",
    "        drawn_topics = [i for (i, tag_count) in enumerate(topic_tag_counts) if tag_count == max_tag]\n",
    "        topic_tag = {i: [tag for tag in row[\"Tags\"] if tag in TOPIC_TAGS[i]] for i in drawn_topics}\n",
    "        instance_count = {i: sum([TAG_COUNTS[tag] for tag in topic_tag[i]]) for i in drawn_topics}\n",
    "        topic = min(instance_count, key=instance_count.get)\n",
    "        return topic"
   ]
  },
  {
   "cell_type": "code",
   "execution_count": 6,
   "metadata": {},
   "outputs": [
    {
     "data": {
      "text/plain": [
       "0"
      ]
     },
     "execution_count": 6,
     "metadata": {},
     "output_type": "execute_result"
    }
   ],
   "source": [
    "test = {\"Topic\": [1,0,1,0,0,0,0,0,0,0], \"Tags\": [\"do-while\", \"android\"]}\n",
    "get_main_topic(test)"
   ]
  },
  {
   "cell_type": "code",
   "execution_count": 11,
   "metadata": {},
   "outputs": [
    {
     "name": "stdout",
     "output_type": "stream",
     "text": [
      "[########################################] | 100% Completed | 71.25 s\n"
     ]
    }
   ],
   "source": [
    "import dask.dataframe as dd\n",
    "from dask.diagnostics import ProgressBar\n",
    "\n",
    "# Convert the pandas DataFrame to a Dask DataFrame\n",
    "dask_posts = dd.from_pandas(posts, npartitions=8) # Adjust the number of partitions based on your dataset\n",
    "\n",
    "# Define a lambda function to be applied to each row\n",
    "lambda_function = lambda row: get_main_topic(row) \n",
    "\n",
    "# Apply the function\n",
    "# Specify meta as a list, since the function returns a list\n",
    "dask_posts['MainTopic'] = dask_posts.apply(lambda_function, axis=1, meta=('MainTopic', 'object'))\n",
    "\n",
    "# Compute the results to get back a pandas DataFrame with a progress bar\n",
    "with ProgressBar():\n",
    "    posts = dask_posts.compute()"
   ]
  },
  {
   "cell_type": "code",
   "execution_count": 15,
   "metadata": {},
   "outputs": [],
   "source": [
    "# posts['MainTopic'] = posts.apply(lambda row : get_main_topic(row), axis=1)"
   ]
  },
  {
   "cell_type": "markdown",
   "metadata": {},
   "source": [
    "Assign the topic of parent post to the answers."
   ]
  },
  {
   "cell_type": "code",
   "execution_count": 15,
   "metadata": {},
   "outputs": [
    {
     "name": "stdout",
     "output_type": "stream",
     "text": [
      "Answers topic assigned\n"
     ]
    }
   ],
   "source": [
    "question_maintopic_mapping = dict(zip(posts['Id'], posts['MainTopic']))\n",
    "answers['MainTopic'] = answers['ParentId'].map(question_maintopic_mapping)\n",
    "print(\"Answers topic assigned\")"
   ]
  },
  {
   "cell_type": "markdown",
   "metadata": {},
   "source": [
    "Assign the topic of parent post or answer to the comments."
   ]
  },
  {
   "cell_type": "code",
   "execution_count": 16,
   "metadata": {},
   "outputs": [
    {
     "name": "stdout",
     "output_type": "stream",
     "text": [
      "Comments topic assigned\n"
     ]
    }
   ],
   "source": [
    "answer_maintopic_mapping = dict(zip(answers['Id'], answers['MainTopic']))\n",
    "\n",
    "posts_topic_mapping = {**question_maintopic_mapping, **answer_maintopic_mapping} \n",
    "\n",
    "comments['MainTopic'] = comments['PostId'].map(posts_topic_mapping)\n",
    "print(\"Comments topic assigned\")"
   ]
  },
  {
   "cell_type": "markdown",
   "metadata": {},
   "source": [
    "## Scoring"
   ]
  },
  {
   "cell_type": "code",
   "execution_count": 12,
   "metadata": {},
   "outputs": [],
   "source": [
    "def get_sentiment(sentiment, i):\n",
    "    if type(sentiment) == list:\n",
    "        return sentiment[i]\n",
    "    else:\n",
    "        return 0"
   ]
  },
  {
   "cell_type": "code",
   "execution_count": 339,
   "metadata": {},
   "outputs": [],
   "source": [
    "WEIGHTS = [0.5, 0.5, 0]\n",
    "\n",
    "posts_grouped = posts.groupby(['OwnerUserId', 'MainTopic']).agg({'Score': 'sum', 'ViewCount': 'sum', 'Id': 'size'})\n",
    "answers_grouped = answers.groupby(['OwnerUserId', 'MainTopic']).agg({'Score': 'sum', 'ViewCount': 'sum', 'Id': 'size'})\n",
    "comments_grouped = comments.groupby(['UserId', 'MainTopic']).agg({'Score': 'sum', 'Views': 'sum', 'Id': 'size'})"
   ]
  },
  {
   "cell_type": "code",
   "execution_count": 340,
   "metadata": {},
   "outputs": [],
   "source": [
    "def scoring(topic, weights, row):\n",
    "    # Retrieve data for the specific user and topic, if available\n",
    "    userPosts = posts_grouped.loc[(row['Id'], topic)] if (row['Id'], topic) in posts_grouped.index else pd.Series({'Score': 0, 'ViewCount': 1, 'Id': 0})\n",
    "    userAnswers = answers_grouped.loc[(row['Id'], topic)] if (row['Id'], topic) in answers_grouped.index else pd.Series({'Score': 0, 'ViewCount': 1, 'Id': 0})\n",
    "    userComments = comments_grouped.loc[(row['Id'], topic)] if (row['Id'], topic) in comments_grouped.index else pd.Series({'Score': 0, 'Views': 1, 'Id': 0})\n",
    "    \n",
    "    # Calculate the score\n",
    "    score = userAnswers['Id'] * (get_sentiment(row[\"AvgTopicSentiment\"], topic) + 20 * userAnswers['Score'] / userAnswers['ViewCount']) * weights[0] +\\\n",
    "            userComments['Id'] * min(userComments['Score'] / userComments['Views'], 1) * weights[1] +\\\n",
    "            min(userPosts['Score'] / userPosts['ViewCount'], 1) * weights[2]\n",
    "\n",
    "    return score"
   ]
  },
  {
   "cell_type": "code",
   "execution_count": 341,
   "metadata": {},
   "outputs": [],
   "source": [
    "import dask.dataframe as dd\n",
    "from dask.diagnostics import ProgressBar\n",
    "def use_dask(df, method, npartitions = 8):\n",
    "    # Convert the pandas DataFrame to a Dask DataFrame\n",
    "    dask_df = dd.from_pandas(df, npartitions=npartitions) # Adjust the number of partitions based on your dataset\n",
    "\n",
    "    method(dask_df)\n",
    "    \n",
    "    # Compute the results to get back a pandas DataFrame with a progress bar\n",
    "    with ProgressBar():\n",
    "        temp = dask_df.compute()\n",
    "    return temp"
   ]
  },
  {
   "cell_type": "code",
   "execution_count": 342,
   "metadata": {},
   "outputs": [],
   "source": [
    "def calculate_score(dask_df):\n",
    "    # Define a lambda function to be applied to each row\n",
    "    lambda_function = lambda row: [scoring(i, WEIGHTS, row) for i, _ in enumerate(TOPIC_TAGS)]\n",
    "\n",
    "    # Apply the function\n",
    "    # Specify meta as a list, since the function returns a list\n",
    "    dask_df['Score'] = dask_df.apply(lambda_function, axis=1, meta=('Score', 'object'))"
   ]
  },
  {
   "cell_type": "code",
   "execution_count": 343,
   "metadata": {},
   "outputs": [
    {
     "name": "stdout",
     "output_type": "stream",
     "text": [
      "[########################################] | 100% Completed | 273.59 s\n"
     ]
    },
    {
     "data": {
      "text/html": [
       "<div>\n",
       "<style scoped>\n",
       "    .dataframe tbody tr th:only-of-type {\n",
       "        vertical-align: middle;\n",
       "    }\n",
       "\n",
       "    .dataframe tbody tr th {\n",
       "        vertical-align: top;\n",
       "    }\n",
       "\n",
       "    .dataframe thead th {\n",
       "        text-align: right;\n",
       "    }\n",
       "</style>\n",
       "<table border=\"1\" class=\"dataframe\">\n",
       "  <thead>\n",
       "    <tr style=\"text-align: right;\">\n",
       "      <th></th>\n",
       "      <th>Id</th>\n",
       "      <th>Reputation</th>\n",
       "      <th>CreationDate</th>\n",
       "      <th>LastAccessDate</th>\n",
       "      <th>Views</th>\n",
       "      <th>UpVotes</th>\n",
       "      <th>DownVotes</th>\n",
       "      <th>PostCount</th>\n",
       "      <th>CommentCount</th>\n",
       "      <th>AcceptedAnswerCount</th>\n",
       "      <th>...</th>\n",
       "      <th>Score_5</th>\n",
       "      <th>Score_6</th>\n",
       "      <th>Score_7</th>\n",
       "      <th>Score_8</th>\n",
       "      <th>Score_9</th>\n",
       "      <th>Score_10</th>\n",
       "      <th>Score_11</th>\n",
       "      <th>Score_12</th>\n",
       "      <th>Score_13</th>\n",
       "      <th>Score_14</th>\n",
       "    </tr>\n",
       "  </thead>\n",
       "  <tbody>\n",
       "    <tr>\n",
       "      <th>0</th>\n",
       "      <td>6128789</td>\n",
       "      <td>462</td>\n",
       "      <td>2016-03-29 10:49:52.617</td>\n",
       "      <td>2023-08-29 00:00:10.917</td>\n",
       "      <td>56</td>\n",
       "      <td>15</td>\n",
       "      <td>1</td>\n",
       "      <td>31.0</td>\n",
       "      <td>32.0</td>\n",
       "      <td>0.0</td>\n",
       "      <td>...</td>\n",
       "      <td>0.000000</td>\n",
       "      <td>0.0</td>\n",
       "      <td>0.000000</td>\n",
       "      <td>0.021808</td>\n",
       "      <td>0.0</td>\n",
       "      <td>0.0</td>\n",
       "      <td>0.0</td>\n",
       "      <td>0.0</td>\n",
       "      <td>0.0</td>\n",
       "      <td>0.0</td>\n",
       "    </tr>\n",
       "    <tr>\n",
       "      <th>1</th>\n",
       "      <td>580346</td>\n",
       "      <td>22895</td>\n",
       "      <td>2011-01-18 17:59:01.030</td>\n",
       "      <td>2023-08-31 10:24:31.333</td>\n",
       "      <td>1122</td>\n",
       "      <td>4919</td>\n",
       "      <td>82</td>\n",
       "      <td>0.0</td>\n",
       "      <td>778.0</td>\n",
       "      <td>0.0</td>\n",
       "      <td>...</td>\n",
       "      <td>0.000000</td>\n",
       "      <td>0.0</td>\n",
       "      <td>0.000000</td>\n",
       "      <td>0.000000</td>\n",
       "      <td>0.0</td>\n",
       "      <td>0.0</td>\n",
       "      <td>0.0</td>\n",
       "      <td>0.0</td>\n",
       "      <td>0.0</td>\n",
       "      <td>0.0</td>\n",
       "    </tr>\n",
       "    <tr>\n",
       "      <th>2</th>\n",
       "      <td>794606</td>\n",
       "      <td>1872</td>\n",
       "      <td>2011-06-12 08:51:06.137</td>\n",
       "      <td>2023-03-28 16:43:29.407</td>\n",
       "      <td>1171</td>\n",
       "      <td>208</td>\n",
       "      <td>432</td>\n",
       "      <td>1.0</td>\n",
       "      <td>1879.0</td>\n",
       "      <td>0.0</td>\n",
       "      <td>...</td>\n",
       "      <td>0.000000</td>\n",
       "      <td>0.0</td>\n",
       "      <td>0.000000</td>\n",
       "      <td>0.000000</td>\n",
       "      <td>0.0</td>\n",
       "      <td>0.0</td>\n",
       "      <td>0.0</td>\n",
       "      <td>0.0</td>\n",
       "      <td>0.0</td>\n",
       "      <td>0.0</td>\n",
       "    </tr>\n",
       "    <tr>\n",
       "      <th>3</th>\n",
       "      <td>10637188</td>\n",
       "      <td>742</td>\n",
       "      <td>2018-11-11 18:15:38.430</td>\n",
       "      <td>2023-08-29 19:28:34.423</td>\n",
       "      <td>133</td>\n",
       "      <td>115</td>\n",
       "      <td>2</td>\n",
       "      <td>20.0</td>\n",
       "      <td>126.0</td>\n",
       "      <td>0.0</td>\n",
       "      <td>...</td>\n",
       "      <td>0.000000</td>\n",
       "      <td>0.0</td>\n",
       "      <td>0.000000</td>\n",
       "      <td>0.000000</td>\n",
       "      <td>0.0</td>\n",
       "      <td>0.0</td>\n",
       "      <td>0.0</td>\n",
       "      <td>0.0</td>\n",
       "      <td>0.0</td>\n",
       "      <td>0.0</td>\n",
       "    </tr>\n",
       "    <tr>\n",
       "      <th>4</th>\n",
       "      <td>1000626</td>\n",
       "      <td>6197</td>\n",
       "      <td>2011-10-18 07:44:34.317</td>\n",
       "      <td>2023-08-24 13:53:59.520</td>\n",
       "      <td>649</td>\n",
       "      <td>468</td>\n",
       "      <td>24</td>\n",
       "      <td>5.0</td>\n",
       "      <td>379.0</td>\n",
       "      <td>0.0</td>\n",
       "      <td>...</td>\n",
       "      <td>0.000000</td>\n",
       "      <td>0.0</td>\n",
       "      <td>0.012107</td>\n",
       "      <td>0.000000</td>\n",
       "      <td>0.0</td>\n",
       "      <td>0.0</td>\n",
       "      <td>0.0</td>\n",
       "      <td>0.0</td>\n",
       "      <td>0.0</td>\n",
       "      <td>0.0</td>\n",
       "    </tr>\n",
       "    <tr>\n",
       "      <th>...</th>\n",
       "      <td>...</td>\n",
       "      <td>...</td>\n",
       "      <td>...</td>\n",
       "      <td>...</td>\n",
       "      <td>...</td>\n",
       "      <td>...</td>\n",
       "      <td>...</td>\n",
       "      <td>...</td>\n",
       "      <td>...</td>\n",
       "      <td>...</td>\n",
       "      <td>...</td>\n",
       "      <td>...</td>\n",
       "      <td>...</td>\n",
       "      <td>...</td>\n",
       "      <td>...</td>\n",
       "      <td>...</td>\n",
       "      <td>...</td>\n",
       "      <td>...</td>\n",
       "      <td>...</td>\n",
       "      <td>...</td>\n",
       "      <td>...</td>\n",
       "    </tr>\n",
       "    <tr>\n",
       "      <th>11805</th>\n",
       "      <td>3135460</td>\n",
       "      <td>5277</td>\n",
       "      <td>2013-12-26 00:51:44.440</td>\n",
       "      <td>2023-06-19 02:46:05.680</td>\n",
       "      <td>409</td>\n",
       "      <td>171</td>\n",
       "      <td>14</td>\n",
       "      <td>38.0</td>\n",
       "      <td>411.0</td>\n",
       "      <td>0.0</td>\n",
       "      <td>...</td>\n",
       "      <td>0.000737</td>\n",
       "      <td>0.0</td>\n",
       "      <td>0.000040</td>\n",
       "      <td>0.000000</td>\n",
       "      <td>0.0</td>\n",
       "      <td>0.0</td>\n",
       "      <td>0.0</td>\n",
       "      <td>0.0</td>\n",
       "      <td>0.0</td>\n",
       "      <td>0.0</td>\n",
       "    </tr>\n",
       "    <tr>\n",
       "      <th>11806</th>\n",
       "      <td>2616735</td>\n",
       "      <td>1382</td>\n",
       "      <td>2013-07-25 01:00:55.527</td>\n",
       "      <td>2023-09-03 03:50:34.047</td>\n",
       "      <td>140</td>\n",
       "      <td>602</td>\n",
       "      <td>278</td>\n",
       "      <td>0.0</td>\n",
       "      <td>78.0</td>\n",
       "      <td>0.0</td>\n",
       "      <td>...</td>\n",
       "      <td>0.000000</td>\n",
       "      <td>0.0</td>\n",
       "      <td>0.000000</td>\n",
       "      <td>0.000000</td>\n",
       "      <td>0.0</td>\n",
       "      <td>0.0</td>\n",
       "      <td>0.0</td>\n",
       "      <td>0.0</td>\n",
       "      <td>0.0</td>\n",
       "      <td>0.0</td>\n",
       "    </tr>\n",
       "    <tr>\n",
       "      <th>11807</th>\n",
       "      <td>209863</td>\n",
       "      <td>1189</td>\n",
       "      <td>2009-11-12 18:59:14.360</td>\n",
       "      <td>2015-07-18 14:59:21.783</td>\n",
       "      <td>185</td>\n",
       "      <td>58</td>\n",
       "      <td>0</td>\n",
       "      <td>12.0</td>\n",
       "      <td>72.0</td>\n",
       "      <td>0.0</td>\n",
       "      <td>...</td>\n",
       "      <td>0.000000</td>\n",
       "      <td>0.0</td>\n",
       "      <td>0.000000</td>\n",
       "      <td>0.000000</td>\n",
       "      <td>0.0</td>\n",
       "      <td>0.0</td>\n",
       "      <td>0.0</td>\n",
       "      <td>0.0</td>\n",
       "      <td>0.0</td>\n",
       "      <td>0.0</td>\n",
       "    </tr>\n",
       "    <tr>\n",
       "      <th>11808</th>\n",
       "      <td>3750282</td>\n",
       "      <td>448</td>\n",
       "      <td>2014-06-17 21:45:20.047</td>\n",
       "      <td>2023-06-02 11:14:19.157</td>\n",
       "      <td>75</td>\n",
       "      <td>9</td>\n",
       "      <td>1</td>\n",
       "      <td>3.0</td>\n",
       "      <td>52.0</td>\n",
       "      <td>0.0</td>\n",
       "      <td>...</td>\n",
       "      <td>0.000000</td>\n",
       "      <td>0.0</td>\n",
       "      <td>0.000000</td>\n",
       "      <td>0.000000</td>\n",
       "      <td>0.0</td>\n",
       "      <td>0.0</td>\n",
       "      <td>0.0</td>\n",
       "      <td>0.0</td>\n",
       "      <td>0.0</td>\n",
       "      <td>0.0</td>\n",
       "    </tr>\n",
       "    <tr>\n",
       "      <th>11809</th>\n",
       "      <td>5351381</td>\n",
       "      <td>371</td>\n",
       "      <td>2015-09-18 16:30:35.213</td>\n",
       "      <td>2023-08-28 07:16:40.273</td>\n",
       "      <td>53</td>\n",
       "      <td>30</td>\n",
       "      <td>2</td>\n",
       "      <td>1.0</td>\n",
       "      <td>77.0</td>\n",
       "      <td>0.0</td>\n",
       "      <td>...</td>\n",
       "      <td>0.000000</td>\n",
       "      <td>0.0</td>\n",
       "      <td>0.000000</td>\n",
       "      <td>0.000000</td>\n",
       "      <td>0.0</td>\n",
       "      <td>0.0</td>\n",
       "      <td>0.0</td>\n",
       "      <td>0.0</td>\n",
       "      <td>0.0</td>\n",
       "      <td>0.0</td>\n",
       "    </tr>\n",
       "  </tbody>\n",
       "</table>\n",
       "<p>11810 rows × 34 columns</p>\n",
       "</div>"
      ],
      "text/plain": [
       "             Id  Reputation            CreationDate          LastAccessDate  \\\n",
       "0       6128789         462 2016-03-29 10:49:52.617 2023-08-29 00:00:10.917   \n",
       "1        580346       22895 2011-01-18 17:59:01.030 2023-08-31 10:24:31.333   \n",
       "2        794606        1872 2011-06-12 08:51:06.137 2023-03-28 16:43:29.407   \n",
       "3      10637188         742 2018-11-11 18:15:38.430 2023-08-29 19:28:34.423   \n",
       "4       1000626        6197 2011-10-18 07:44:34.317 2023-08-24 13:53:59.520   \n",
       "...         ...         ...                     ...                     ...   \n",
       "11805   3135460        5277 2013-12-26 00:51:44.440 2023-06-19 02:46:05.680   \n",
       "11806   2616735        1382 2013-07-25 01:00:55.527 2023-09-03 03:50:34.047   \n",
       "11807    209863        1189 2009-11-12 18:59:14.360 2015-07-18 14:59:21.783   \n",
       "11808   3750282         448 2014-06-17 21:45:20.047 2023-06-02 11:14:19.157   \n",
       "11809   5351381         371 2015-09-18 16:30:35.213 2023-08-28 07:16:40.273   \n",
       "\n",
       "       Views  UpVotes  DownVotes  PostCount  CommentCount  \\\n",
       "0         56       15          1       31.0          32.0   \n",
       "1       1122     4919         82        0.0         778.0   \n",
       "2       1171      208        432        1.0        1879.0   \n",
       "3        133      115          2       20.0         126.0   \n",
       "4        649      468         24        5.0         379.0   \n",
       "...      ...      ...        ...        ...           ...   \n",
       "11805    409      171         14       38.0         411.0   \n",
       "11806    140      602        278        0.0          78.0   \n",
       "11807    185       58          0       12.0          72.0   \n",
       "11808     75        9          1        3.0          52.0   \n",
       "11809     53       30          2        1.0          77.0   \n",
       "\n",
       "       AcceptedAnswerCount  ...   Score_5  Score_6   Score_7   Score_8  \\\n",
       "0                      0.0  ...  0.000000      0.0  0.000000  0.021808   \n",
       "1                      0.0  ...  0.000000      0.0  0.000000  0.000000   \n",
       "2                      0.0  ...  0.000000      0.0  0.000000  0.000000   \n",
       "3                      0.0  ...  0.000000      0.0  0.000000  0.000000   \n",
       "4                      0.0  ...  0.000000      0.0  0.012107  0.000000   \n",
       "...                    ...  ...       ...      ...       ...       ...   \n",
       "11805                  0.0  ...  0.000737      0.0  0.000040  0.000000   \n",
       "11806                  0.0  ...  0.000000      0.0  0.000000  0.000000   \n",
       "11807                  0.0  ...  0.000000      0.0  0.000000  0.000000   \n",
       "11808                  0.0  ...  0.000000      0.0  0.000000  0.000000   \n",
       "11809                  0.0  ...  0.000000      0.0  0.000000  0.000000   \n",
       "\n",
       "       Score_9  Score_10  Score_11 Score_12 Score_13  Score_14  \n",
       "0          0.0       0.0       0.0      0.0      0.0       0.0  \n",
       "1          0.0       0.0       0.0      0.0      0.0       0.0  \n",
       "2          0.0       0.0       0.0      0.0      0.0       0.0  \n",
       "3          0.0       0.0       0.0      0.0      0.0       0.0  \n",
       "4          0.0       0.0       0.0      0.0      0.0       0.0  \n",
       "...        ...       ...       ...      ...      ...       ...  \n",
       "11805      0.0       0.0       0.0      0.0      0.0       0.0  \n",
       "11806      0.0       0.0       0.0      0.0      0.0       0.0  \n",
       "11807      0.0       0.0       0.0      0.0      0.0       0.0  \n",
       "11808      0.0       0.0       0.0      0.0      0.0       0.0  \n",
       "11809      0.0       0.0       0.0      0.0      0.0       0.0  \n",
       "\n",
       "[11810 rows x 34 columns]"
      ]
     },
     "execution_count": 343,
     "metadata": {},
     "output_type": "execute_result"
    }
   ],
   "source": [
    "use_dask(USERS, calculate_score)"
   ]
  },
  {
   "cell_type": "code",
   "execution_count": 344,
   "metadata": {},
   "outputs": [],
   "source": [
    "def create_score_columns(dask_df):\n",
    "    for i in range(len(TOPIC_TAGS)):\n",
    "        dask_df[f'Score_{i}'] = dask_df.apply(lambda row: row['Score'][i], axis=1)"
   ]
  },
  {
   "cell_type": "code",
   "execution_count": 345,
   "metadata": {},
   "outputs": [],
   "source": [
    "create_score_columns(USERS)"
   ]
  },
  {
   "cell_type": "markdown",
   "metadata": {},
   "source": [
    "# Results"
   ]
  },
  {
   "cell_type": "code",
   "execution_count": 346,
   "metadata": {},
   "outputs": [],
   "source": [
    "def count_posts_expert_participated(experts):\n",
    "    exp_comments = comments[comments['UserId'].isin(experts)][\"PostId\"]\n",
    "    exp_answers = answers[answers['OwnerUserId'].isin(experts) | answers['Id'].isin(exp_comments)][\"ParentId\"]\n",
    "    exp_posts = posts[posts['OwnerUserId'].isin(experts) | posts['Id'].isin(exp_answers) | posts['Id'].isin(exp_comments)][\"ParentId\"]\n",
    "    return len(exp_posts)"
   ]
  },
  {
   "cell_type": "code",
   "execution_count": 347,
   "metadata": {},
   "outputs": [],
   "source": [
    "import math\n",
    "def define_experts(top = 10):\n",
    "    ordered_users_by_topic = dict()\n",
    "    threshold = dict()\n",
    "    active_users_by_topic = dict()\n",
    "    expert_candidates = dict()\n",
    "    for i in range(len(TOPIC_TAGS)):\n",
    "        ordered_users_by_topic[i] = USERS.sort_values(by=f\"Score_{i}\", ascending=False)[['Id', f\"Score_{i}\"]]\n",
    "        active_users_by_topic[i] = ordered_users_by_topic[i][ordered_users_by_topic[i][f\"Score_{i}\"] > 0]\n",
    "        if(len(active_users_by_topic[i]) > 0):\n",
    "            threshold[i] = np.percentile(active_users_by_topic[i][f\"Score_{i}\"], q=(100 - top))\n",
    "        else:\n",
    "            threshold[i] = math.inf\n",
    "        expert_candidates[i] = list(active_users_by_topic[i][active_users_by_topic[i][f\"Score_{i}\"] > threshold[i]][\"Id\"])\n",
    "\n",
    "    flatten_experts = list(pd.Series([el for i in expert_candidates for el in expert_candidates[i] ]).unique())\n",
    "\n",
    "    return expert_candidates, round(100*count_posts_expert_participated(flatten_experts)/count_posts_expert_participated(USERS[\"Id\"]))"
   ]
  },
  {
   "cell_type": "code",
   "execution_count": 348,
   "metadata": {},
   "outputs": [
    {
     "name": "stderr",
     "output_type": "stream",
     "text": [
      "C:\\Users\\PC-312\\AppData\\Local\\Temp\\ipykernel_14532\\2224616765.py:16: FutureWarning: The default dtype for empty Series will be 'object' instead of 'float64' in a future version. Specify a dtype explicitly to silence this warning.\n",
      "  flatten_experts = list(pd.Series([el for i in expert_candidates for el in expert_candidates[i] ]).unique())\n"
     ]
    }
   ],
   "source": [
    "top_possible_values = [0,0.1, 1, 2, 5, 10, 15, 20, 30, 40, 50, 60, 70, 80, 90, 100]\n",
    "values = []\n",
    "for top in top_possible_values:\n",
    "    (_, perc) = define_experts(top)\n",
    "    values += [perc]"
   ]
  },
  {
   "cell_type": "code",
   "execution_count": 359,
   "metadata": {},
   "outputs": [
    {
     "data": {
      "image/png": "[encoded data removed]",
      "text/plain": [
       "<Figure size 600x400 with 1 Axes>"
      ]
     },
     "metadata": {},
     "output_type": "display_data"
    }
   ],
   "source": [
    "import matplotlib.pyplot as plt\n",
    "import scienceplots\n",
    "# Creating the plot\n",
    "with plt.style.context('science'):\n",
    "    plt.figure(figsize=(6,4))\n",
    "    plt.plot(top_possible_values, values)  # Plot x vs y\n",
    "    \n",
    "    x = top_possible_values\n",
    "    y = values\n",
    "\n",
    "    # Creating the plot\n",
    "    plt.plot(x, y, marker='o')  # Adding markers for each point\n",
    "\n",
    "    # Adding horizontal lines from each y-point to the x-axis\n",
    "    for x_val, y_val in zip(x, y):\n",
    "        plt.hlines(y_val, xmin=0, xmax=x_val, linestyles='dotted', colors='grey', linewidth = 0.5)\n",
    "\n",
    "    # Adding vertical lines from each x-point to the y-axis\n",
    "    for x_val, y_val in zip(x, y):\n",
    "        plt.vlines(x_val, ymin=0, ymax=y_val, linestyles='dotted', colors='grey', linewidth = 0.5)\n",
    "\n",
    "    # Adjusting x-ticks\n",
    "    x_tick_interval = 10  # Adjust this value as needed for optimal spacing\n",
    "    x_ticks = np.arange(np.min(x), np.max(x) + x_tick_interval, x_tick_interval)\n",
    "    plt.xticks(x_ticks)\n",
    "    # Adjusting y-ticks\n",
    "    y_tick_interval = 5  # Adjust this value as needed for optimal spacing\n",
    "    y_ticks = np.arange(np.min(y), np.max(y) + y_tick_interval, y_tick_interval)\n",
    "    plt.yticks(y_ticks)\n",
    "\n",
    "    # Adding a transparent rectangle\n",
    "    plt.axvspan(5, 20, color='blue', alpha=0.3)  # Span from x=5 to x=10\n",
    "\n",
    "\n",
    "    # Adding title and labels\n",
    "    plt.title(\"Expert post participation by 'X'\")\n",
    "    plt.xlabel(\"'X' values\")\n",
    "    plt.ylabel(\"Percentage of participation\")\n",
    "\n",
    "    # Displaying the plot\n",
    "    plt.show()"
   ]
  }
 ],
 "metadata": {
  "kernelspec": {
   "display_name": "sg_i",
   "language": "python",
   "name": "python3"
  },
  "language_info": {
   "codemirror_mode": {
    "name": "ipython",
    "version": 3
   },
   "file_extension": ".py",
   "mimetype": "text/x-python",
   "name": "python",
   "nbconvert_exporter": "python",
   "pygments_lexer": "ipython3",
   "version": "3.11.4"
  }
 },
 "nbformat": 4,
 "nbformat_minor": 2
}
