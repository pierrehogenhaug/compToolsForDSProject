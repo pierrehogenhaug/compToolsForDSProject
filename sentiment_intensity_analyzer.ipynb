{
 "cells": [
  {
   "cell_type": "code",
   "execution_count": 1,
   "metadata": {
    "ExecuteTime": {
     "end_time": "2023-11-28T11:18:12.589485600Z",
     "start_time": "2023-11-28T11:18:06.657425100Z"
    }
   },
   "outputs": [],
   "source": [
    "from dask.diagnostics import ProgressBar\n",
    "from dask.distributed import Client\n",
    "from nltk.corpus import stopwords\n",
    "from nltk.sentiment import SentimentIntensityAnalyzer\n",
    "from nltk.stem import WordNetLemmatizer, PorterStemmer\n",
    "\n",
    "import dask.dataframe as dd\n",
    "import html\n",
    "import matplotlib.pyplot as plt\n",
    "import numpy as np\n",
    "import psutil\n",
    "import pandas as pd\n",
    "import pickle as pkl\n",
    "import re\n",
    "import time"
   ]
  },
  {
   "cell_type": "code",
   "execution_count": 2,
   "metadata": {
    "ExecuteTime": {
     "end_time": "2023-11-28T11:19:15.856006900Z",
     "start_time": "2023-11-28T11:18:12.593496400Z"
    }
   },
   "outputs": [],
   "source": [
    "# Read the data\n",
    "df_comments_1 = pd.read_pickle('C:/Users/Julia/Downloads/comments_typecasted_1.pkl')\n",
    "df_comments_2 = pd.read_pickle('C:/Users/Julia/Downloads/comments_typecasted_2.pkl')\n",
    "df_comments_3 = pd.read_pickle('C:/Users/Julia/Downloads/comments_typecasted_3.pkl')\n",
    "df_comments_4 = pd.read_pickle('C:/Users/Julia/Downloads/comments_typecasted_4.pkl')\n",
    "df_comments_5 = pd.read_pickle('C:/Users/Julia/Downloads/comments_typecasted_5.pkl')\n",
    "\n",
    "df_comments = pd.concat([df_comments_1, df_comments_2, df_comments_3, df_comments_4, df_comments_5])\n",
    "\n",
    "df_posts_1 = pd.read_pickle('C:/Users/Julia/Downloads/posts_typecasted_1.pkl')\n",
    "df_posts_2 = pd.read_pickle('C:/Users/Julia/Downloads/posts_typecasted_2.pkl')\n",
    "df_posts_3 = pd.read_pickle('C:/Users/Julia/Downloads/posts_typecasted_3.pkl')\n",
    "df_posts_4 = pd.read_pickle('C:/Users/Julia/Downloads/posts_typecasted_4.pkl')\n",
    "\n",
    "df_topics_1 = pd.read_pickle('C:/Users/Julia/Downloads/picklefiles/posts_with_topic_1.pkl')\n",
    "df_topics_2 = pd.read_pickle('C:/Users/Julia/Downloads/picklefiles/posts_with_topic_2.pkl')\n",
    "df_topics_3 = pd.read_pickle('C:/Users/Julia/Downloads/picklefiles/posts_with_topic_3.pkl')\n",
    "df_topics_4 = pd.read_pickle('C:/Users/Julia/Downloads/picklefiles/posts_with_topic_4.pkl')\n",
    "\n",
    "df_posts = pd.concat([df_posts_1,df_posts_2,df_posts_3,df_posts_4])\n",
    "df_topics = pd.concat([df_topics_1,df_topics_2,df_topics_3,df_topics_4])\n",
    "\n",
    "df_users = pd.read_pickle('C:/Users/Julia/Documents/CompTools/users_typecasted.pkl')\n",
    "df_users = df_users.loc[df_users['Id'] > 0]"
   ]
  },
  {
   "cell_type": "code",
   "execution_count": 3,
   "metadata": {
    "ExecuteTime": {
     "end_time": "2023-11-28T11:19:15.910562500Z",
     "start_time": "2023-11-28T11:19:15.862018500Z"
    }
   },
   "outputs": [
    {
     "data": {
      "text/plain": "                Id  PostTypeId  ParentId  AcceptedAnswerId  \\\n150            307           2       260                -1   \n160            337           1        -1               342   \n162            342           2       337                -1   \n195            469           1        -1              3040   \n197            471           2       337                -1   \n...            ...         ...       ...               ...   \n59171855  77031662           1        -1                -1   \n59171857  77031664           1        -1                -1   \n59171873  77031681           1        -1                -1   \n59171876  77031684           1        -1                -1   \n59171892  77031700           1        -1                -1   \n\n                    CreationDate  Score  ViewCount  \\\n150      2008-08-02 01:49:46.220     43         -1   \n160      2008-08-02 03:35:55.697     82      10424   \n162      2008-08-02 04:01:34.600     36         -1   \n195      2008-08-02 15:11:16.430     48       4837   \n197      2008-08-02 15:21:03.587     33         -1   \n...                          ...    ...        ...   \n59171855 2023-09-03 09:21:50.950      0          9   \n59171857 2023-09-03 09:22:27.673     -1          7   \n59171873 2023-09-03 09:28:20.777      0          5   \n59171876 2023-09-03 09:30:08.627      0         11   \n59171892 2023-09-03 09:33:40.880      0          7   \n\n                                                       Body  OwnerUserId  \\\n150       <p><a href=\"https://www.codeproject.com/Articl...           49   \n160       <p>I am about to build a piece of a project th...          111   \n162       <p>Personally, I've played with several of the...           59   \n195       <p>I am using the Photoshop's javascript API t...          147   \n197       <p><a href=\"http://effbot.org/zone/element-ind...          147   \n...                                                     ...          ...   \n59171855  <p>Write a Python function named bookStore tha...     22491996   \n59171857  <p>i have a problem with updating the text box...     21080209   \n59171873  <p>I've setup a django cms site for a friend s...      5568154   \n59171876  <p>I think I'm having an integer overflow issu...      9884278   \n59171892  <p>I am using a Python library to read a binar...     12450769   \n\n                LastActivityDate  \\\n150      2019-12-24 07:28:19.907   \n160      2021-11-12 18:56:21.143   \n162      2008-08-02 04:01:34.600   \n195      2022-12-15 07:51:30.287   \n197      2008-08-02 15:21:03.587   \n...                          ...   \n59171855 2023-09-03 09:21:50.950   \n59171857 2023-09-03 09:22:27.673   \n59171873 2023-09-03 09:28:20.777   \n59171876 2023-09-03 09:34:06.857   \n59171892 2023-09-03 09:33:40.880   \n\n                                                      Title  \\\n150                                            Comment: N/A   \n160                                XML Processing in Python   \n162                                            Comment: N/A   \n195       How can I find the full path to a font from it...   \n197                                            Comment: N/A   \n...                                                     ...   \n59171855  How do I make sure I'm only taking a certain v...   \n59171857               Updating Textbox on a real time Chat   \n59171873  Django CMS cms_plugin setup for a message form...   \n59171876       Integer Overflow when Passing Arguments in C   \n59171892  Releasing memory after deleting object in Python?   \n\n                                       Tags  AnswerCount  CommentCount  \n150                            Comment: N/A           -1             3  \n160                           <python><xml>           12             1  \n162                            Comment: N/A           -1             1  \n195       <python><macos><fonts><photoshop>            6             0  \n197                            Comment: N/A           -1             2  \n...                                     ...          ...           ...  \n59171855     <python><function><dictionary>            0             1  \n59171857  <python><function><pycharm><chat>            0             0  \n59171873               <django><django-cms>            0             0  \n59171876              <c><integer-overflow>            1             1  \n59171892                   <python><memory>            0             0  \n\n[3802836 rows x 14 columns]",
      "text/html": "<div>\n<style scoped>\n    .dataframe tbody tr th:only-of-type {\n        vertical-align: middle;\n    }\n\n    .dataframe tbody tr th {\n        vertical-align: top;\n    }\n\n    .dataframe thead th {\n        text-align: right;\n    }\n</style>\n<table border=\"1\" class=\"dataframe\">\n  <thead>\n    <tr style=\"text-align: right;\">\n      <th></th>\n      <th>Id</th>\n      <th>PostTypeId</th>\n      <th>ParentId</th>\n      <th>AcceptedAnswerId</th>\n      <th>CreationDate</th>\n      <th>Score</th>\n      <th>ViewCount</th>\n      <th>Body</th>\n      <th>OwnerUserId</th>\n      <th>LastActivityDate</th>\n      <th>Title</th>\n      <th>Tags</th>\n      <th>AnswerCount</th>\n      <th>CommentCount</th>\n    </tr>\n  </thead>\n  <tbody>\n    <tr>\n      <th>150</th>\n      <td>307</td>\n      <td>2</td>\n      <td>260</td>\n      <td>-1</td>\n      <td>2008-08-02 01:49:46.220</td>\n      <td>43</td>\n      <td>-1</td>\n      <td>&lt;p&gt;&lt;a href=\"https://www.codeproject.com/Articl...</td>\n      <td>49</td>\n      <td>2019-12-24 07:28:19.907</td>\n      <td>Comment: N/A</td>\n      <td>Comment: N/A</td>\n      <td>-1</td>\n      <td>3</td>\n    </tr>\n    <tr>\n      <th>160</th>\n      <td>337</td>\n      <td>1</td>\n      <td>-1</td>\n      <td>342</td>\n      <td>2008-08-02 03:35:55.697</td>\n      <td>82</td>\n      <td>10424</td>\n      <td>&lt;p&gt;I am about to build a piece of a project th...</td>\n      <td>111</td>\n      <td>2021-11-12 18:56:21.143</td>\n      <td>XML Processing in Python</td>\n      <td>&lt;python&gt;&lt;xml&gt;</td>\n      <td>12</td>\n      <td>1</td>\n    </tr>\n    <tr>\n      <th>162</th>\n      <td>342</td>\n      <td>2</td>\n      <td>337</td>\n      <td>-1</td>\n      <td>2008-08-02 04:01:34.600</td>\n      <td>36</td>\n      <td>-1</td>\n      <td>&lt;p&gt;Personally, I've played with several of the...</td>\n      <td>59</td>\n      <td>2008-08-02 04:01:34.600</td>\n      <td>Comment: N/A</td>\n      <td>Comment: N/A</td>\n      <td>-1</td>\n      <td>1</td>\n    </tr>\n    <tr>\n      <th>195</th>\n      <td>469</td>\n      <td>1</td>\n      <td>-1</td>\n      <td>3040</td>\n      <td>2008-08-02 15:11:16.430</td>\n      <td>48</td>\n      <td>4837</td>\n      <td>&lt;p&gt;I am using the Photoshop's javascript API t...</td>\n      <td>147</td>\n      <td>2022-12-15 07:51:30.287</td>\n      <td>How can I find the full path to a font from it...</td>\n      <td>&lt;python&gt;&lt;macos&gt;&lt;fonts&gt;&lt;photoshop&gt;</td>\n      <td>6</td>\n      <td>0</td>\n    </tr>\n    <tr>\n      <th>197</th>\n      <td>471</td>\n      <td>2</td>\n      <td>337</td>\n      <td>-1</td>\n      <td>2008-08-02 15:21:03.587</td>\n      <td>33</td>\n      <td>-1</td>\n      <td>&lt;p&gt;&lt;a href=\"http://effbot.org/zone/element-ind...</td>\n      <td>147</td>\n      <td>2008-08-02 15:21:03.587</td>\n      <td>Comment: N/A</td>\n      <td>Comment: N/A</td>\n      <td>-1</td>\n      <td>2</td>\n    </tr>\n    <tr>\n      <th>...</th>\n      <td>...</td>\n      <td>...</td>\n      <td>...</td>\n      <td>...</td>\n      <td>...</td>\n      <td>...</td>\n      <td>...</td>\n      <td>...</td>\n      <td>...</td>\n      <td>...</td>\n      <td>...</td>\n      <td>...</td>\n      <td>...</td>\n      <td>...</td>\n    </tr>\n    <tr>\n      <th>59171855</th>\n      <td>77031662</td>\n      <td>1</td>\n      <td>-1</td>\n      <td>-1</td>\n      <td>2023-09-03 09:21:50.950</td>\n      <td>0</td>\n      <td>9</td>\n      <td>&lt;p&gt;Write a Python function named bookStore tha...</td>\n      <td>22491996</td>\n      <td>2023-09-03 09:21:50.950</td>\n      <td>How do I make sure I'm only taking a certain v...</td>\n      <td>&lt;python&gt;&lt;function&gt;&lt;dictionary&gt;</td>\n      <td>0</td>\n      <td>1</td>\n    </tr>\n    <tr>\n      <th>59171857</th>\n      <td>77031664</td>\n      <td>1</td>\n      <td>-1</td>\n      <td>-1</td>\n      <td>2023-09-03 09:22:27.673</td>\n      <td>-1</td>\n      <td>7</td>\n      <td>&lt;p&gt;i have a problem with updating the text box...</td>\n      <td>21080209</td>\n      <td>2023-09-03 09:22:27.673</td>\n      <td>Updating Textbox on a real time Chat</td>\n      <td>&lt;python&gt;&lt;function&gt;&lt;pycharm&gt;&lt;chat&gt;</td>\n      <td>0</td>\n      <td>0</td>\n    </tr>\n    <tr>\n      <th>59171873</th>\n      <td>77031681</td>\n      <td>1</td>\n      <td>-1</td>\n      <td>-1</td>\n      <td>2023-09-03 09:28:20.777</td>\n      <td>0</td>\n      <td>5</td>\n      <td>&lt;p&gt;I've setup a django cms site for a friend s...</td>\n      <td>5568154</td>\n      <td>2023-09-03 09:28:20.777</td>\n      <td>Django CMS cms_plugin setup for a message form...</td>\n      <td>&lt;django&gt;&lt;django-cms&gt;</td>\n      <td>0</td>\n      <td>0</td>\n    </tr>\n    <tr>\n      <th>59171876</th>\n      <td>77031684</td>\n      <td>1</td>\n      <td>-1</td>\n      <td>-1</td>\n      <td>2023-09-03 09:30:08.627</td>\n      <td>0</td>\n      <td>11</td>\n      <td>&lt;p&gt;I think I'm having an integer overflow issu...</td>\n      <td>9884278</td>\n      <td>2023-09-03 09:34:06.857</td>\n      <td>Integer Overflow when Passing Arguments in C</td>\n      <td>&lt;c&gt;&lt;integer-overflow&gt;</td>\n      <td>1</td>\n      <td>1</td>\n    </tr>\n    <tr>\n      <th>59171892</th>\n      <td>77031700</td>\n      <td>1</td>\n      <td>-1</td>\n      <td>-1</td>\n      <td>2023-09-03 09:33:40.880</td>\n      <td>0</td>\n      <td>7</td>\n      <td>&lt;p&gt;I am using a Python library to read a binar...</td>\n      <td>12450769</td>\n      <td>2023-09-03 09:33:40.880</td>\n      <td>Releasing memory after deleting object in Python?</td>\n      <td>&lt;python&gt;&lt;memory&gt;</td>\n      <td>0</td>\n      <td>0</td>\n    </tr>\n  </tbody>\n</table>\n<p>3802836 rows × 14 columns</p>\n</div>"
     },
     "execution_count": 3,
     "metadata": {},
     "output_type": "execute_result"
    }
   ],
   "source": [
    "df_posts"
   ]
  },
  {
   "cell_type": "markdown",
   "metadata": {},
   "source": [
    "### Filter active users (>50 posts/comments)"
   ]
  },
  {
   "cell_type": "code",
   "execution_count": 4,
   "metadata": {
    "ExecuteTime": {
     "end_time": "2023-11-28T11:19:41.324793600Z",
     "start_time": "2023-11-28T11:19:15.912075900Z"
    }
   },
   "outputs": [
    {
     "name": "stdout",
     "output_type": "stream",
     "text": [
      "Questions DataFrame shape: (3802836, 14)\n",
      "Filtered Questions DataFrame shape: (216559, 14) \n",
      "\n",
      "Comments DataFrame shape: (47612714, 6)\n",
      "Filtered Comments DataFrame shape: (141597, 6) \n"
     ]
    }
   ],
   "source": [
    "# Filtering posts to include only questions and answers\n",
    "filtered_posts_df = df_posts[df_posts['PostTypeId'].isin([1, 2])]\n",
    "\n",
    "# Calculating post and comment counts for each user\n",
    "user_posts_count = filtered_posts_df[filtered_posts_df['PostTypeId'] == 1].groupby('OwnerUserId').size().rename('PostCount')\n",
    "user_answers_count = filtered_posts_df[filtered_posts_df['PostTypeId'] == 2].groupby('OwnerUserId').size().rename('AnswerCount')\n",
    "user_comments_count = df_comments.groupby('UserId').size().rename('CommentCount')\n",
    "\n",
    "#Calculating the number of accepted answers for each user\n",
    "accepted_answers_ids = set(filtered_posts_df[(filtered_posts_df['PostTypeId'] == 1) & (filtered_posts_df['OwnerUserId'] > -1)]['AcceptedAnswerId'])\n",
    "user_accepted_answers_count = filtered_posts_df[filtered_posts_df['Id'].isin(filtered_posts_df[filtered_posts_df['AcceptedAnswerId'] > 0]['AcceptedAnswerId'])].groupby('OwnerUserId').size().rename('AcceptedAnswerCount')\n",
    "\n",
    "\n",
    "# Merging counts with user data and filling missing values\n",
    "user_data = df_users.merge(user_posts_count, left_on='Id',  right_on='OwnerUserId', how='left') \\\n",
    "                    .merge(user_comments_count, left_on='Id', right_on='UserId', how='left') \\\n",
    "                    .merge(user_accepted_answers_count, left_on='Id', right_on='OwnerUserId', how='left') \\\n",
    "                    .merge(user_answers_count, left_on='Id', right_on='OwnerUserId', how='left') \\\n",
    "                    .fillna({'PostCount': 0, 'CommentCount': 0, 'AcceptedAnswerCount': 0, 'AnswerCount': 0})\n",
    "\n",
    "# Adding a column for total activity and filtering for active users\n",
    "active_users = user_data.assign(TotalActivity=lambda x: x['PostCount'] + x['CommentCount'] + x['AnswerCount'])\n",
    "active_users = active_users[active_users['TotalActivity'] > 50]\n",
    "active_users = active_users.sample(frac=0.1)\n",
    "\n",
    "# Creating a set of active user IDs\n",
    "active_user_ids = set(active_users['Id'])\n",
    "\n",
    "# Filtering dataframes for active user activity\n",
    "filtered_active_posts_df = filtered_posts_df[filtered_posts_df['OwnerUserId'].isin(active_user_ids)]\n",
    "\n",
    "# Identifying posts where the parent post is owned by an active user\n",
    "parent_posts_of_active_users = filtered_posts_df[filtered_posts_df['ParentId'].isin(filtered_active_posts_df['Id'])]\n",
    "\n",
    "# Including these posts in the filtered_active_posts_df\n",
    "filtered_active_posts_df = pd.concat([filtered_active_posts_df, parent_posts_of_active_users]).drop_duplicates()\n",
    "\n",
    "# Gathering Post IDs and Parent IDs for active users\n",
    "active_user_post_ids = set(filtered_active_posts_df['Id'])\n",
    "active_user_answers = filtered_posts_df[(filtered_posts_df['PostTypeId'] == 2) & (filtered_posts_df['OwnerUserId'].isin(active_user_ids))]\n",
    "active_user_answer_parent_ids = set(active_user_answers['ParentId'])\n",
    "\n",
    "# Average answer and post score for each user\n",
    "avg_answer_score = active_user_answers.groupby('OwnerUserId')['Score'].mean().rename('AvgAnswerScore')\n",
    "avg_post_score = filtered_active_posts_df[filtered_active_posts_df['PostTypeId'] == 1].groupby('OwnerUserId')['Score'].mean().rename('AvgPostScore')\n",
    "\n",
    "\n",
    "active_users = active_users.merge(avg_answer_score, left_on='Id', right_on='OwnerUserId', how='left').fillna({'AvgAnswerScore': 0}) \\\n",
    "    .merge(avg_post_score, left_on='Id', right_on='OwnerUserId', how='left').fillna({'AvgPostScore': 0})\n",
    "active_users['AcceptedAnswerFraction'] = active_users['AcceptedAnswerCount'] / active_users['AnswerCount']\n",
    "\n",
    "# Filtering comments for active users and their related posts\n",
    "filtered_comments = df_comments[(df_comments['PostId'].isin(active_user_answers['Id']))].drop_duplicates()\n",
    "\n",
    "# Printing shapes for comparison\n",
    "print(\"Questions DataFrame shape:\", df_posts.shape)\n",
    "print(\"Filtered Questions DataFrame shape:\", filtered_active_posts_df.shape, '\\n')\n",
    "\n",
    "print(\"Comments DataFrame shape:\", df_comments.shape)\n",
    "print(\"Filtered Comments DataFrame shape:\", filtered_comments.shape, '\\n')"
   ]
  },
  {
   "cell_type": "code",
   "execution_count": 5,
   "outputs": [
    {
     "name": "stdout",
     "output_type": "stream",
     "text": [
      "Sample of users: 11810, fraction of total: 0.010574818858098646\n",
      "Sampled users authored, answered or commented 216559 posts, fraction of total: 0.05694671029726236\n"
     ]
    }
   ],
   "source": [
    "print(f\"Sample of users: {len(active_users['Id'].unique())}, fraction of total: {len(active_users['Id'].unique()) / len(df_users['Id'].unique())}\")\n",
    "print(f\"Sampled users authored, answered or commented {len(filtered_active_posts_df['Id'].unique())} posts, fraction of total: {len(filtered_active_posts_df['Id'].unique()) / len(df_posts['Id'].unique())}\")"
   ],
   "metadata": {
    "collapsed": false,
    "ExecuteTime": {
     "end_time": "2023-11-28T11:19:41.820787600Z",
     "start_time": "2023-11-28T11:19:41.319274Z"
    }
   }
  },
  {
   "cell_type": "markdown",
   "metadata": {},
   "source": [
    "### Option: Filter posts from Recent year (maybe less deleted users)"
   ]
  },
  {
   "cell_type": "code",
   "execution_count": 13,
   "metadata": {},
   "outputs": [
    {
     "data": {
      "text/html": [
       "<div>\n",
       "<style scoped>\n",
       "    .dataframe tbody tr th:only-of-type {\n",
       "        vertical-align: middle;\n",
       "    }\n",
       "\n",
       "    .dataframe tbody tr th {\n",
       "        vertical-align: top;\n",
       "    }\n",
       "\n",
       "    .dataframe thead th {\n",
       "        text-align: right;\n",
       "    }\n",
       "</style>\n",
       "<table border=\"1\" class=\"dataframe\">\n",
       "  <thead>\n",
       "    <tr style=\"text-align: right;\">\n",
       "      <th></th>\n",
       "      <th>Deleted Comments (%)</th>\n",
       "      <th>Deleted Posts (%)</th>\n",
       "    </tr>\n",
       "    <tr>\n",
       "      <th>CreationDate</th>\n",
       "      <th></th>\n",
       "      <th></th>\n",
       "    </tr>\n",
       "  </thead>\n",
       "  <tbody>\n",
       "    <tr>\n",
       "      <th>2008-08</th>\n",
       "      <td>0.0</td>\n",
       "      <td>1.358234</td>\n",
       "    </tr>\n",
       "    <tr>\n",
       "      <th>2009-02</th>\n",
       "      <td>0.0</td>\n",
       "      <td>4.853264</td>\n",
       "    </tr>\n",
       "    <tr>\n",
       "      <th>2009-08</th>\n",
       "      <td>0.0</td>\n",
       "      <td>5.904742</td>\n",
       "    </tr>\n",
       "    <tr>\n",
       "      <th>2010-02</th>\n",
       "      <td>0.0</td>\n",
       "      <td>2.602338</td>\n",
       "    </tr>\n",
       "    <tr>\n",
       "      <th>2010-08</th>\n",
       "      <td>0.0</td>\n",
       "      <td>1.600119</td>\n",
       "    </tr>\n",
       "  </tbody>\n",
       "</table>\n",
       "</div>"
      ],
      "text/plain": [
       "              Deleted Comments (%)  Deleted Posts (%)\n",
       "CreationDate                                         \n",
       "2008-08                        0.0           1.358234\n",
       "2009-02                        0.0           4.853264\n",
       "2009-08                        0.0           5.904742\n",
       "2010-02                        0.0           2.602338\n",
       "2010-08                        0.0           1.600119"
      ]
     },
     "execution_count": 13,
     "metadata": {},
     "output_type": "execute_result"
    }
   ],
   "source": [
    "# Convert 'CreationDate' to datetime format once for the main DataFrames\n",
    "df_comments['CreationDate'] = pd.to_datetime(df_comments['CreationDate'])\n",
    "df_posts['CreationDate'] = pd.to_datetime(df_posts['CreationDate'])\n",
    "\n",
    "# Identify deleted comments and posts\n",
    "deleted_comments = df_comments[df_comments['UserId'] == -1]\n",
    "deleted_posts = df_posts[df_posts['OwnerUserId'] == -1]\n",
    "\n",
    "# Resample and count deleted entries every half year\n",
    "semi_annual_deleted_comments = deleted_comments.resample('6M', on='CreationDate').count()['Id']\n",
    "semi_annual_deleted_posts = deleted_posts.resample('6M', on='CreationDate').count()['Id']\n",
    "\n",
    "# Resample and count total entries every half year\n",
    "semi_annual_total_comments = df_comments.resample('6M', on='CreationDate').count()['Id']\n",
    "semi_annual_total_posts = df_posts.resample('6M', on='CreationDate').count()['Id']\n",
    "\n",
    "# Calculate the percentage of deleted comments and posts (handling division by zero)\n",
    "semi_annual_deleted_comments_percentage = (semi_annual_deleted_comments / semi_annual_total_comments.replace(0, np.nan)) * 100\n",
    "semi_annual_deleted_posts_percentage = (semi_annual_deleted_posts / semi_annual_total_posts.replace(0, np.nan)) * 100\n",
    "\n",
    "# Combine the results into a single DataFrame for visualization\n",
    "semi_annual_percentage = pd.DataFrame({\n",
    "    'Deleted Comments (%)': semi_annual_deleted_comments_percentage,\n",
    "    'Deleted Posts (%)': semi_annual_deleted_posts_percentage\n",
    "}).fillna(0)  # fill NaN with 0 (in case of divisions by zero)\n",
    "\n",
    "# Formatting the index for better readability\n",
    "semi_annual_percentage.index = semi_annual_percentage.index.strftime('%Y-%m')\n",
    "\n",
    "# Displaying the DataFrame\n",
    "semi_annual_percentage.head()"
   ]
  },
  {
   "cell_type": "code",
   "execution_count": 14,
   "metadata": {},
   "outputs": [
    {
     "data": {
      "image/png": "[encoded data removed]",
      "text/plain": [
       "<Figure size 1000x600 with 1 Axes>"
      ]
     },
     "metadata": {},
     "output_type": "display_data"
    }
   ],
   "source": [
    "# Plotting the data\n",
    "plt.figure(figsize=(10, 6))\n",
    "semi_annual_percentage.plot(kind='bar', ax=plt.gca())\n",
    "plt.title('Percentage of Deleted Users in Comments and Posts (Semi-Annually)')\n",
    "plt.xlabel('6-Month Intervals')\n",
    "plt.ylabel('Percentage')\n",
    "plt.xticks(rotation=45)\n",
    "plt.grid(True)\n",
    "plt.show()"
   ]
  },
  {
   "cell_type": "markdown",
   "metadata": {},
   "source": [
    "### Filtering before the storm"
   ]
  },
  {
   "cell_type": "code",
   "execution_count": 6,
   "metadata": {},
   "outputs": [
    {
     "name": "stdout",
     "output_type": "stream",
     "text": [
      "(42199170, 6)\n",
      "(1865160, 14)\n",
      "(42092110, 6)\n",
      "(1797023, 14)\n"
     ]
    }
   ],
   "source": [
    "print(filtered_comments.shape)\n",
    "print(filtered_active_posts_df.shape)\n",
    "\n",
    "# Removing entries with -1 in UserId and OwnerUserId columns\n",
    "#filtered_comments = filtered_comments[filtered_comments['UserId'] != -1]\n",
    "\n",
    "filtered_active_posts_df = filtered_active_posts_df[filtered_active_posts_df['OwnerUserId'] != -1]\n",
    "\n",
    "print(filtered_comments.shape)\n",
    "print(filtered_active_posts_df.shape)"
   ]
  },
  {
   "cell_type": "markdown",
   "metadata": {},
   "source": [
    "### Preprocess text"
   ]
  },
  {
   "cell_type": "code",
   "execution_count": 6,
   "metadata": {
    "ExecuteTime": {
     "end_time": "2023-11-28T11:19:41.841817500Z",
     "start_time": "2023-11-28T11:19:41.827787700Z"
    }
   },
   "outputs": [],
   "source": [
    "# Modify preprocess_text function\n",
    "def preprocess_text(text, remove_stopwords=False, use_lemmatize=True, use_stemmer=False):\n",
    "    # Handle None or non-string inputs\n",
    "    if not isinstance(text, str):\n",
    "        return \"\"\n",
    "        \n",
    "    # Decode HTML entities\n",
    "    text = html.unescape(text)\n",
    "\n",
    "    # Remove HTML tags\n",
    "    text = re.sub(r'<[^>]+>', '', text)\n",
    "\n",
    "    # Remove non-alphanumeric characters and convert to lowercase\n",
    "    text = re.sub(r'[^a-zA-Z0-9]', ' ', text.lower())\n",
    "\n",
    "    words = text.split()\n",
    "    if remove_stopwords:\n",
    "        words = [word for word in words if word not in stopwords.words('english')]\n",
    "    if use_lemmatize:\n",
    "        lemmatizer = WordNetLemmatizer()\n",
    "        words = [lemmatizer.lemmatize(word) for word in words]\n",
    "    elif use_stemmer:  # Apply stemming only if use_stemmer is True\n",
    "        stemmer = PorterStemmer()\n",
    "        words = [stemmer.stem(word) for word in words]\n",
    "\n",
    "    text = ' '.join(words)\n",
    "    \n",
    "    return text"
   ]
  },
  {
   "cell_type": "code",
   "execution_count": 7,
   "metadata": {
    "ExecuteTime": {
     "end_time": "2023-11-28T11:19:41.971100200Z",
     "start_time": "2023-11-28T11:19:41.832302100Z"
    }
   },
   "outputs": [],
   "source": [
    "# Preprocess Title, Body, and Tags using Dask DataFrames\n",
    "# Convert the DFs to Dask DataFrames\n",
    "ddf_comments = dd.from_pandas(filtered_comments, npartitions=8)"
   ]
  },
  {
   "cell_type": "code",
   "execution_count": 8,
   "metadata": {
    "ExecuteTime": {
     "end_time": "2023-11-28T11:29:57.672516800Z",
     "start_time": "2023-11-28T11:19:41.972596500Z"
    }
   },
   "outputs": [],
   "source": [
    "# Preprocess Columns\n",
    "ddf_comments['Text_Processed'] = ddf_comments['Text'].map_partitions(lambda x: x.apply(lambda y: preprocess_text(y, remove_stopwords=True, use_lemmatize=True, use_stemmer=False)))\n",
    "\n",
    "# Convert back to pandas DataFrame\n",
    "df_comments_processed = ddf_comments.compute()"
   ]
  },
  {
   "cell_type": "markdown",
   "metadata": {},
   "source": [
    "### Estimate memory usage"
   ]
  },
  {
   "cell_type": "code",
   "execution_count": 9,
   "metadata": {
    "ExecuteTime": {
     "end_time": "2023-11-28T11:29:57.706070300Z",
     "start_time": "2023-11-28T11:29:57.677032300Z"
    }
   },
   "outputs": [],
   "source": [
    "# Initialize SentimentIntensityAnalyzer once\n",
    "sia = SentimentIntensityAnalyzer()\n",
    "\n",
    "# Function to apply sentiment analysis\n",
    "def analyze_sentiment(text):\n",
    "    # Check if the text is missing or NaN, return 0.0 in such cases\n",
    "    if pd.isna(text):\n",
    "        return 0.0\n",
    "    # Ensure the text is encoded as a string\n",
    "    text = str(text)\n",
    "    return sia.polarity_scores(text)['compound']"
   ]
  },
  {
   "cell_type": "markdown",
   "metadata": {},
   "source": [
    "### Sentiment Analysis"
   ]
  },
  {
   "cell_type": "code",
   "execution_count": 10,
   "metadata": {
    "ExecuteTime": {
     "end_time": "2023-11-28T11:29:57.858329400Z",
     "start_time": "2023-11-28T11:29:57.705069100Z"
    }
   },
   "outputs": [],
   "source": [
    "# Convert pandas DataFrame to Dask DataFrame\n",
    "df_comments_dask = dd.from_pandas(df_comments_processed, npartitions=8)  # Adjust npartitions based on memory usage results\n",
    "#df_posts_dask = dd.from_pandas(df_posts_processed, npartitions=8)  # Adjust npartitions based on memory usage results\n",
    "\n",
    "# Apply sentiment analysis\n",
    "df_comments_dask['Text_sentiment'] = df_comments_dask['Text'].map(analyze_sentiment)"
   ]
  },
  {
   "cell_type": "code",
   "execution_count": 11,
   "metadata": {
    "ExecuteTime": {
     "end_time": "2023-11-28T11:30:24.582998100Z",
     "start_time": "2023-11-28T11:29:57.860831100Z"
    }
   },
   "outputs": [
    {
     "name": "stdout",
     "output_type": "stream",
     "text": [
      "[########################################] | 100% Completed | 26.71 ss\n"
     ]
    }
   ],
   "source": [
    "with ProgressBar():\n",
    "    df_comments_result = df_comments_dask.compute()"
   ]
  },
  {
   "cell_type": "code",
   "execution_count": 12,
   "metadata": {
    "ExecuteTime": {
     "end_time": "2023-11-28T11:30:24.650106100Z",
     "start_time": "2023-11-28T11:30:24.586509700Z"
    }
   },
   "outputs": [
    {
     "data": {
      "text/plain": "                 Id    PostId  Score  \\\n24728857   36412576  23696753      0   \n80775184  122194928  69136504      0   \n6031197     8839325   7321948      0   \n82368062  124723172  70555259      1   \n87248722  132577995  75128782      0   \n...             ...       ...    ...   \n64307366   96320803  54118118      0   \n62431754   93414853  53264664      0   \n5538674     8136453   6792011      0   \n50002565   74289825  42487357      0   \n1200577     1936042   2014141      6   \n\n                                                       Text  \\\n24728857  Oh look it's finally working after 3 hours! Ev...   \n80775184  Wow, what an amazing explanation: very calm, c...   \n6031197   Well I didn't want to do so because it's flame...   \n82368062  I do not know how to thank you to fit, when I ...   \n87248722  ah, it's a bit religious for such a class, but...   \n...                                                     ...   \n64307366  @cbasavaraj Thanks for the extra hints. I am a...   \n62431754  Re, \"'blocking' just means: won't voluntarily ...   \n5538674   Now it gives an error in the for loop where ar...   \n50002565  Alas, it failed on the python setup.py step: f...   \n1200577   @Skilldrick: you miss my point. What if foo do...   \n\n                    CreationDate    UserId  \\\n24728857 2014-05-16 14:05:58.440   3399642   \n80775184 2021-09-10 19:45:27.787  16870652   \n6031197  2011-09-07 07:54:37.877     11449   \n82368062 2022-01-02 12:24:51.603  15894995   \n87248722 2023-01-15 22:53:52.893   4541045   \n...                          ...       ...   \n64307366 2019-02-19 16:04:08.113   5269252   \n62431754 2018-11-12 15:35:20.680    801894   \n5538674  2011-07-27 12:50:24.433    799810   \n50002565 2017-04-25 20:29:04.637   4334041   \n1200577  2010-01-06 17:42:51.683    152580   \n\n                                             Text_Processed  Text_sentiment  \n24728857  oh look finally working 3 hour even though sti...          0.9898  \n80775184  wow amazing explanation calm clean step step e...          0.9897  \n6031197   well want flamefest area let put like python p...          0.9888  \n82368062  know thank fit solve equation excited tear kno...          0.9876  \n87248722  ah bit religious class prefer prefix help clea...          0.9872  \n...                                                     ...             ...  \n64307366  cbasavaraj thanks extra hint also struggling g...         -0.9733  \n62431754  blocking mean voluntarily yield real python pr...         -0.9761  \n5538674   give error loop argument added error state arg...         -0.9774  \n50002565  ala failed python setup py step fatal error ma...         -0.9799  \n1200577   skilldrick miss point foo attribute bar bar ba...         -0.9920  \n\n[141597 rows x 8 columns]",
      "text/html": "<div>\n<style scoped>\n    .dataframe tbody tr th:only-of-type {\n        vertical-align: middle;\n    }\n\n    .dataframe tbody tr th {\n        vertical-align: top;\n    }\n\n    .dataframe thead th {\n        text-align: right;\n    }\n</style>\n<table border=\"1\" class=\"dataframe\">\n  <thead>\n    <tr style=\"text-align: right;\">\n      <th></th>\n      <th>Id</th>\n      <th>PostId</th>\n      <th>Score</th>\n      <th>Text</th>\n      <th>CreationDate</th>\n      <th>UserId</th>\n      <th>Text_Processed</th>\n      <th>Text_sentiment</th>\n    </tr>\n  </thead>\n  <tbody>\n    <tr>\n      <th>24728857</th>\n      <td>36412576</td>\n      <td>23696753</td>\n      <td>0</td>\n      <td>Oh look it's finally working after 3 hours! Ev...</td>\n      <td>2014-05-16 14:05:58.440</td>\n      <td>3399642</td>\n      <td>oh look finally working 3 hour even though sti...</td>\n      <td>0.9898</td>\n    </tr>\n    <tr>\n      <th>80775184</th>\n      <td>122194928</td>\n      <td>69136504</td>\n      <td>0</td>\n      <td>Wow, what an amazing explanation: very calm, c...</td>\n      <td>2021-09-10 19:45:27.787</td>\n      <td>16870652</td>\n      <td>wow amazing explanation calm clean step step e...</td>\n      <td>0.9897</td>\n    </tr>\n    <tr>\n      <th>6031197</th>\n      <td>8839325</td>\n      <td>7321948</td>\n      <td>0</td>\n      <td>Well I didn't want to do so because it's flame...</td>\n      <td>2011-09-07 07:54:37.877</td>\n      <td>11449</td>\n      <td>well want flamefest area let put like python p...</td>\n      <td>0.9888</td>\n    </tr>\n    <tr>\n      <th>82368062</th>\n      <td>124723172</td>\n      <td>70555259</td>\n      <td>1</td>\n      <td>I do not know how to thank you to fit, when I ...</td>\n      <td>2022-01-02 12:24:51.603</td>\n      <td>15894995</td>\n      <td>know thank fit solve equation excited tear kno...</td>\n      <td>0.9876</td>\n    </tr>\n    <tr>\n      <th>87248722</th>\n      <td>132577995</td>\n      <td>75128782</td>\n      <td>0</td>\n      <td>ah, it's a bit religious for such a class, but...</td>\n      <td>2023-01-15 22:53:52.893</td>\n      <td>4541045</td>\n      <td>ah bit religious class prefer prefix help clea...</td>\n      <td>0.9872</td>\n    </tr>\n    <tr>\n      <th>...</th>\n      <td>...</td>\n      <td>...</td>\n      <td>...</td>\n      <td>...</td>\n      <td>...</td>\n      <td>...</td>\n      <td>...</td>\n      <td>...</td>\n    </tr>\n    <tr>\n      <th>64307366</th>\n      <td>96320803</td>\n      <td>54118118</td>\n      <td>0</td>\n      <td>@cbasavaraj Thanks for the extra hints. I am a...</td>\n      <td>2019-02-19 16:04:08.113</td>\n      <td>5269252</td>\n      <td>cbasavaraj thanks extra hint also struggling g...</td>\n      <td>-0.9733</td>\n    </tr>\n    <tr>\n      <th>62431754</th>\n      <td>93414853</td>\n      <td>53264664</td>\n      <td>0</td>\n      <td>Re, \"'blocking' just means: won't voluntarily ...</td>\n      <td>2018-11-12 15:35:20.680</td>\n      <td>801894</td>\n      <td>blocking mean voluntarily yield real python pr...</td>\n      <td>-0.9761</td>\n    </tr>\n    <tr>\n      <th>5538674</th>\n      <td>8136453</td>\n      <td>6792011</td>\n      <td>0</td>\n      <td>Now it gives an error in the for loop where ar...</td>\n      <td>2011-07-27 12:50:24.433</td>\n      <td>799810</td>\n      <td>give error loop argument added error state arg...</td>\n      <td>-0.9774</td>\n    </tr>\n    <tr>\n      <th>50002565</th>\n      <td>74289825</td>\n      <td>42487357</td>\n      <td>0</td>\n      <td>Alas, it failed on the python setup.py step: f...</td>\n      <td>2017-04-25 20:29:04.637</td>\n      <td>4334041</td>\n      <td>ala failed python setup py step fatal error ma...</td>\n      <td>-0.9799</td>\n    </tr>\n    <tr>\n      <th>1200577</th>\n      <td>1936042</td>\n      <td>2014141</td>\n      <td>6</td>\n      <td>@Skilldrick: you miss my point. What if foo do...</td>\n      <td>2010-01-06 17:42:51.683</td>\n      <td>152580</td>\n      <td>skilldrick miss point foo attribute bar bar ba...</td>\n      <td>-0.9920</td>\n    </tr>\n  </tbody>\n</table>\n<p>141597 rows × 8 columns</p>\n</div>"
     },
     "execution_count": 12,
     "metadata": {},
     "output_type": "execute_result"
    }
   ],
   "source": [
    "df_comments_result.sort_values(by='Text_sentiment', ascending=False)"
   ]
  },
  {
   "cell_type": "markdown",
   "metadata": {},
   "source": [
    "### Calculate average sentiment for each user"
   ]
  },
  {
   "cell_type": "code",
   "execution_count": null,
   "metadata": {},
   "outputs": [],
   "source": [
    "df_comments_result.to_pickle('df_comments_result.pkl')"
   ]
  },
  {
   "cell_type": "code",
   "execution_count": 13,
   "outputs": [
    {
     "data": {
      "text/plain": "                Id  PostTypeId  ParentId  AcceptedAnswerId  \\\n160            337           1        -1               342   \n195            469           1        -1              3040   \n202            502           1        -1              7090   \n215            535           1        -1               541   \n240            594           1        -1               595   \n...            ...         ...       ...               ...   \n59171855  77031662           1        -1                -1   \n59171857  77031664           1        -1                -1   \n59171873  77031681           1        -1                -1   \n59171876  77031684           1        -1                -1   \n59171892  77031700           1        -1                -1   \n\n                    CreationDate  Score  ViewCount  \\\n160      2008-08-02 03:35:55.697     82      10424   \n195      2008-08-02 15:11:16.430     48       4837   \n202      2008-08-02 17:01:58.500     59      17726   \n215      2008-08-02 18:43:54.787     69       9590   \n240      2008-08-03 01:15:08.507     55      58973   \n...                          ...    ...        ...   \n59171855 2023-09-03 09:21:50.950      0          9   \n59171857 2023-09-03 09:22:27.673     -1          7   \n59171873 2023-09-03 09:28:20.777      0          5   \n59171876 2023-09-03 09:30:08.627      0         11   \n59171892 2023-09-03 09:33:40.880      0          7   \n\n                                                       Body  OwnerUserId  \\\n160       <p>I am about to build a piece of a project th...          111   \n195       <p>I am using the Photoshop's javascript API t...          147   \n202       <p>I have a cross-platform (Python) applicatio...          147   \n215       <p>I am starting to work on a hobby project wi...          154   \n240       <p>There are several ways to iterate over a re...          116   \n...                                                     ...          ...   \n59171855  <p>Write a Python function named bookStore tha...     22491996   \n59171857  <p>i have a problem with updating the text box...     21080209   \n59171873  <p>I've setup a django cms site for a friend s...      5568154   \n59171876  <p>I think I'm having an integer overflow issu...      9884278   \n59171892  <p>I am using a Python library to read a binar...     12450769   \n\n                LastActivityDate  \\\n160      2021-11-12 18:56:21.143   \n195      2022-12-15 07:51:30.287   \n202      2020-06-17 20:47:48.287   \n215      2018-05-14 17:46:14.650   \n240      2016-10-15 20:47:11.027   \n...                          ...   \n59171855 2023-09-03 09:21:50.950   \n59171857 2023-09-03 09:22:27.673   \n59171873 2023-09-03 09:28:20.777   \n59171876 2023-09-03 09:34:06.857   \n59171892 2023-09-03 09:33:40.880   \n\n                                                      Title  \\\n160                                XML Processing in Python   \n195       How can I find the full path to a font from it...   \n202                 Get a preview JPEG of a PDF on Windows?   \n215       Continuous Integration System for a Python Cod...   \n240          cx_Oracle: How do I iterate over a result set?   \n...                                                     ...   \n59171855  How do I make sure I'm only taking a certain v...   \n59171857               Updating Textbox on a real time Chat   \n59171873  Django CMS cms_plugin setup for a message form...   \n59171876       Integer Overflow when Passing Arguments in C   \n59171892  Releasing memory after deleting object in Python?   \n\n                                                   Tags  AnswerCount  \\\n160                                              (xml,)           12   \n195                           (macos, fonts, photoshop)            6   \n202                               (windows, image, pdf)            3   \n215       (continuous-integration, extreme-programming)            7   \n240                  (sql, database, oracle, cx-oracle)            3   \n...                                                 ...          ...   \n59171855                         (function, dictionary)            0   \n59171857                      (function, pycharm, chat)            0   \n59171873                           (django, django-cms)            0   \n59171876                          (c, integer-overflow)            1   \n59171892                                      (memory,)            0   \n\n          CommentCount                                          Topic  \n160                  1  [0, 0, 0, 0, 0, 1, 0, 0, 0, 0, 0, 0, 0, 0, 0]  \n195                  0  [0, 0, 1, 1, 1, 0, 0, 0, 0, 0, 0, 0, 0, 0, 0]  \n202                  0  [0, 0, 1, 1, 0, 0, 0, 0, 0, 1, 0, 0, 0, 0, 0]  \n215                  0  [0, 0, 2, 0, 0, 0, 0, 0, 0, 0, 0, 0, 0, 0, 0]  \n240                  1  [0, 4, 0, 0, 0, 0, 0, 0, 0, 0, 0, 0, 0, 0, 0]  \n...                ...                                            ...  \n59171855             1  [2, 0, 0, 0, 0, 0, 0, 0, 0, 0, 0, 0, 0, 0, 0]  \n59171857             0  [1, 0, 2, 0, 0, 0, 0, 0, 0, 0, 0, 0, 0, 0, 0]  \n59171873             0  [0, 2, 0, 0, 0, 0, 0, 0, 0, 0, 0, 0, 0, 0, 0]  \n59171876             1  [1, 0, 1, 0, 0, 0, 0, 0, 0, 0, 0, 0, 0, 0, 0]  \n59171892             0  [0, 0, 1, 0, 0, 0, 0, 0, 0, 0, 0, 0, 0, 0, 0]  \n\n[2622597 rows x 15 columns]",
      "text/html": "<div>\n<style scoped>\n    .dataframe tbody tr th:only-of-type {\n        vertical-align: middle;\n    }\n\n    .dataframe tbody tr th {\n        vertical-align: top;\n    }\n\n    .dataframe thead th {\n        text-align: right;\n    }\n</style>\n<table border=\"1\" class=\"dataframe\">\n  <thead>\n    <tr style=\"text-align: right;\">\n      <th></th>\n      <th>Id</th>\n      <th>PostTypeId</th>\n      <th>ParentId</th>\n      <th>AcceptedAnswerId</th>\n      <th>CreationDate</th>\n      <th>Score</th>\n      <th>ViewCount</th>\n      <th>Body</th>\n      <th>OwnerUserId</th>\n      <th>LastActivityDate</th>\n      <th>Title</th>\n      <th>Tags</th>\n      <th>AnswerCount</th>\n      <th>CommentCount</th>\n      <th>Topic</th>\n    </tr>\n  </thead>\n  <tbody>\n    <tr>\n      <th>160</th>\n      <td>337</td>\n      <td>1</td>\n      <td>-1</td>\n      <td>342</td>\n      <td>2008-08-02 03:35:55.697</td>\n      <td>82</td>\n      <td>10424</td>\n      <td>&lt;p&gt;I am about to build a piece of a project th...</td>\n      <td>111</td>\n      <td>2021-11-12 18:56:21.143</td>\n      <td>XML Processing in Python</td>\n      <td>(xml,)</td>\n      <td>12</td>\n      <td>1</td>\n      <td>[0, 0, 0, 0, 0, 1, 0, 0, 0, 0, 0, 0, 0, 0, 0]</td>\n    </tr>\n    <tr>\n      <th>195</th>\n      <td>469</td>\n      <td>1</td>\n      <td>-1</td>\n      <td>3040</td>\n      <td>2008-08-02 15:11:16.430</td>\n      <td>48</td>\n      <td>4837</td>\n      <td>&lt;p&gt;I am using the Photoshop's javascript API t...</td>\n      <td>147</td>\n      <td>2022-12-15 07:51:30.287</td>\n      <td>How can I find the full path to a font from it...</td>\n      <td>(macos, fonts, photoshop)</td>\n      <td>6</td>\n      <td>0</td>\n      <td>[0, 0, 1, 1, 1, 0, 0, 0, 0, 0, 0, 0, 0, 0, 0]</td>\n    </tr>\n    <tr>\n      <th>202</th>\n      <td>502</td>\n      <td>1</td>\n      <td>-1</td>\n      <td>7090</td>\n      <td>2008-08-02 17:01:58.500</td>\n      <td>59</td>\n      <td>17726</td>\n      <td>&lt;p&gt;I have a cross-platform (Python) applicatio...</td>\n      <td>147</td>\n      <td>2020-06-17 20:47:48.287</td>\n      <td>Get a preview JPEG of a PDF on Windows?</td>\n      <td>(windows, image, pdf)</td>\n      <td>3</td>\n      <td>0</td>\n      <td>[0, 0, 1, 1, 0, 0, 0, 0, 0, 1, 0, 0, 0, 0, 0]</td>\n    </tr>\n    <tr>\n      <th>215</th>\n      <td>535</td>\n      <td>1</td>\n      <td>-1</td>\n      <td>541</td>\n      <td>2008-08-02 18:43:54.787</td>\n      <td>69</td>\n      <td>9590</td>\n      <td>&lt;p&gt;I am starting to work on a hobby project wi...</td>\n      <td>154</td>\n      <td>2018-05-14 17:46:14.650</td>\n      <td>Continuous Integration System for a Python Cod...</td>\n      <td>(continuous-integration, extreme-programming)</td>\n      <td>7</td>\n      <td>0</td>\n      <td>[0, 0, 2, 0, 0, 0, 0, 0, 0, 0, 0, 0, 0, 0, 0]</td>\n    </tr>\n    <tr>\n      <th>240</th>\n      <td>594</td>\n      <td>1</td>\n      <td>-1</td>\n      <td>595</td>\n      <td>2008-08-03 01:15:08.507</td>\n      <td>55</td>\n      <td>58973</td>\n      <td>&lt;p&gt;There are several ways to iterate over a re...</td>\n      <td>116</td>\n      <td>2016-10-15 20:47:11.027</td>\n      <td>cx_Oracle: How do I iterate over a result set?</td>\n      <td>(sql, database, oracle, cx-oracle)</td>\n      <td>3</td>\n      <td>1</td>\n      <td>[0, 4, 0, 0, 0, 0, 0, 0, 0, 0, 0, 0, 0, 0, 0]</td>\n    </tr>\n    <tr>\n      <th>...</th>\n      <td>...</td>\n      <td>...</td>\n      <td>...</td>\n      <td>...</td>\n      <td>...</td>\n      <td>...</td>\n      <td>...</td>\n      <td>...</td>\n      <td>...</td>\n      <td>...</td>\n      <td>...</td>\n      <td>...</td>\n      <td>...</td>\n      <td>...</td>\n      <td>...</td>\n    </tr>\n    <tr>\n      <th>59171855</th>\n      <td>77031662</td>\n      <td>1</td>\n      <td>-1</td>\n      <td>-1</td>\n      <td>2023-09-03 09:21:50.950</td>\n      <td>0</td>\n      <td>9</td>\n      <td>&lt;p&gt;Write a Python function named bookStore tha...</td>\n      <td>22491996</td>\n      <td>2023-09-03 09:21:50.950</td>\n      <td>How do I make sure I'm only taking a certain v...</td>\n      <td>(function, dictionary)</td>\n      <td>0</td>\n      <td>1</td>\n      <td>[2, 0, 0, 0, 0, 0, 0, 0, 0, 0, 0, 0, 0, 0, 0]</td>\n    </tr>\n    <tr>\n      <th>59171857</th>\n      <td>77031664</td>\n      <td>1</td>\n      <td>-1</td>\n      <td>-1</td>\n      <td>2023-09-03 09:22:27.673</td>\n      <td>-1</td>\n      <td>7</td>\n      <td>&lt;p&gt;i have a problem with updating the text box...</td>\n      <td>21080209</td>\n      <td>2023-09-03 09:22:27.673</td>\n      <td>Updating Textbox on a real time Chat</td>\n      <td>(function, pycharm, chat)</td>\n      <td>0</td>\n      <td>0</td>\n      <td>[1, 0, 2, 0, 0, 0, 0, 0, 0, 0, 0, 0, 0, 0, 0]</td>\n    </tr>\n    <tr>\n      <th>59171873</th>\n      <td>77031681</td>\n      <td>1</td>\n      <td>-1</td>\n      <td>-1</td>\n      <td>2023-09-03 09:28:20.777</td>\n      <td>0</td>\n      <td>5</td>\n      <td>&lt;p&gt;I've setup a django cms site for a friend s...</td>\n      <td>5568154</td>\n      <td>2023-09-03 09:28:20.777</td>\n      <td>Django CMS cms_plugin setup for a message form...</td>\n      <td>(django, django-cms)</td>\n      <td>0</td>\n      <td>0</td>\n      <td>[0, 2, 0, 0, 0, 0, 0, 0, 0, 0, 0, 0, 0, 0, 0]</td>\n    </tr>\n    <tr>\n      <th>59171876</th>\n      <td>77031684</td>\n      <td>1</td>\n      <td>-1</td>\n      <td>-1</td>\n      <td>2023-09-03 09:30:08.627</td>\n      <td>0</td>\n      <td>11</td>\n      <td>&lt;p&gt;I think I'm having an integer overflow issu...</td>\n      <td>9884278</td>\n      <td>2023-09-03 09:34:06.857</td>\n      <td>Integer Overflow when Passing Arguments in C</td>\n      <td>(c, integer-overflow)</td>\n      <td>1</td>\n      <td>1</td>\n      <td>[1, 0, 1, 0, 0, 0, 0, 0, 0, 0, 0, 0, 0, 0, 0]</td>\n    </tr>\n    <tr>\n      <th>59171892</th>\n      <td>77031700</td>\n      <td>1</td>\n      <td>-1</td>\n      <td>-1</td>\n      <td>2023-09-03 09:33:40.880</td>\n      <td>0</td>\n      <td>7</td>\n      <td>&lt;p&gt;I am using a Python library to read a binar...</td>\n      <td>12450769</td>\n      <td>2023-09-03 09:33:40.880</td>\n      <td>Releasing memory after deleting object in Python?</td>\n      <td>(memory,)</td>\n      <td>0</td>\n      <td>0</td>\n      <td>[0, 0, 1, 0, 0, 0, 0, 0, 0, 0, 0, 0, 0, 0, 0]</td>\n    </tr>\n  </tbody>\n</table>\n<p>2622597 rows × 15 columns</p>\n</div>"
     },
     "execution_count": 13,
     "metadata": {},
     "output_type": "execute_result"
    }
   ],
   "source": [
    "df_topics"
   ],
   "metadata": {
    "collapsed": false,
    "ExecuteTime": {
     "end_time": "2023-11-28T11:30:24.706689700Z",
     "start_time": "2023-11-28T11:30:24.648108400Z"
    }
   }
  },
  {
   "cell_type": "code",
   "execution_count": 14,
   "metadata": {
    "ExecuteTime": {
     "end_time": "2023-11-28T11:30:29.219842800Z",
     "start_time": "2023-11-28T11:30:24.679643700Z"
    }
   },
   "outputs": [],
   "source": [
    "avg_answer_sentiment = df_comments_result.groupby('PostId')['Text_sentiment'].mean().rename('AvgAnswerSentiment')\n",
    "active_user_answers = active_user_answers.merge(avg_answer_sentiment, left_on='Id', right_on='PostId', how='left').fillna({'AvgAnswerSentiment': 0}) \\\n",
    "    .merge(df_topics, left_on='ParentId', right_on='Id', how='left').fillna({'Topic': 'None'})"
   ]
  },
  {
   "cell_type": "code",
   "execution_count": 15,
   "outputs": [
    {
     "data": {
      "text/plain": "           Id_x  PostTypeId_x  ParentId_x  AcceptedAnswerId_x  \\\n85713  70555259             2    70554714                  -1   \n90857  74254977             2    74252982                  -1   \n46805  39968427             2    39966486                  -1   \n63153  54092820             2    54091439                  -1   \n17207  15558443             2    15558392                  -1   \n...         ...           ...         ...                 ...   \n24562  21587511             2    21584519                  -1   \n27045  23714587             2    23714542                  -1   \n19236  17262797             2    17262699                  -1   \n26804  23530430             2    23530142                  -1   \n58070  49991259             2    49990812                  -1   \n\n               CreationDate_x  Score_x  ViewCount_x  \\\n85713 2022-01-02 10:34:41.913        1           -1   \n90857 2022-10-30 16:53:23.317        1           -1   \n46805 2016-10-10 23:46:18.377        0           -1   \n63153 2019-01-08 13:25:31.710        5           -1   \n17207 2013-03-21 21:24:43.883      318           -1   \n...                       ...      ...          ...   \n24562 2014-02-05 20:14:34.707        0           -1   \n27045 2014-05-17 18:11:33.293       13           -1   \n19236 2013-06-23 16:25:10.937        0           -1   \n26804 2014-05-07 23:53:47.377        2           -1   \n58070 2018-04-23 23:24:28.493        0           -1   \n\n                                                  Body_x  OwnerUserId_x  \\\n85713  <p>Vectors P1-&gt;P3 and P1-&gt;P2 are colline...        3080723   \n90857  <p>The <code>SSHClient.connect</code> does not...         850848   \n46805  <p>None of the links in those categories are n...        6648326   \n63153  <p>Processes require a function to run, which ...        5349916   \n17207  <p>You can use <a href=\"https://docs.python.or...        1683161   \n...                                                  ...            ...   \n24562  <p>I'm not familiar with Python, but the follo...         480982   \n27045  <p>You are confusing <a href=\"http://en.wikipe...         100297   \n19236  <p>in your query:</p>&#xA;&#xA;<pre><code> wqu...        1290438   \n26804  <p>As I said in a comment, <code>eval</code> o...        1290438   \n58070  <p>1) Clearly it's slow because the OP has <st...         202229   \n\n           LastActivityDate_x  ... Score_y ViewCount_y  \\\n85713 2022-01-02 10:34:41.913  ...     0.0       113.0   \n90857 2022-10-31 09:48:49.110  ...     1.0       307.0   \n46805 2016-10-11 00:01:41.830  ...     1.0       613.0   \n63153 2019-01-08 13:36:55.353  ...     1.0      2052.0   \n17207 2020-01-04 23:55:40.957  ...   212.0    630089.0   \n...                       ...  ...     ...         ...   \n24562 2014-02-05 20:14:34.707  ...     1.0       556.0   \n27045 2014-05-17 18:19:29.123  ...     3.0      6035.0   \n19236 2013-06-23 16:25:10.937  ...     0.0      1281.0   \n26804 2014-05-07 23:53:47.377  ...     2.0       644.0   \n58070 2018-04-24 00:21:44.227  ...    -3.0       205.0   \n\n                                                  Body_y  OwnerUserId_y  \\\n85713  <p>I need a formula to calculate the position ...     15894995.0   \n90857  <p>I am trying to open an SSH connection to th...     20371504.0   \n46805  <p>I'm new to Python, but I've been searching ...      6951183.0   \n63153  <p>I have 4 different Python custom objects an...      3456764.0   \n17207  <p>I know about <code>islower</code> and <code...       678572.0   \n...                                                  ...            ...   \n24562  <p>I am trying to read an XML file from a comm...      1189851.0   \n27045  <p>When I give Python's argparse input it does...      2829764.0   \n19236  <p>I am new to python and looking for a way to...      2513915.0   \n26804  <p>I liked the idea of <a href=\"http://coffees...       336528.0   \n58070  <p>I have 2 CSV files. &#xA;One with Hostnames...      4346109.0   \n\n           LastActivityDate_y  \\\n85713 2022-01-02 11:39:53.113   \n90857 2022-11-02 10:05:48.633   \n46805 2016-10-11 01:53:14.380   \n63153 2019-01-08 13:36:55.353   \n17207 2023-05-05 15:18:20.353   \n...                       ...   \n24562 2014-02-05 21:26:57.107   \n27045 2014-05-17 18:19:29.123   \n19236 2013-06-23 16:25:10.937   \n26804 2014-05-07 23:53:47.377   \n58070 2018-05-10 16:03:20.763   \n\n                                                 Title_y  \\\n85713  How do I find Point3 Position by we know Point...   \n90857           Paramiko SSHClient.connect returns False   \n46805  Selenium in Python - open every link within a ...   \n63153  How to run Python custom objects in separate p...   \n17207  How can I check if character in a string is a ...   \n...                                                  ...   \n24562           Python libxml2: querying xml using xpath   \n27045  Why does Python's argparse use an error code o...   \n19236                upload web files to mysql in python   \n26804                                    Literate Python   \n58070  Optimize three nested for-loops iterating thro...   \n\n                                          Tags_y  AnswerCount_y  \\\n85713  (python-3.x, math, geometry, line, point)            1.0   \n90857                (networking, ssh, paramiko)            1.0   \n46805                                (selenium,)            1.0   \n63153                         (multiprocessing,)            1.0   \n17207                             (string, find)            7.0   \n...                                          ...            ...   \n24562                (xml, text, xpath, libxml2)            2.0   \n27045                          (argparse, errno)            1.0   \n19236                        (mysql, image, web)            1.0   \n26804                                (markdown,)            2.0   \n58070      (python-3.x, pandas, csv, ip-address)            2.0   \n\n       CommentCount_y                                          Topic  \n85713             0.0  [5, 0, 0, 0, 0, 0, 0, 0, 0, 0, 0, 0, 0, 0, 0]  \n90857             0.0  [0, 0, 3, 0, 0, 0, 0, 0, 0, 0, 0, 0, 0, 0, 0]  \n46805             3.0  [0, 0, 0, 0, 0, 1, 0, 0, 0, 0, 0, 0, 0, 0, 0]  \n63153             5.0  [0, 0, 1, 0, 0, 0, 0, 0, 0, 0, 0, 0, 0, 0, 0]  \n17207             2.0  [2, 0, 0, 0, 0, 0, 0, 0, 0, 0, 0, 0, 0, 0, 0]  \n...               ...                                            ...  \n24562             0.0  [1, 0, 0, 0, 0, 3, 0, 0, 0, 0, 0, 0, 0, 0, 0]  \n27045             4.0  [1, 0, 1, 0, 0, 0, 0, 0, 0, 0, 0, 0, 0, 0, 0]  \n19236             0.0  [0, 1, 0, 1, 0, 1, 0, 0, 0, 0, 0, 0, 0, 0, 0]  \n26804             6.0  [0, 0, 1, 0, 0, 0, 0, 0, 0, 0, 0, 0, 0, 0, 0]  \n58070            16.0  [3, 0, 1, 0, 0, 0, 0, 0, 0, 0, 0, 0, 0, 0, 0]  \n\n[94147 rows x 30 columns]",
      "text/html": "<div>\n<style scoped>\n    .dataframe tbody tr th:only-of-type {\n        vertical-align: middle;\n    }\n\n    .dataframe tbody tr th {\n        vertical-align: top;\n    }\n\n    .dataframe thead th {\n        text-align: right;\n    }\n</style>\n<table border=\"1\" class=\"dataframe\">\n  <thead>\n    <tr style=\"text-align: right;\">\n      <th></th>\n      <th>Id_x</th>\n      <th>PostTypeId_x</th>\n      <th>ParentId_x</th>\n      <th>AcceptedAnswerId_x</th>\n      <th>CreationDate_x</th>\n      <th>Score_x</th>\n      <th>ViewCount_x</th>\n      <th>Body_x</th>\n      <th>OwnerUserId_x</th>\n      <th>LastActivityDate_x</th>\n      <th>...</th>\n      <th>Score_y</th>\n      <th>ViewCount_y</th>\n      <th>Body_y</th>\n      <th>OwnerUserId_y</th>\n      <th>LastActivityDate_y</th>\n      <th>Title_y</th>\n      <th>Tags_y</th>\n      <th>AnswerCount_y</th>\n      <th>CommentCount_y</th>\n      <th>Topic</th>\n    </tr>\n  </thead>\n  <tbody>\n    <tr>\n      <th>85713</th>\n      <td>70555259</td>\n      <td>2</td>\n      <td>70554714</td>\n      <td>-1</td>\n      <td>2022-01-02 10:34:41.913</td>\n      <td>1</td>\n      <td>-1</td>\n      <td>&lt;p&gt;Vectors P1-&amp;gt;P3 and P1-&amp;gt;P2 are colline...</td>\n      <td>3080723</td>\n      <td>2022-01-02 10:34:41.913</td>\n      <td>...</td>\n      <td>0.0</td>\n      <td>113.0</td>\n      <td>&lt;p&gt;I need a formula to calculate the position ...</td>\n      <td>15894995.0</td>\n      <td>2022-01-02 11:39:53.113</td>\n      <td>How do I find Point3 Position by we know Point...</td>\n      <td>(python-3.x, math, geometry, line, point)</td>\n      <td>1.0</td>\n      <td>0.0</td>\n      <td>[5, 0, 0, 0, 0, 0, 0, 0, 0, 0, 0, 0, 0, 0, 0]</td>\n    </tr>\n    <tr>\n      <th>90857</th>\n      <td>74254977</td>\n      <td>2</td>\n      <td>74252982</td>\n      <td>-1</td>\n      <td>2022-10-30 16:53:23.317</td>\n      <td>1</td>\n      <td>-1</td>\n      <td>&lt;p&gt;The &lt;code&gt;SSHClient.connect&lt;/code&gt; does not...</td>\n      <td>850848</td>\n      <td>2022-10-31 09:48:49.110</td>\n      <td>...</td>\n      <td>1.0</td>\n      <td>307.0</td>\n      <td>&lt;p&gt;I am trying to open an SSH connection to th...</td>\n      <td>20371504.0</td>\n      <td>2022-11-02 10:05:48.633</td>\n      <td>Paramiko SSHClient.connect returns False</td>\n      <td>(networking, ssh, paramiko)</td>\n      <td>1.0</td>\n      <td>0.0</td>\n      <td>[0, 0, 3, 0, 0, 0, 0, 0, 0, 0, 0, 0, 0, 0, 0]</td>\n    </tr>\n    <tr>\n      <th>46805</th>\n      <td>39968427</td>\n      <td>2</td>\n      <td>39966486</td>\n      <td>-1</td>\n      <td>2016-10-10 23:46:18.377</td>\n      <td>0</td>\n      <td>-1</td>\n      <td>&lt;p&gt;None of the links in those categories are n...</td>\n      <td>6648326</td>\n      <td>2016-10-11 00:01:41.830</td>\n      <td>...</td>\n      <td>1.0</td>\n      <td>613.0</td>\n      <td>&lt;p&gt;I'm new to Python, but I've been searching ...</td>\n      <td>6951183.0</td>\n      <td>2016-10-11 01:53:14.380</td>\n      <td>Selenium in Python - open every link within a ...</td>\n      <td>(selenium,)</td>\n      <td>1.0</td>\n      <td>3.0</td>\n      <td>[0, 0, 0, 0, 0, 1, 0, 0, 0, 0, 0, 0, 0, 0, 0]</td>\n    </tr>\n    <tr>\n      <th>63153</th>\n      <td>54092820</td>\n      <td>2</td>\n      <td>54091439</td>\n      <td>-1</td>\n      <td>2019-01-08 13:25:31.710</td>\n      <td>5</td>\n      <td>-1</td>\n      <td>&lt;p&gt;Processes require a function to run, which ...</td>\n      <td>5349916</td>\n      <td>2019-01-08 13:36:55.353</td>\n      <td>...</td>\n      <td>1.0</td>\n      <td>2052.0</td>\n      <td>&lt;p&gt;I have 4 different Python custom objects an...</td>\n      <td>3456764.0</td>\n      <td>2019-01-08 13:36:55.353</td>\n      <td>How to run Python custom objects in separate p...</td>\n      <td>(multiprocessing,)</td>\n      <td>1.0</td>\n      <td>5.0</td>\n      <td>[0, 0, 1, 0, 0, 0, 0, 0, 0, 0, 0, 0, 0, 0, 0]</td>\n    </tr>\n    <tr>\n      <th>17207</th>\n      <td>15558443</td>\n      <td>2</td>\n      <td>15558392</td>\n      <td>-1</td>\n      <td>2013-03-21 21:24:43.883</td>\n      <td>318</td>\n      <td>-1</td>\n      <td>&lt;p&gt;You can use &lt;a href=\"https://docs.python.or...</td>\n      <td>1683161</td>\n      <td>2020-01-04 23:55:40.957</td>\n      <td>...</td>\n      <td>212.0</td>\n      <td>630089.0</td>\n      <td>&lt;p&gt;I know about &lt;code&gt;islower&lt;/code&gt; and &lt;code...</td>\n      <td>678572.0</td>\n      <td>2023-05-05 15:18:20.353</td>\n      <td>How can I check if character in a string is a ...</td>\n      <td>(string, find)</td>\n      <td>7.0</td>\n      <td>2.0</td>\n      <td>[2, 0, 0, 0, 0, 0, 0, 0, 0, 0, 0, 0, 0, 0, 0]</td>\n    </tr>\n    <tr>\n      <th>...</th>\n      <td>...</td>\n      <td>...</td>\n      <td>...</td>\n      <td>...</td>\n      <td>...</td>\n      <td>...</td>\n      <td>...</td>\n      <td>...</td>\n      <td>...</td>\n      <td>...</td>\n      <td>...</td>\n      <td>...</td>\n      <td>...</td>\n      <td>...</td>\n      <td>...</td>\n      <td>...</td>\n      <td>...</td>\n      <td>...</td>\n      <td>...</td>\n      <td>...</td>\n      <td>...</td>\n    </tr>\n    <tr>\n      <th>24562</th>\n      <td>21587511</td>\n      <td>2</td>\n      <td>21584519</td>\n      <td>-1</td>\n      <td>2014-02-05 20:14:34.707</td>\n      <td>0</td>\n      <td>-1</td>\n      <td>&lt;p&gt;I'm not familiar with Python, but the follo...</td>\n      <td>480982</td>\n      <td>2014-02-05 20:14:34.707</td>\n      <td>...</td>\n      <td>1.0</td>\n      <td>556.0</td>\n      <td>&lt;p&gt;I am trying to read an XML file from a comm...</td>\n      <td>1189851.0</td>\n      <td>2014-02-05 21:26:57.107</td>\n      <td>Python libxml2: querying xml using xpath</td>\n      <td>(xml, text, xpath, libxml2)</td>\n      <td>2.0</td>\n      <td>0.0</td>\n      <td>[1, 0, 0, 0, 0, 3, 0, 0, 0, 0, 0, 0, 0, 0, 0]</td>\n    </tr>\n    <tr>\n      <th>27045</th>\n      <td>23714587</td>\n      <td>2</td>\n      <td>23714542</td>\n      <td>-1</td>\n      <td>2014-05-17 18:11:33.293</td>\n      <td>13</td>\n      <td>-1</td>\n      <td>&lt;p&gt;You are confusing &lt;a href=\"http://en.wikipe...</td>\n      <td>100297</td>\n      <td>2014-05-17 18:19:29.123</td>\n      <td>...</td>\n      <td>3.0</td>\n      <td>6035.0</td>\n      <td>&lt;p&gt;When I give Python's argparse input it does...</td>\n      <td>2829764.0</td>\n      <td>2014-05-17 18:19:29.123</td>\n      <td>Why does Python's argparse use an error code o...</td>\n      <td>(argparse, errno)</td>\n      <td>1.0</td>\n      <td>4.0</td>\n      <td>[1, 0, 1, 0, 0, 0, 0, 0, 0, 0, 0, 0, 0, 0, 0]</td>\n    </tr>\n    <tr>\n      <th>19236</th>\n      <td>17262797</td>\n      <td>2</td>\n      <td>17262699</td>\n      <td>-1</td>\n      <td>2013-06-23 16:25:10.937</td>\n      <td>0</td>\n      <td>-1</td>\n      <td>&lt;p&gt;in your query:&lt;/p&gt;&amp;#xA;&amp;#xA;&lt;pre&gt;&lt;code&gt; wqu...</td>\n      <td>1290438</td>\n      <td>2013-06-23 16:25:10.937</td>\n      <td>...</td>\n      <td>0.0</td>\n      <td>1281.0</td>\n      <td>&lt;p&gt;I am new to python and looking for a way to...</td>\n      <td>2513915.0</td>\n      <td>2013-06-23 16:25:10.937</td>\n      <td>upload web files to mysql in python</td>\n      <td>(mysql, image, web)</td>\n      <td>1.0</td>\n      <td>0.0</td>\n      <td>[0, 1, 0, 1, 0, 1, 0, 0, 0, 0, 0, 0, 0, 0, 0]</td>\n    </tr>\n    <tr>\n      <th>26804</th>\n      <td>23530430</td>\n      <td>2</td>\n      <td>23530142</td>\n      <td>-1</td>\n      <td>2014-05-07 23:53:47.377</td>\n      <td>2</td>\n      <td>-1</td>\n      <td>&lt;p&gt;As I said in a comment, &lt;code&gt;eval&lt;/code&gt; o...</td>\n      <td>1290438</td>\n      <td>2014-05-07 23:53:47.377</td>\n      <td>...</td>\n      <td>2.0</td>\n      <td>644.0</td>\n      <td>&lt;p&gt;I liked the idea of &lt;a href=\"http://coffees...</td>\n      <td>336528.0</td>\n      <td>2014-05-07 23:53:47.377</td>\n      <td>Literate Python</td>\n      <td>(markdown,)</td>\n      <td>2.0</td>\n      <td>6.0</td>\n      <td>[0, 0, 1, 0, 0, 0, 0, 0, 0, 0, 0, 0, 0, 0, 0]</td>\n    </tr>\n    <tr>\n      <th>58070</th>\n      <td>49991259</td>\n      <td>2</td>\n      <td>49990812</td>\n      <td>-1</td>\n      <td>2018-04-23 23:24:28.493</td>\n      <td>0</td>\n      <td>-1</td>\n      <td>&lt;p&gt;1) Clearly it's slow because the OP has &lt;st...</td>\n      <td>202229</td>\n      <td>2018-04-24 00:21:44.227</td>\n      <td>...</td>\n      <td>-3.0</td>\n      <td>205.0</td>\n      <td>&lt;p&gt;I have 2 CSV files. &amp;#xA;One with Hostnames...</td>\n      <td>4346109.0</td>\n      <td>2018-05-10 16:03:20.763</td>\n      <td>Optimize three nested for-loops iterating thro...</td>\n      <td>(python-3.x, pandas, csv, ip-address)</td>\n      <td>2.0</td>\n      <td>16.0</td>\n      <td>[3, 0, 1, 0, 0, 0, 0, 0, 0, 0, 0, 0, 0, 0, 0]</td>\n    </tr>\n  </tbody>\n</table>\n<p>94147 rows × 30 columns</p>\n</div>"
     },
     "execution_count": 15,
     "metadata": {},
     "output_type": "execute_result"
    }
   ],
   "source": [
    "active_user_answers.sort_values(by='AvgAnswerSentiment', ascending=False)"
   ],
   "metadata": {
    "collapsed": false,
    "ExecuteTime": {
     "end_time": "2023-11-28T11:30:29.407647900Z",
     "start_time": "2023-11-28T11:30:29.220344300Z"
    }
   }
  },
  {
   "cell_type": "code",
   "execution_count": 16,
   "outputs": [],
   "source": [
    " def replace_sentiment(x):\n",
    "    topic = x['Topic']\n",
    "    if topic == 'None':\n",
    "        return 0\n",
    "    sentiment = x['AvgAnswerSentiment']\n",
    "    return [sentiment if int(val) > 0 else 0 for val in topic]"
   ],
   "metadata": {
    "collapsed": false,
    "ExecuteTime": {
     "end_time": "2023-11-28T11:53:13.397531800Z",
     "start_time": "2023-11-28T11:53:13.377405700Z"
    }
   }
  },
  {
   "cell_type": "code",
   "execution_count": 21,
   "outputs": [],
   "source": [
    "active_user_answers['TopicSentiment'] = active_user_answers.apply(replace_sentiment, axis=1)"
   ],
   "metadata": {
    "collapsed": false,
    "ExecuteTime": {
     "end_time": "2023-11-28T11:55:10.163575600Z",
     "start_time": "2023-11-28T11:55:08.539523600Z"
    }
   }
  },
  {
   "cell_type": "markdown",
   "source": [
    "### Calculate average sentiment for each user"
   ],
   "metadata": {
    "collapsed": false
   }
  },
  {
   "cell_type": "markdown",
   "source": [],
   "metadata": {
    "collapsed": false
   }
  },
  {
   "cell_type": "code",
   "execution_count": 18,
   "outputs": [],
   "source": [
    "def calculate_topic_sentiment(group):\n",
    "     # Extract the 'Topic' column as a list of lists\n",
    "    transposed_topics_sentiment = group['TopicSentiment'].transpose()\n",
    "    \n",
    "    # Calculate the mean for each row\n",
    "    mean_values = transposed_topics_sentiment.apply(lambda x: pd.to_numeric(x, errors='coerce')).mean(axis=0)\n",
    "    \n",
    "    return mean_values.tolist()"
   ],
   "metadata": {
    "collapsed": false,
    "ExecuteTime": {
     "end_time": "2023-11-28T11:53:36.594160100Z",
     "start_time": "2023-11-28T11:53:36.545592200Z"
    }
   }
  },
  {
   "cell_type": "code",
   "execution_count": 22,
   "outputs": [
    {
     "data": {
      "text/plain": "           Id_x  PostTypeId_x  ParentId_x  AcceptedAnswerId_x  \\\n0          2937             2        2933                  -1   \n1          3093             2        3021                  -1   \n2          3107             2        1171                  -1   \n3          6947             2        6817                  -1   \n4          7073             2         502                  -1   \n...         ...           ...         ...                 ...   \n94142  77026255             2    77022881                  -1   \n94143  77026541             2    77025746                  -1   \n94144  77029402             2    59104242                  -1   \n94145  77031033             2    61170977                  -1   \n94146  77031500             2    77031324                  -1   \n\n               CreationDate_x  Score_x  ViewCount_x  \\\n0     2008-08-05 22:34:25.397      311           -1   \n1     2008-08-06 05:09:44.770       86           -1   \n2     2008-08-06 05:37:33.607        3           -1   \n3     2008-08-09 23:26:30.570        2           -1   \n4     2008-08-10 07:10:19.153        5           -1   \n...                       ...      ...          ...   \n94142 2023-09-01 22:34:25.947        1           -1   \n94143 2023-09-02 00:41:13.623        0           -1   \n94144 2023-09-02 17:49:50.673        1           -1   \n94145 2023-09-03 05:36:03.713        0           -1   \n94146 2023-09-03 08:30:43.627        0           -1   \n\n                                                  Body_x  OwnerUserId_x  \\\n0      <p>First you will need some GUI library with P...            275   \n1      <p>There are a number of good explanations of ...            101   \n2      <p>As I understand it, random access is in con...            101   \n3      <p>As monty python would say \"and now for some...            699   \n4      <p>Is the PC likely to have Acrobat installed?...            878   \n...                                                  ...            ...   \n94142  <p>I am not sure if this is quite what you're ...        5327068   \n94143  <p>There are a bunch of problems here.</p>&#xA...         147356   \n94144  <p>Since your test image mostly contains block...         291033   \n94145  <p>Lots of answers, but I had this problem and...        1320510   \n94146  <p>Python dictionary keys are unordered <stron...       17580381   \n\n           LastActivityDate_x  ... ViewCount_y  \\\n0     2023-04-28 07:59:42.083  ...    216096.0   \n1     2016-12-26 01:59:29.493  ...         NaN   \n2     2008-08-06 05:37:33.607  ...     31324.0   \n3     2008-08-09 23:56:46.657  ...         NaN   \n4     2008-08-10 07:10:19.153  ...     17726.0   \n...                       ...  ...         ...   \n94142 2023-09-01 22:34:25.947  ...        52.0   \n94143 2023-09-02 00:41:13.623  ...        32.0   \n94144 2023-09-02 17:49:50.673  ...      2502.0   \n94145 2023-09-03 05:36:03.713  ...      4765.0   \n94146 2023-09-03 08:36:38.533  ...        44.0   \n\n                                                  Body_y  OwnerUserId_y  \\\n0      <p>Python works on multiple platforms and can ...      1384652.0   \n1                                                    NaN            NaN   \n2      <p>I need to be able to manipulate a large (10...          280.0   \n3                                                    NaN            NaN   \n4      <p>I have a cross-platform (Python) applicatio...          147.0   \n...                                                  ...            ...   \n94142  <p>I have relatively simple PySpark applicatio...     15037018.0   \n94143  <p>END GOAL: Build a flask app that can ssh in...     22485600.0   \n94144  <p>I want to remove the antialiasing from an i...      1999909.0   \n94145  <p>I've installed z3-solver package from PyPi ...     12852772.0   \n94146  <p><strong>input</strong></p>&#xA;<pre><code>m...     22478247.0   \n\n           LastActivityDate_y  \\\n0     2023-08-22 19:10:05.077   \n1                         NaT   \n2     2017-03-22 17:42:28.463   \n3                         NaT   \n4     2020-06-17 20:47:48.287   \n...                       ...   \n94142 2023-09-01 22:34:25.947   \n94143 2023-09-02 00:41:13.623   \n94144 2023-09-02 17:49:50.673   \n94145 2023-09-03 05:36:03.713   \n94146 2023-09-03 08:36:38.533   \n\n                                                 Title_y  \\\n0      Create a directly-executable cross-platform GU...   \n1                                                   <NA>   \n2      What is the most efficient graph data structur...   \n3                                                   <NA>   \n4                Get a preview JPEG of a PDF on Windows?   \n...                                                  ...   \n94142  How do I create a Python dataclass from the sc...   \n94143  How do I use subprocess.getoutput to properly ...   \n94144                 Remove anti-aliasing from an image   \n94145    Z3 solver installed but I can't import anything   \n94146  How do I access an item in a dictionary using ...   \n\n                                                  Tags_y  AnswerCount_y  \\\n0      (user-interface, deployment, tkinter, release-...           14.0   \n1                                                    NaN            NaN   \n2           (performance, data-structures, graph-theory)            7.0   \n3                                                    NaN            NaN   \n4                                  (windows, image, pdf)            3.0   \n...                                                  ...            ...   \n94142              (unit-testing, apache-spark, pyspark)            1.0   \n94143               (docker, flask, containers, openssh)            1.0   \n94144  (numpy, image-processing, python-imaging-libra...            2.0   \n94145                              (anaconda, conda, z3)            5.0   \n94146                                                (,)            4.0   \n\n       CommentCount_y                                          Topic  \\\n0                 0.0  [0, 1, 1, 0, 2, 0, 0, 0, 0, 0, 0, 0, 0, 0, 0]   \n1                 NaN                                           None   \n2                 4.0  [2, 0, 0, 0, 1, 0, 0, 0, 0, 0, 0, 0, 0, 0, 0]   \n3                 NaN                                           None   \n4                 0.0  [0, 0, 1, 1, 0, 0, 0, 0, 0, 1, 0, 0, 0, 0, 0]   \n...               ...                                            ...   \n94142             1.0  [0, 0, 0, 0, 0, 0, 2, 1, 0, 0, 0, 0, 0, 0, 0]   \n94143             2.0  [0, 3, 1, 0, 0, 0, 0, 0, 0, 0, 0, 0, 0, 0, 0]   \n94144             1.0  [1, 0, 0, 3, 0, 0, 0, 0, 0, 0, 0, 0, 0, 0, 0]   \n94145             4.0  [0, 0, 2, 0, 0, 0, 0, 0, 0, 0, 0, 1, 0, 0, 0]   \n94146             3.0  [0, 0, 0, 0, 0, 0, 0, 0, 0, 0, 0, 0, 0, 0, 0]   \n\n                                          TopicSentiment  \n0      [0, 0.27054, 0.27054, 0, 0.27054, 0, 0, 0, 0, ...  \n1                                                      0  \n2      [0.0, 0, 0, 0, 0.0, 0, 0, 0, 0, 0, 0, 0, 0, 0, 0]  \n3                                                      0  \n4      [0, 0, 0.0, 0.0, 0, 0, 0, 0, 0, 0.0, 0, 0, 0, ...  \n...                                                  ...  \n94142  [0, 0, 0, 0, 0, 0, 0.603, 0.603, 0, 0, 0, 0, 0...  \n94143  [0, 0.43565, 0.43565, 0, 0, 0, 0, 0, 0, 0, 0, ...  \n94144  [0.0, 0, 0, 0.0, 0, 0, 0, 0, 0, 0, 0, 0, 0, 0, 0]  \n94145  [0, 0, 0.0, 0, 0, 0, 0, 0, 0, 0, 0, 0.0, 0, 0, 0]  \n94146      [0, 0, 0, 0, 0, 0, 0, 0, 0, 0, 0, 0, 0, 0, 0]  \n\n[94147 rows x 31 columns]",
      "text/html": "<div>\n<style scoped>\n    .dataframe tbody tr th:only-of-type {\n        vertical-align: middle;\n    }\n\n    .dataframe tbody tr th {\n        vertical-align: top;\n    }\n\n    .dataframe thead th {\n        text-align: right;\n    }\n</style>\n<table border=\"1\" class=\"dataframe\">\n  <thead>\n    <tr style=\"text-align: right;\">\n      <th></th>\n      <th>Id_x</th>\n      <th>PostTypeId_x</th>\n      <th>ParentId_x</th>\n      <th>AcceptedAnswerId_x</th>\n      <th>CreationDate_x</th>\n      <th>Score_x</th>\n      <th>ViewCount_x</th>\n      <th>Body_x</th>\n      <th>OwnerUserId_x</th>\n      <th>LastActivityDate_x</th>\n      <th>...</th>\n      <th>ViewCount_y</th>\n      <th>Body_y</th>\n      <th>OwnerUserId_y</th>\n      <th>LastActivityDate_y</th>\n      <th>Title_y</th>\n      <th>Tags_y</th>\n      <th>AnswerCount_y</th>\n      <th>CommentCount_y</th>\n      <th>Topic</th>\n      <th>TopicSentiment</th>\n    </tr>\n  </thead>\n  <tbody>\n    <tr>\n      <th>0</th>\n      <td>2937</td>\n      <td>2</td>\n      <td>2933</td>\n      <td>-1</td>\n      <td>2008-08-05 22:34:25.397</td>\n      <td>311</td>\n      <td>-1</td>\n      <td>&lt;p&gt;First you will need some GUI library with P...</td>\n      <td>275</td>\n      <td>2023-04-28 07:59:42.083</td>\n      <td>...</td>\n      <td>216096.0</td>\n      <td>&lt;p&gt;Python works on multiple platforms and can ...</td>\n      <td>1384652.0</td>\n      <td>2023-08-22 19:10:05.077</td>\n      <td>Create a directly-executable cross-platform GU...</td>\n      <td>(user-interface, deployment, tkinter, release-...</td>\n      <td>14.0</td>\n      <td>0.0</td>\n      <td>[0, 1, 1, 0, 2, 0, 0, 0, 0, 0, 0, 0, 0, 0, 0]</td>\n      <td>[0, 0.27054, 0.27054, 0, 0.27054, 0, 0, 0, 0, ...</td>\n    </tr>\n    <tr>\n      <th>1</th>\n      <td>3093</td>\n      <td>2</td>\n      <td>3021</td>\n      <td>-1</td>\n      <td>2008-08-06 05:09:44.770</td>\n      <td>86</td>\n      <td>-1</td>\n      <td>&lt;p&gt;There are a number of good explanations of ...</td>\n      <td>101</td>\n      <td>2016-12-26 01:59:29.493</td>\n      <td>...</td>\n      <td>NaN</td>\n      <td>NaN</td>\n      <td>NaN</td>\n      <td>NaT</td>\n      <td>&lt;NA&gt;</td>\n      <td>NaN</td>\n      <td>NaN</td>\n      <td>NaN</td>\n      <td>None</td>\n      <td>0</td>\n    </tr>\n    <tr>\n      <th>2</th>\n      <td>3107</td>\n      <td>2</td>\n      <td>1171</td>\n      <td>-1</td>\n      <td>2008-08-06 05:37:33.607</td>\n      <td>3</td>\n      <td>-1</td>\n      <td>&lt;p&gt;As I understand it, random access is in con...</td>\n      <td>101</td>\n      <td>2008-08-06 05:37:33.607</td>\n      <td>...</td>\n      <td>31324.0</td>\n      <td>&lt;p&gt;I need to be able to manipulate a large (10...</td>\n      <td>280.0</td>\n      <td>2017-03-22 17:42:28.463</td>\n      <td>What is the most efficient graph data structur...</td>\n      <td>(performance, data-structures, graph-theory)</td>\n      <td>7.0</td>\n      <td>4.0</td>\n      <td>[2, 0, 0, 0, 1, 0, 0, 0, 0, 0, 0, 0, 0, 0, 0]</td>\n      <td>[0.0, 0, 0, 0, 0.0, 0, 0, 0, 0, 0, 0, 0, 0, 0, 0]</td>\n    </tr>\n    <tr>\n      <th>3</th>\n      <td>6947</td>\n      <td>2</td>\n      <td>6817</td>\n      <td>-1</td>\n      <td>2008-08-09 23:26:30.570</td>\n      <td>2</td>\n      <td>-1</td>\n      <td>&lt;p&gt;As monty python would say \"and now for some...</td>\n      <td>699</td>\n      <td>2008-08-09 23:56:46.657</td>\n      <td>...</td>\n      <td>NaN</td>\n      <td>NaN</td>\n      <td>NaN</td>\n      <td>NaT</td>\n      <td>&lt;NA&gt;</td>\n      <td>NaN</td>\n      <td>NaN</td>\n      <td>NaN</td>\n      <td>None</td>\n      <td>0</td>\n    </tr>\n    <tr>\n      <th>4</th>\n      <td>7073</td>\n      <td>2</td>\n      <td>502</td>\n      <td>-1</td>\n      <td>2008-08-10 07:10:19.153</td>\n      <td>5</td>\n      <td>-1</td>\n      <td>&lt;p&gt;Is the PC likely to have Acrobat installed?...</td>\n      <td>878</td>\n      <td>2008-08-10 07:10:19.153</td>\n      <td>...</td>\n      <td>17726.0</td>\n      <td>&lt;p&gt;I have a cross-platform (Python) applicatio...</td>\n      <td>147.0</td>\n      <td>2020-06-17 20:47:48.287</td>\n      <td>Get a preview JPEG of a PDF on Windows?</td>\n      <td>(windows, image, pdf)</td>\n      <td>3.0</td>\n      <td>0.0</td>\n      <td>[0, 0, 1, 1, 0, 0, 0, 0, 0, 1, 0, 0, 0, 0, 0]</td>\n      <td>[0, 0, 0.0, 0.0, 0, 0, 0, 0, 0, 0.0, 0, 0, 0, ...</td>\n    </tr>\n    <tr>\n      <th>...</th>\n      <td>...</td>\n      <td>...</td>\n      <td>...</td>\n      <td>...</td>\n      <td>...</td>\n      <td>...</td>\n      <td>...</td>\n      <td>...</td>\n      <td>...</td>\n      <td>...</td>\n      <td>...</td>\n      <td>...</td>\n      <td>...</td>\n      <td>...</td>\n      <td>...</td>\n      <td>...</td>\n      <td>...</td>\n      <td>...</td>\n      <td>...</td>\n      <td>...</td>\n      <td>...</td>\n    </tr>\n    <tr>\n      <th>94142</th>\n      <td>77026255</td>\n      <td>2</td>\n      <td>77022881</td>\n      <td>-1</td>\n      <td>2023-09-01 22:34:25.947</td>\n      <td>1</td>\n      <td>-1</td>\n      <td>&lt;p&gt;I am not sure if this is quite what you're ...</td>\n      <td>5327068</td>\n      <td>2023-09-01 22:34:25.947</td>\n      <td>...</td>\n      <td>52.0</td>\n      <td>&lt;p&gt;I have relatively simple PySpark applicatio...</td>\n      <td>15037018.0</td>\n      <td>2023-09-01 22:34:25.947</td>\n      <td>How do I create a Python dataclass from the sc...</td>\n      <td>(unit-testing, apache-spark, pyspark)</td>\n      <td>1.0</td>\n      <td>1.0</td>\n      <td>[0, 0, 0, 0, 0, 0, 2, 1, 0, 0, 0, 0, 0, 0, 0]</td>\n      <td>[0, 0, 0, 0, 0, 0, 0.603, 0.603, 0, 0, 0, 0, 0...</td>\n    </tr>\n    <tr>\n      <th>94143</th>\n      <td>77026541</td>\n      <td>2</td>\n      <td>77025746</td>\n      <td>-1</td>\n      <td>2023-09-02 00:41:13.623</td>\n      <td>0</td>\n      <td>-1</td>\n      <td>&lt;p&gt;There are a bunch of problems here.&lt;/p&gt;&amp;#xA...</td>\n      <td>147356</td>\n      <td>2023-09-02 00:41:13.623</td>\n      <td>...</td>\n      <td>32.0</td>\n      <td>&lt;p&gt;END GOAL: Build a flask app that can ssh in...</td>\n      <td>22485600.0</td>\n      <td>2023-09-02 00:41:13.623</td>\n      <td>How do I use subprocess.getoutput to properly ...</td>\n      <td>(docker, flask, containers, openssh)</td>\n      <td>1.0</td>\n      <td>2.0</td>\n      <td>[0, 3, 1, 0, 0, 0, 0, 0, 0, 0, 0, 0, 0, 0, 0]</td>\n      <td>[0, 0.43565, 0.43565, 0, 0, 0, 0, 0, 0, 0, 0, ...</td>\n    </tr>\n    <tr>\n      <th>94144</th>\n      <td>77029402</td>\n      <td>2</td>\n      <td>59104242</td>\n      <td>-1</td>\n      <td>2023-09-02 17:49:50.673</td>\n      <td>1</td>\n      <td>-1</td>\n      <td>&lt;p&gt;Since your test image mostly contains block...</td>\n      <td>291033</td>\n      <td>2023-09-02 17:49:50.673</td>\n      <td>...</td>\n      <td>2502.0</td>\n      <td>&lt;p&gt;I want to remove the antialiasing from an i...</td>\n      <td>1999909.0</td>\n      <td>2023-09-02 17:49:50.673</td>\n      <td>Remove anti-aliasing from an image</td>\n      <td>(numpy, image-processing, python-imaging-libra...</td>\n      <td>2.0</td>\n      <td>1.0</td>\n      <td>[1, 0, 0, 3, 0, 0, 0, 0, 0, 0, 0, 0, 0, 0, 0]</td>\n      <td>[0.0, 0, 0, 0.0, 0, 0, 0, 0, 0, 0, 0, 0, 0, 0, 0]</td>\n    </tr>\n    <tr>\n      <th>94145</th>\n      <td>77031033</td>\n      <td>2</td>\n      <td>61170977</td>\n      <td>-1</td>\n      <td>2023-09-03 05:36:03.713</td>\n      <td>0</td>\n      <td>-1</td>\n      <td>&lt;p&gt;Lots of answers, but I had this problem and...</td>\n      <td>1320510</td>\n      <td>2023-09-03 05:36:03.713</td>\n      <td>...</td>\n      <td>4765.0</td>\n      <td>&lt;p&gt;I've installed z3-solver package from PyPi ...</td>\n      <td>12852772.0</td>\n      <td>2023-09-03 05:36:03.713</td>\n      <td>Z3 solver installed but I can't import anything</td>\n      <td>(anaconda, conda, z3)</td>\n      <td>5.0</td>\n      <td>4.0</td>\n      <td>[0, 0, 2, 0, 0, 0, 0, 0, 0, 0, 0, 1, 0, 0, 0]</td>\n      <td>[0, 0, 0.0, 0, 0, 0, 0, 0, 0, 0, 0, 0.0, 0, 0, 0]</td>\n    </tr>\n    <tr>\n      <th>94146</th>\n      <td>77031500</td>\n      <td>2</td>\n      <td>77031324</td>\n      <td>-1</td>\n      <td>2023-09-03 08:30:43.627</td>\n      <td>0</td>\n      <td>-1</td>\n      <td>&lt;p&gt;Python dictionary keys are unordered &lt;stron...</td>\n      <td>17580381</td>\n      <td>2023-09-03 08:36:38.533</td>\n      <td>...</td>\n      <td>44.0</td>\n      <td>&lt;p&gt;&lt;strong&gt;input&lt;/strong&gt;&lt;/p&gt;&amp;#xA;&lt;pre&gt;&lt;code&gt;m...</td>\n      <td>22478247.0</td>\n      <td>2023-09-03 08:36:38.533</td>\n      <td>How do I access an item in a dictionary using ...</td>\n      <td>(,)</td>\n      <td>4.0</td>\n      <td>3.0</td>\n      <td>[0, 0, 0, 0, 0, 0, 0, 0, 0, 0, 0, 0, 0, 0, 0]</td>\n      <td>[0, 0, 0, 0, 0, 0, 0, 0, 0, 0, 0, 0, 0, 0, 0]</td>\n    </tr>\n  </tbody>\n</table>\n<p>94147 rows × 31 columns</p>\n</div>"
     },
     "execution_count": 22,
     "metadata": {},
     "output_type": "execute_result"
    }
   ],
   "source": [
    "active_user_answers"
   ],
   "metadata": {
    "collapsed": false,
    "ExecuteTime": {
     "end_time": "2023-11-28T11:55:13.938248400Z",
     "start_time": "2023-11-28T11:55:13.801526400Z"
    }
   }
  },
  {
   "cell_type": "code",
   "execution_count": 28,
   "metadata": {
    "ExecuteTime": {
     "end_time": "2023-11-28T12:01:38.101834700Z",
     "start_time": "2023-11-28T12:01:35.384860Z"
    }
   },
   "outputs": [],
   "source": [
    "# Get average answer sentiment for each user\n",
    "user_avg_answer_sentiment = active_user_answers.groupby('OwnerUserId_x')['AvgAnswerSentiment'].mean().rename('AnswerSentiment')\n",
    "user_answers_drop_no_sent = active_user_answers.loc[active_user_answers['TopicSentiment'] != 0]\n",
    "user_avg_answer_sentiment_topic = active_user_answers[active_user_answers['TopicSentiment'] != 0].groupby('OwnerUserId_x').apply(calculate_topic_sentiment).rename('AvgTopicSentiment')\n",
    "active_users = active_users.merge(user_avg_answer_sentiment, left_on='Id', right_on='OwnerUserId_x', how='left').fillna({'AnswerSentiment': 0})"
   ]
  },
  {
   "cell_type": "code",
   "execution_count": 29,
   "outputs": [
    {
     "data": {
      "text/plain": "OwnerUserId_x\n40          [0.0, 0.0, 0.0, 0.0, 0.0, 0.0, 0.0, 0.0, 0.0, ...\n71          [0.0, 0.0, 0.0, 0.0, 0.0, 0.0, 0.0, 0.0, 0.0, ...\n101         [0.0, 0.0, 0.0, 0.0, 0.0, 0.0, 0.0, 0.0, 0.0, ...\n275         [0.0, 0.13527, 0.13527, 0.0, 0.13527, 0.0, 0.0...\n327         [0.0, 0.0, 0.0, 0.0, 0.0, 0.0, 0.0, 0.0, 0.0, ...\n                                  ...                        \n21401783    [0.0, 0.0, 0.0, 0.0, 0.0, 0.0, 0.0, 0.0, 0.0, ...\n21404794    [-0.06245714285714286, 0.0, 0.0, 0.0, 0.0, 0.0...\n21545421    [0.0, 0.0, 0.0, 0.0, 0.0, 0.0, 0.0, 0.0, 0.0, ...\n22305606    [0.0, 0.0, 0.0, 0.0, 0.0, 0.0, 0.0, 0.0, 0.0, ...\n22363405    [0.0, 0.0, 0.0, 0.0, 0.0, 0.0, 0.0, 0.0, 0.0, ...\nName: AvgTopicSentiment, Length: 6755, dtype: object"
     },
     "execution_count": 29,
     "metadata": {},
     "output_type": "execute_result"
    }
   ],
   "source": [
    "user_avg_answer_sentiment_topic "
   ],
   "metadata": {
    "collapsed": false,
    "ExecuteTime": {
     "end_time": "2023-11-28T12:01:49.184742500Z",
     "start_time": "2023-11-28T12:01:49.147592Z"
    }
   }
  },
  {
   "cell_type": "code",
   "execution_count": 31,
   "metadata": {
    "ExecuteTime": {
     "end_time": "2023-11-28T12:02:30.790787Z",
     "start_time": "2023-11-28T12:02:30.758679700Z"
    }
   },
   "outputs": [],
   "source": [
    "active_users = active_users.merge(user_avg_answer_sentiment_topic, left_on='Id', right_on='OwnerUserId_x', how='left').fillna({'AvgTopicSentiment': 0})"
   ]
  },
  {
   "cell_type": "code",
   "execution_count": 32,
   "outputs": [
    {
     "data": {
      "text/plain": "             Id  Reputation            CreationDate          LastAccessDate  \\\n0       6128789         462 2016-03-29 10:49:52.617 2023-08-29 00:00:10.917   \n1        580346       22895 2011-01-18 17:59:01.030 2023-08-31 10:24:31.333   \n2        794606        1872 2011-06-12 08:51:06.137 2023-03-28 16:43:29.407   \n3      10637188         742 2018-11-11 18:15:38.430 2023-08-29 19:28:34.423   \n4       1000626        6197 2011-10-18 07:44:34.317 2023-08-24 13:53:59.520   \n...         ...         ...                     ...                     ...   \n11805   3135460        5277 2013-12-26 00:51:44.440 2023-06-19 02:46:05.680   \n11806   2616735        1382 2013-07-25 01:00:55.527 2023-09-03 03:50:34.047   \n11807    209863        1189 2009-11-12 18:59:14.360 2015-07-18 14:59:21.783   \n11808   3750282         448 2014-06-17 21:45:20.047 2023-06-02 11:14:19.157   \n11809   5351381         371 2015-09-18 16:30:35.213 2023-08-28 07:16:40.273   \n\n       Views  UpVotes  DownVotes  PostCount  CommentCount  \\\n0         56       15          1       31.0          32.0   \n1       1122     4919         82        0.0         778.0   \n2       1171      208        432        1.0        1879.0   \n3        133      115          2       20.0         126.0   \n4        649      468         24        5.0         379.0   \n...      ...      ...        ...        ...           ...   \n11805    409      171         14       38.0         411.0   \n11806    140      602        278        0.0          78.0   \n11807    185       58          0       12.0          72.0   \n11808     75        9          1        3.0          52.0   \n11809     53       30          2        1.0          77.0   \n\n       AcceptedAnswerCount  AnswerCount  TotalActivity  AvgAnswerScore  \\\n0                      0.0          1.0           64.0        3.000000   \n1                      0.0         18.0          796.0        1.111111   \n2                      0.0          0.0         1880.0        0.000000   \n3                      0.0          1.0          147.0        0.000000   \n4                      0.0          0.0          384.0        0.000000   \n...                    ...          ...            ...             ...   \n11805                  0.0         50.0          499.0        1.200000   \n11806                  0.0          1.0           79.0        2.000000   \n11807                  0.0          1.0           85.0        0.000000   \n11808                  0.0          0.0           55.0        0.000000   \n11809                  0.0          0.0           78.0        0.000000   \n\n       AvgPostScore  AcceptedAnswerFraction  AnswerSentiment_x  \\\n0          0.709677                     0.0           0.864700   \n1          0.000000                     0.0           0.137903   \n2          1.000000                     NaN           0.000000   \n3          0.800000                     0.0           0.000000   \n4          4.800000                     NaN           0.000000   \n...             ...                     ...                ...   \n11805      1.315789                     0.0           0.090564   \n11806      0.000000                     0.0           0.539800   \n11807      2.666667                     0.0           0.000000   \n11808      0.333333                     NaN           0.000000   \n11809      1.000000                     NaN           0.000000   \n\n       AnswerSentiment_y                                  AvgTopicSentiment  \n0               0.864700  [0.8647, 0.0, 0.0, 0.0, 0.0, 0.0, 0.0, 0.0, 0....  \n1               0.137903  [0.12272666666666666, 0.0, 0.0, 0.0, 0.0, 0.0,...  \n2                    NaN                                                  0  \n3               0.000000  [0.0, 0.0, 0.0, 0.0, 0.0, 0.0, 0.0, 0.0, 0.0, ...  \n4                    NaN                                                  0  \n...                  ...                                                ...  \n11805           0.090564  [0.09569246666666667, 0.0017435, -0.0020649999...  \n11806           0.539800  [0.0, 0.0, 0.5398000000000001, 0.0, 0.0, 0.0, ...  \n11807           0.000000  [0.0, 0.0, 0.0, 0.0, 0.0, 0.0, 0.0, 0.0, 0.0, ...  \n11808                NaN                                                  0  \n11809                NaN                                                  0  \n\n[11810 rows x 18 columns]",
      "text/html": "<div>\n<style scoped>\n    .dataframe tbody tr th:only-of-type {\n        vertical-align: middle;\n    }\n\n    .dataframe tbody tr th {\n        vertical-align: top;\n    }\n\n    .dataframe thead th {\n        text-align: right;\n    }\n</style>\n<table border=\"1\" class=\"dataframe\">\n  <thead>\n    <tr style=\"text-align: right;\">\n      <th></th>\n      <th>Id</th>\n      <th>Reputation</th>\n      <th>CreationDate</th>\n      <th>LastAccessDate</th>\n      <th>Views</th>\n      <th>UpVotes</th>\n      <th>DownVotes</th>\n      <th>PostCount</th>\n      <th>CommentCount</th>\n      <th>AcceptedAnswerCount</th>\n      <th>AnswerCount</th>\n      <th>TotalActivity</th>\n      <th>AvgAnswerScore</th>\n      <th>AvgPostScore</th>\n      <th>AcceptedAnswerFraction</th>\n      <th>AnswerSentiment_x</th>\n      <th>AnswerSentiment_y</th>\n      <th>AvgTopicSentiment</th>\n    </tr>\n  </thead>\n  <tbody>\n    <tr>\n      <th>0</th>\n      <td>6128789</td>\n      <td>462</td>\n      <td>2016-03-29 10:49:52.617</td>\n      <td>2023-08-29 00:00:10.917</td>\n      <td>56</td>\n      <td>15</td>\n      <td>1</td>\n      <td>31.0</td>\n      <td>32.0</td>\n      <td>0.0</td>\n      <td>1.0</td>\n      <td>64.0</td>\n      <td>3.000000</td>\n      <td>0.709677</td>\n      <td>0.0</td>\n      <td>0.864700</td>\n      <td>0.864700</td>\n      <td>[0.8647, 0.0, 0.0, 0.0, 0.0, 0.0, 0.0, 0.0, 0....</td>\n    </tr>\n    <tr>\n      <th>1</th>\n      <td>580346</td>\n      <td>22895</td>\n      <td>2011-01-18 17:59:01.030</td>\n      <td>2023-08-31 10:24:31.333</td>\n      <td>1122</td>\n      <td>4919</td>\n      <td>82</td>\n      <td>0.0</td>\n      <td>778.0</td>\n      <td>0.0</td>\n      <td>18.0</td>\n      <td>796.0</td>\n      <td>1.111111</td>\n      <td>0.000000</td>\n      <td>0.0</td>\n      <td>0.137903</td>\n      <td>0.137903</td>\n      <td>[0.12272666666666666, 0.0, 0.0, 0.0, 0.0, 0.0,...</td>\n    </tr>\n    <tr>\n      <th>2</th>\n      <td>794606</td>\n      <td>1872</td>\n      <td>2011-06-12 08:51:06.137</td>\n      <td>2023-03-28 16:43:29.407</td>\n      <td>1171</td>\n      <td>208</td>\n      <td>432</td>\n      <td>1.0</td>\n      <td>1879.0</td>\n      <td>0.0</td>\n      <td>0.0</td>\n      <td>1880.0</td>\n      <td>0.000000</td>\n      <td>1.000000</td>\n      <td>NaN</td>\n      <td>0.000000</td>\n      <td>NaN</td>\n      <td>0</td>\n    </tr>\n    <tr>\n      <th>3</th>\n      <td>10637188</td>\n      <td>742</td>\n      <td>2018-11-11 18:15:38.430</td>\n      <td>2023-08-29 19:28:34.423</td>\n      <td>133</td>\n      <td>115</td>\n      <td>2</td>\n      <td>20.0</td>\n      <td>126.0</td>\n      <td>0.0</td>\n      <td>1.0</td>\n      <td>147.0</td>\n      <td>0.000000</td>\n      <td>0.800000</td>\n      <td>0.0</td>\n      <td>0.000000</td>\n      <td>0.000000</td>\n      <td>[0.0, 0.0, 0.0, 0.0, 0.0, 0.0, 0.0, 0.0, 0.0, ...</td>\n    </tr>\n    <tr>\n      <th>4</th>\n      <td>1000626</td>\n      <td>6197</td>\n      <td>2011-10-18 07:44:34.317</td>\n      <td>2023-08-24 13:53:59.520</td>\n      <td>649</td>\n      <td>468</td>\n      <td>24</td>\n      <td>5.0</td>\n      <td>379.0</td>\n      <td>0.0</td>\n      <td>0.0</td>\n      <td>384.0</td>\n      <td>0.000000</td>\n      <td>4.800000</td>\n      <td>NaN</td>\n      <td>0.000000</td>\n      <td>NaN</td>\n      <td>0</td>\n    </tr>\n    <tr>\n      <th>...</th>\n      <td>...</td>\n      <td>...</td>\n      <td>...</td>\n      <td>...</td>\n      <td>...</td>\n      <td>...</td>\n      <td>...</td>\n      <td>...</td>\n      <td>...</td>\n      <td>...</td>\n      <td>...</td>\n      <td>...</td>\n      <td>...</td>\n      <td>...</td>\n      <td>...</td>\n      <td>...</td>\n      <td>...</td>\n      <td>...</td>\n    </tr>\n    <tr>\n      <th>11805</th>\n      <td>3135460</td>\n      <td>5277</td>\n      <td>2013-12-26 00:51:44.440</td>\n      <td>2023-06-19 02:46:05.680</td>\n      <td>409</td>\n      <td>171</td>\n      <td>14</td>\n      <td>38.0</td>\n      <td>411.0</td>\n      <td>0.0</td>\n      <td>50.0</td>\n      <td>499.0</td>\n      <td>1.200000</td>\n      <td>1.315789</td>\n      <td>0.0</td>\n      <td>0.090564</td>\n      <td>0.090564</td>\n      <td>[0.09569246666666667, 0.0017435, -0.0020649999...</td>\n    </tr>\n    <tr>\n      <th>11806</th>\n      <td>2616735</td>\n      <td>1382</td>\n      <td>2013-07-25 01:00:55.527</td>\n      <td>2023-09-03 03:50:34.047</td>\n      <td>140</td>\n      <td>602</td>\n      <td>278</td>\n      <td>0.0</td>\n      <td>78.0</td>\n      <td>0.0</td>\n      <td>1.0</td>\n      <td>79.0</td>\n      <td>2.000000</td>\n      <td>0.000000</td>\n      <td>0.0</td>\n      <td>0.539800</td>\n      <td>0.539800</td>\n      <td>[0.0, 0.0, 0.5398000000000001, 0.0, 0.0, 0.0, ...</td>\n    </tr>\n    <tr>\n      <th>11807</th>\n      <td>209863</td>\n      <td>1189</td>\n      <td>2009-11-12 18:59:14.360</td>\n      <td>2015-07-18 14:59:21.783</td>\n      <td>185</td>\n      <td>58</td>\n      <td>0</td>\n      <td>12.0</td>\n      <td>72.0</td>\n      <td>0.0</td>\n      <td>1.0</td>\n      <td>85.0</td>\n      <td>0.000000</td>\n      <td>2.666667</td>\n      <td>0.0</td>\n      <td>0.000000</td>\n      <td>0.000000</td>\n      <td>[0.0, 0.0, 0.0, 0.0, 0.0, 0.0, 0.0, 0.0, 0.0, ...</td>\n    </tr>\n    <tr>\n      <th>11808</th>\n      <td>3750282</td>\n      <td>448</td>\n      <td>2014-06-17 21:45:20.047</td>\n      <td>2023-06-02 11:14:19.157</td>\n      <td>75</td>\n      <td>9</td>\n      <td>1</td>\n      <td>3.0</td>\n      <td>52.0</td>\n      <td>0.0</td>\n      <td>0.0</td>\n      <td>55.0</td>\n      <td>0.000000</td>\n      <td>0.333333</td>\n      <td>NaN</td>\n      <td>0.000000</td>\n      <td>NaN</td>\n      <td>0</td>\n    </tr>\n    <tr>\n      <th>11809</th>\n      <td>5351381</td>\n      <td>371</td>\n      <td>2015-09-18 16:30:35.213</td>\n      <td>2023-08-28 07:16:40.273</td>\n      <td>53</td>\n      <td>30</td>\n      <td>2</td>\n      <td>1.0</td>\n      <td>77.0</td>\n      <td>0.0</td>\n      <td>0.0</td>\n      <td>78.0</td>\n      <td>0.000000</td>\n      <td>1.000000</td>\n      <td>NaN</td>\n      <td>0.000000</td>\n      <td>NaN</td>\n      <td>0</td>\n    </tr>\n  </tbody>\n</table>\n<p>11810 rows × 18 columns</p>\n</div>"
     },
     "execution_count": 32,
     "metadata": {},
     "output_type": "execute_result"
    }
   ],
   "source": [
    "active_users"
   ],
   "metadata": {
    "collapsed": false,
    "ExecuteTime": {
     "end_time": "2023-11-28T12:02:40.822984400Z",
     "start_time": "2023-11-28T12:02:40.780299500Z"
    }
   }
  },
  {
   "cell_type": "code",
   "execution_count": 33,
   "outputs": [],
   "source": [
    "active_users.to_pickle('active_users_with_sentiment.pkl')"
   ],
   "metadata": {
    "collapsed": false,
    "ExecuteTime": {
     "end_time": "2023-11-28T12:03:22.494945600Z",
     "start_time": "2023-11-28T12:03:22.424873800Z"
    }
   }
  },
  {
   "cell_type": "code",
   "execution_count": null,
   "outputs": [],
   "source": [],
   "metadata": {
    "collapsed": false
   }
  }
 ],
 "metadata": {
  "kernelspec": {
   "display_name": "Python 3",
   "language": "python",
   "name": "python3"
  },
  "language_info": {
   "codemirror_mode": {
    "name": "ipython",
    "version": 3
   },
   "file_extension": ".py",
   "mimetype": "text/x-python",
   "name": "python",
   "nbconvert_exporter": "python",
   "pygments_lexer": "ipython3",
   "version": "3.11.0"
  }
 },
 "nbformat": 4,
 "nbformat_minor": 2
}
