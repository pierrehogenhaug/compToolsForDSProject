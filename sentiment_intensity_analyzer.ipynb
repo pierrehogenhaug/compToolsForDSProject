{
 "cells": [
  {
   "cell_type": "code",
   "execution_count": 1,
   "metadata": {
    "ExecuteTime": {
     "end_time": "2023-11-26T12:38:52.772964500Z",
     "start_time": "2023-11-26T12:38:45.503314700Z"
    }
   },
   "outputs": [],
   "source": [
    "from dask.diagnostics import ProgressBar\n",
    "from dask.distributed import Client\n",
    "from nltk.corpus import stopwords\n",
    "from nltk.sentiment import SentimentIntensityAnalyzer\n",
    "from nltk.stem import WordNetLemmatizer, PorterStemmer\n",
    "\n",
    "import dask.dataframe as dd\n",
    "import html\n",
    "import matplotlib.pyplot as plt\n",
    "import numpy as np\n",
    "import psutil\n",
    "import pandas as pd\n",
    "import pickle as pkl\n",
    "import re\n",
    "import time"
   ]
  },
  {
   "cell_type": "code",
   "execution_count": 2,
   "metadata": {
    "ExecuteTime": {
     "end_time": "2023-11-26T12:39:35.768737Z",
     "start_time": "2023-11-26T12:38:52.776966700Z"
    }
   },
   "outputs": [],
   "source": [
    "# Read the data\n",
    "df_comments_1 = pd.read_pickle('C:/Users/Julia/Downloads/comments_typecasted_1.pkl')\n",
    "df_comments_2 = pd.read_pickle('C:/Users/Julia/Downloads/comments_typecasted_2.pkl')\n",
    "df_comments_3 = pd.read_pickle('C:/Users/Julia/Downloads/comments_typecasted_3.pkl')\n",
    "df_comments_4 = pd.read_pickle('C:/Users/Julia/Downloads/comments_typecasted_4.pkl')\n",
    "df_comments_5 = pd.read_pickle('C:/Users/Julia/Downloads/comments_typecasted_5.pkl')\n",
    "\n",
    "df_comments = pd.concat([df_comments_1, df_comments_2, df_comments_3, df_comments_4, df_comments_5])\n",
    "\n",
    "\n",
    "df_posts_1 = pd.read_pickle('C:/Users/Julia/Downloads/posts_typecasted_1.pkl')\n",
    "df_posts_2 = pd.read_pickle('C:/Users/Julia/Downloads/posts_typecasted_2.pkl')\n",
    "df_posts_3 = pd.read_pickle('C:/Users/Julia/Downloads/posts_typecasted_3.pkl')\n",
    "df_posts_4 = pd.read_pickle('C:/Users/Julia/Downloads/posts_typecasted_4.pkl')\n",
    "\n",
    "df_posts = pd.concat([df_posts_1,df_posts_2,df_posts_3,df_posts_4])\n",
    "\n",
    "#df_postlinks = pd.read_pickle('./pickle_dataframes/post_links_typecasted.pkl')\n",
    "#df_tags = pd.read_pickle('./pickle_dataframes/tags_typecasted.pkl')\n",
    "df_users = pd.read_pickle('C:/Users/Julia/Documents/CompTools/users_typecasted.pkl')\n",
    "df_users = df_users.loc[df_users['Id'] > 0]"
   ]
  },
  {
   "cell_type": "code",
   "execution_count": 3,
   "metadata": {
    "ExecuteTime": {
     "end_time": "2023-11-26T12:39:35.862373300Z",
     "start_time": "2023-11-26T12:39:35.812811700Z"
    }
   },
   "outputs": [
    {
     "data": {
      "text/plain": "                Id  PostTypeId  ParentId  AcceptedAnswerId  \\\n150            307           2       260                -1   \n160            337           1        -1               342   \n162            342           2       337                -1   \n195            469           1        -1              3040   \n197            471           2       337                -1   \n...            ...         ...       ...               ...   \n59171855  77031662           1        -1                -1   \n59171857  77031664           1        -1                -1   \n59171873  77031681           1        -1                -1   \n59171876  77031684           1        -1                -1   \n59171892  77031700           1        -1                -1   \n\n                    CreationDate  Score  ViewCount  \\\n150      2008-08-02 01:49:46.220     43         -1   \n160      2008-08-02 03:35:55.697     82      10424   \n162      2008-08-02 04:01:34.600     36         -1   \n195      2008-08-02 15:11:16.430     48       4837   \n197      2008-08-02 15:21:03.587     33         -1   \n...                          ...    ...        ...   \n59171855 2023-09-03 09:21:50.950      0          9   \n59171857 2023-09-03 09:22:27.673     -1          7   \n59171873 2023-09-03 09:28:20.777      0          5   \n59171876 2023-09-03 09:30:08.627      0         11   \n59171892 2023-09-03 09:33:40.880      0          7   \n\n                                                       Body  OwnerUserId  \\\n150       <p><a href=\"https://www.codeproject.com/Articl...           49   \n160       <p>I am about to build a piece of a project th...          111   \n162       <p>Personally, I've played with several of the...           59   \n195       <p>I am using the Photoshop's javascript API t...          147   \n197       <p><a href=\"http://effbot.org/zone/element-ind...          147   \n...                                                     ...          ...   \n59171855  <p>Write a Python function named bookStore tha...     22491996   \n59171857  <p>i have a problem with updating the text box...     21080209   \n59171873  <p>I've setup a django cms site for a friend s...      5568154   \n59171876  <p>I think I'm having an integer overflow issu...      9884278   \n59171892  <p>I am using a Python library to read a binar...     12450769   \n\n                LastActivityDate  \\\n150      2019-12-24 07:28:19.907   \n160      2021-11-12 18:56:21.143   \n162      2008-08-02 04:01:34.600   \n195      2022-12-15 07:51:30.287   \n197      2008-08-02 15:21:03.587   \n...                          ...   \n59171855 2023-09-03 09:21:50.950   \n59171857 2023-09-03 09:22:27.673   \n59171873 2023-09-03 09:28:20.777   \n59171876 2023-09-03 09:34:06.857   \n59171892 2023-09-03 09:33:40.880   \n\n                                                      Title  \\\n150                                            Comment: N/A   \n160                                XML Processing in Python   \n162                                            Comment: N/A   \n195       How can I find the full path to a font from it...   \n197                                            Comment: N/A   \n...                                                     ...   \n59171855  How do I make sure I'm only taking a certain v...   \n59171857               Updating Textbox on a real time Chat   \n59171873  Django CMS cms_plugin setup for a message form...   \n59171876       Integer Overflow when Passing Arguments in C   \n59171892  Releasing memory after deleting object in Python?   \n\n                                       Tags  AnswerCount  CommentCount  \n150                            Comment: N/A           -1             3  \n160                           <python><xml>           12             1  \n162                            Comment: N/A           -1             1  \n195       <python><macos><fonts><photoshop>            6             0  \n197                            Comment: N/A           -1             2  \n...                                     ...          ...           ...  \n59171855     <python><function><dictionary>            0             1  \n59171857  <python><function><pycharm><chat>            0             0  \n59171873               <django><django-cms>            0             0  \n59171876              <c><integer-overflow>            1             1  \n59171892                   <python><memory>            0             0  \n\n[3802836 rows x 14 columns]",
      "text/html": "<div>\n<style scoped>\n    .dataframe tbody tr th:only-of-type {\n        vertical-align: middle;\n    }\n\n    .dataframe tbody tr th {\n        vertical-align: top;\n    }\n\n    .dataframe thead th {\n        text-align: right;\n    }\n</style>\n<table border=\"1\" class=\"dataframe\">\n  <thead>\n    <tr style=\"text-align: right;\">\n      <th></th>\n      <th>Id</th>\n      <th>PostTypeId</th>\n      <th>ParentId</th>\n      <th>AcceptedAnswerId</th>\n      <th>CreationDate</th>\n      <th>Score</th>\n      <th>ViewCount</th>\n      <th>Body</th>\n      <th>OwnerUserId</th>\n      <th>LastActivityDate</th>\n      <th>Title</th>\n      <th>Tags</th>\n      <th>AnswerCount</th>\n      <th>CommentCount</th>\n    </tr>\n  </thead>\n  <tbody>\n    <tr>\n      <th>150</th>\n      <td>307</td>\n      <td>2</td>\n      <td>260</td>\n      <td>-1</td>\n      <td>2008-08-02 01:49:46.220</td>\n      <td>43</td>\n      <td>-1</td>\n      <td>&lt;p&gt;&lt;a href=\"https://www.codeproject.com/Articl...</td>\n      <td>49</td>\n      <td>2019-12-24 07:28:19.907</td>\n      <td>Comment: N/A</td>\n      <td>Comment: N/A</td>\n      <td>-1</td>\n      <td>3</td>\n    </tr>\n    <tr>\n      <th>160</th>\n      <td>337</td>\n      <td>1</td>\n      <td>-1</td>\n      <td>342</td>\n      <td>2008-08-02 03:35:55.697</td>\n      <td>82</td>\n      <td>10424</td>\n      <td>&lt;p&gt;I am about to build a piece of a project th...</td>\n      <td>111</td>\n      <td>2021-11-12 18:56:21.143</td>\n      <td>XML Processing in Python</td>\n      <td>&lt;python&gt;&lt;xml&gt;</td>\n      <td>12</td>\n      <td>1</td>\n    </tr>\n    <tr>\n      <th>162</th>\n      <td>342</td>\n      <td>2</td>\n      <td>337</td>\n      <td>-1</td>\n      <td>2008-08-02 04:01:34.600</td>\n      <td>36</td>\n      <td>-1</td>\n      <td>&lt;p&gt;Personally, I've played with several of the...</td>\n      <td>59</td>\n      <td>2008-08-02 04:01:34.600</td>\n      <td>Comment: N/A</td>\n      <td>Comment: N/A</td>\n      <td>-1</td>\n      <td>1</td>\n    </tr>\n    <tr>\n      <th>195</th>\n      <td>469</td>\n      <td>1</td>\n      <td>-1</td>\n      <td>3040</td>\n      <td>2008-08-02 15:11:16.430</td>\n      <td>48</td>\n      <td>4837</td>\n      <td>&lt;p&gt;I am using the Photoshop's javascript API t...</td>\n      <td>147</td>\n      <td>2022-12-15 07:51:30.287</td>\n      <td>How can I find the full path to a font from it...</td>\n      <td>&lt;python&gt;&lt;macos&gt;&lt;fonts&gt;&lt;photoshop&gt;</td>\n      <td>6</td>\n      <td>0</td>\n    </tr>\n    <tr>\n      <th>197</th>\n      <td>471</td>\n      <td>2</td>\n      <td>337</td>\n      <td>-1</td>\n      <td>2008-08-02 15:21:03.587</td>\n      <td>33</td>\n      <td>-1</td>\n      <td>&lt;p&gt;&lt;a href=\"http://effbot.org/zone/element-ind...</td>\n      <td>147</td>\n      <td>2008-08-02 15:21:03.587</td>\n      <td>Comment: N/A</td>\n      <td>Comment: N/A</td>\n      <td>-1</td>\n      <td>2</td>\n    </tr>\n    <tr>\n      <th>...</th>\n      <td>...</td>\n      <td>...</td>\n      <td>...</td>\n      <td>...</td>\n      <td>...</td>\n      <td>...</td>\n      <td>...</td>\n      <td>...</td>\n      <td>...</td>\n      <td>...</td>\n      <td>...</td>\n      <td>...</td>\n      <td>...</td>\n      <td>...</td>\n    </tr>\n    <tr>\n      <th>59171855</th>\n      <td>77031662</td>\n      <td>1</td>\n      <td>-1</td>\n      <td>-1</td>\n      <td>2023-09-03 09:21:50.950</td>\n      <td>0</td>\n      <td>9</td>\n      <td>&lt;p&gt;Write a Python function named bookStore tha...</td>\n      <td>22491996</td>\n      <td>2023-09-03 09:21:50.950</td>\n      <td>How do I make sure I'm only taking a certain v...</td>\n      <td>&lt;python&gt;&lt;function&gt;&lt;dictionary&gt;</td>\n      <td>0</td>\n      <td>1</td>\n    </tr>\n    <tr>\n      <th>59171857</th>\n      <td>77031664</td>\n      <td>1</td>\n      <td>-1</td>\n      <td>-1</td>\n      <td>2023-09-03 09:22:27.673</td>\n      <td>-1</td>\n      <td>7</td>\n      <td>&lt;p&gt;i have a problem with updating the text box...</td>\n      <td>21080209</td>\n      <td>2023-09-03 09:22:27.673</td>\n      <td>Updating Textbox on a real time Chat</td>\n      <td>&lt;python&gt;&lt;function&gt;&lt;pycharm&gt;&lt;chat&gt;</td>\n      <td>0</td>\n      <td>0</td>\n    </tr>\n    <tr>\n      <th>59171873</th>\n      <td>77031681</td>\n      <td>1</td>\n      <td>-1</td>\n      <td>-1</td>\n      <td>2023-09-03 09:28:20.777</td>\n      <td>0</td>\n      <td>5</td>\n      <td>&lt;p&gt;I've setup a django cms site for a friend s...</td>\n      <td>5568154</td>\n      <td>2023-09-03 09:28:20.777</td>\n      <td>Django CMS cms_plugin setup for a message form...</td>\n      <td>&lt;django&gt;&lt;django-cms&gt;</td>\n      <td>0</td>\n      <td>0</td>\n    </tr>\n    <tr>\n      <th>59171876</th>\n      <td>77031684</td>\n      <td>1</td>\n      <td>-1</td>\n      <td>-1</td>\n      <td>2023-09-03 09:30:08.627</td>\n      <td>0</td>\n      <td>11</td>\n      <td>&lt;p&gt;I think I'm having an integer overflow issu...</td>\n      <td>9884278</td>\n      <td>2023-09-03 09:34:06.857</td>\n      <td>Integer Overflow when Passing Arguments in C</td>\n      <td>&lt;c&gt;&lt;integer-overflow&gt;</td>\n      <td>1</td>\n      <td>1</td>\n    </tr>\n    <tr>\n      <th>59171892</th>\n      <td>77031700</td>\n      <td>1</td>\n      <td>-1</td>\n      <td>-1</td>\n      <td>2023-09-03 09:33:40.880</td>\n      <td>0</td>\n      <td>7</td>\n      <td>&lt;p&gt;I am using a Python library to read a binar...</td>\n      <td>12450769</td>\n      <td>2023-09-03 09:33:40.880</td>\n      <td>Releasing memory after deleting object in Python?</td>\n      <td>&lt;python&gt;&lt;memory&gt;</td>\n      <td>0</td>\n      <td>0</td>\n    </tr>\n  </tbody>\n</table>\n<p>3802836 rows × 14 columns</p>\n</div>"
     },
     "execution_count": 3,
     "metadata": {},
     "output_type": "execute_result"
    }
   ],
   "source": [
    "df_posts"
   ]
  },
  {
   "cell_type": "markdown",
   "metadata": {},
   "source": [
    "### Filter active users (>50 posts/comments)"
   ]
  },
  {
   "cell_type": "code",
   "execution_count": 4,
   "metadata": {
    "ExecuteTime": {
     "end_time": "2023-11-26T12:47:10.860476500Z",
     "start_time": "2023-11-26T12:46:48.887820700Z"
    }
   },
   "outputs": [
    {
     "name": "stdout",
     "output_type": "stream",
     "text": [
      "Questions DataFrame shape: (3802836, 14)\n",
      "Filtered Questions DataFrame shape: (210976, 14) \n",
      "\n",
      "Comments DataFrame shape: (47612714, 6)\n",
      "Filtered Comments DataFrame shape: (134221, 6) \n"
     ]
    }
   ],
   "source": [
    "# Filtering posts to include only questions and answers\n",
    "filtered_posts_df = df_posts[df_posts['PostTypeId'].isin([1, 2])]\n",
    "\n",
    "# Calculating post and comment counts for each user\n",
    "user_posts_count = filtered_posts_df[filtered_posts_df['PostTypeId'] == 1].groupby('OwnerUserId').size().rename('PostCount')\n",
    "user_answers_count = filtered_posts_df[filtered_posts_df['PostTypeId'] == 2].groupby('OwnerUserId').size().rename('AnswerCount')\n",
    "user_comments_count = df_comments.groupby('UserId').size().rename('CommentCount')\n",
    "\n",
    "#Calculating the number of accepted answers for each user\n",
    "accepted_answers_ids = set(filtered_posts_df[filtered_posts_df['PostTypeId'] == 1]['AcceptedAnswerId'])\n",
    "user_accepted_answers_count = filtered_posts_df[(filtered_posts_df['PostTypeId'] == 2) & (filtered_posts_df['Id'].isin(accepted_answers_ids))].groupby('OwnerUserId').size().rename('AcceptedAnswerCount')\n",
    "\n",
    "\n",
    "# Merging counts with user data and filling missing values\n",
    "user_data = df_users.merge(user_posts_count, left_on='Id',  right_on='OwnerUserId', how='left') \\\n",
    "                    .merge(user_comments_count, left_on='Id', right_on='UserId', how='left') \\\n",
    "                    .merge(user_accepted_answers_count, left_on='Id', right_on='OwnerUserId', how='left') \\\n",
    "                    .merge(user_answers_count, left_on='Id', right_on='OwnerUserId', how='left') \\\n",
    "                    .fillna({'PostCount': 0, 'CommentCount': 0, 'AcceptedAnswerCount': 0, 'AnswerCount': 0})\n",
    "\n",
    "# Adding a column for total activity and filtering for active users\n",
    "active_users = user_data.assign(TotalActivity=lambda x: x['PostCount'] + x['CommentCount'] + x['AnswerCount'])\n",
    "active_users = active_users[active_users['TotalActivity'] > 50]\n",
    "active_users = active_users.sample(frac=0.1)\n",
    "\n",
    "# Creating a set of active user IDs\n",
    "active_user_ids = set(active_users['Id'])\n",
    "\n",
    "# Filtering dataframes for active user activity\n",
    "filtered_active_posts_df = filtered_posts_df[filtered_posts_df['OwnerUserId'].isin(active_user_ids)]\n",
    "\n",
    "# Identifying posts where the parent post is owned by an active user\n",
    "parent_posts_of_active_users = filtered_posts_df[filtered_posts_df['ParentId'].isin(filtered_active_posts_df['Id'])]\n",
    "\n",
    "# Including these posts in the filtered_active_posts_df\n",
    "filtered_active_posts_df = pd.concat([filtered_active_posts_df, parent_posts_of_active_users]).drop_duplicates()\n",
    "\n",
    "# Gathering Post IDs and Parent IDs for active users\n",
    "active_user_post_ids = set(filtered_active_posts_df['Id'])\n",
    "active_user_answers = filtered_posts_df[(filtered_posts_df['PostTypeId'] == 2) & (filtered_posts_df['OwnerUserId'].isin(active_user_ids))]\n",
    "active_user_answer_parent_ids = set(active_user_answers['ParentId'])\n",
    "\n",
    "# Average answer and post score for each user\n",
    "avg_answer_score = active_user_answers.groupby('OwnerUserId')['Score'].mean().rename('AvgAnswerScore')\n",
    "avg_post_score = filtered_active_posts_df[filtered_active_posts_df['PostTypeId'] == 1].groupby('OwnerUserId')['Score'].mean().rename('AvgPostScore')\n",
    "\n",
    "\n",
    "active_users = active_users.merge(avg_answer_score, left_on='Id', right_on='OwnerUserId', how='left').fillna({'AvgAnswerScore': 0}) \\\n",
    "    .merge(avg_post_score, left_on='Id', right_on='OwnerUserId', how='left').fillna({'AvgPostScore': 0})\n",
    "active_users['AcceptedAnswerFraction'] = active_users['AcceptedAnswerCount'] / active_users['AnswerCount']\n",
    "\n",
    "# Filtering comments for active users and their related posts\n",
    "filtered_comments = df_comments[(df_comments['PostId'].isin(active_user_answers['Id']))].drop_duplicates()\n",
    "\n",
    "# Printing shapes for comparison\n",
    "print(\"Questions DataFrame shape:\", df_posts.shape)\n",
    "print(\"Filtered Questions DataFrame shape:\", filtered_active_posts_df.shape, '\\n')\n",
    "\n",
    "print(\"Comments DataFrame shape:\", df_comments.shape)\n",
    "print(\"Filtered Comments DataFrame shape:\", filtered_comments.shape, '\\n')"
   ]
  },
  {
   "cell_type": "code",
   "execution_count": 5,
   "metadata": {
    "ExecuteTime": {
     "end_time": "2023-11-26T12:47:10.918624900Z",
     "start_time": "2023-11-26T12:47:10.861974900Z"
    }
   },
   "outputs": [
    {
     "data": {
      "text/plain": "             Id  Reputation            CreationDate          LastAccessDate  \\\n3600        794       18008 2008-08-09 02:07:13.117 2023-02-02 15:31:51.440   \n5488        572      114398 2008-08-06 20:56:54.547 2023-09-03 02:03:11.367   \n10497      2132        8444 2008-08-20 13:51:59.573 2023-08-25 13:35:07.537   \n4711        699       19248 2008-08-07 23:47:19.943 2023-09-03 00:12:45.460   \n6441        736       48060 2008-08-08 13:06:17.390 2023-08-28 21:36:15.280   \n...         ...         ...                     ...                     ...   \n3939    4318814        1086 2014-12-03 06:44:26.477 2023-08-31 15:26:44.660   \n3940     337227       38035 2010-05-10 12:26:31.363 2021-08-19 09:04:07.313   \n3941   13697228         344 2020-06-07 01:08:31.003 2023-08-30 11:17:30.507   \n3942    1231073       16623 2012-02-24 15:13:44.063 2023-09-02 11:57:01.143   \n11809   4405757       17362 2014-12-30 14:51:39.327 2023-09-03 10:26:18.393   \n\n       Views  UpVotes  DownVotes  PostCount  CommentCount  \\\n3600     873      837         21        0.0         180.0   \n5488   15640     2947        204       10.0        1165.0   \n10497    704      101         10        5.0          51.0   \n4711    1262      400         80        4.0         211.0   \n6441    2365     1829        139       10.0         180.0   \n...      ...      ...        ...        ...           ...   \n3939     166       93          9        0.0         155.0   \n3940    3584      298         38        0.0        1562.0   \n3941      96      440          1        3.0         105.0   \n3942    3491     3495        636        0.0         781.0   \n11809   1776     1802       2942        0.0        1918.0   \n\n       AcceptedAnswerCount  AnswerCount  TotalActivity  AvgAnswerScore  \\\n3600                   1.0          3.0          183.0        4.333333   \n5488                   1.0         18.0         1193.0       46.777778   \n10497                  1.0          2.0           58.0        3.000000   \n4711                   1.0          6.0          221.0        0.666667   \n6441                   1.0          4.0          194.0        8.500000   \n...                    ...          ...            ...             ...   \n3939                   0.0          2.0          157.0        1.000000   \n3940                   0.0          3.0         1565.0       31.000000   \n3941                   0.0          7.0          115.0        2.142857   \n3942                   0.0         10.0          791.0        3.700000   \n11809                  0.0          3.0         1921.0        1.666667   \n\n       AvgPostScore  AcceptedAnswerFraction  \n3600       0.000000                0.333333  \n5488       4.600000                0.055556  \n10497      5.600000                0.500000  \n4711       0.250000                0.166667  \n6441      20.200000                0.250000  \n...             ...                     ...  \n3939       0.000000                0.000000  \n3940       0.000000                0.000000  \n3941       0.666667                0.000000  \n3942       0.000000                0.000000  \n11809      0.000000                0.000000  \n\n[11810 rows x 15 columns]",
      "text/html": "<div>\n<style scoped>\n    .dataframe tbody tr th:only-of-type {\n        vertical-align: middle;\n    }\n\n    .dataframe tbody tr th {\n        vertical-align: top;\n    }\n\n    .dataframe thead th {\n        text-align: right;\n    }\n</style>\n<table border=\"1\" class=\"dataframe\">\n  <thead>\n    <tr style=\"text-align: right;\">\n      <th></th>\n      <th>Id</th>\n      <th>Reputation</th>\n      <th>CreationDate</th>\n      <th>LastAccessDate</th>\n      <th>Views</th>\n      <th>UpVotes</th>\n      <th>DownVotes</th>\n      <th>PostCount</th>\n      <th>CommentCount</th>\n      <th>AcceptedAnswerCount</th>\n      <th>AnswerCount</th>\n      <th>TotalActivity</th>\n      <th>AvgAnswerScore</th>\n      <th>AvgPostScore</th>\n      <th>AcceptedAnswerFraction</th>\n    </tr>\n  </thead>\n  <tbody>\n    <tr>\n      <th>3600</th>\n      <td>794</td>\n      <td>18008</td>\n      <td>2008-08-09 02:07:13.117</td>\n      <td>2023-02-02 15:31:51.440</td>\n      <td>873</td>\n      <td>837</td>\n      <td>21</td>\n      <td>0.0</td>\n      <td>180.0</td>\n      <td>1.0</td>\n      <td>3.0</td>\n      <td>183.0</td>\n      <td>4.333333</td>\n      <td>0.000000</td>\n      <td>0.333333</td>\n    </tr>\n    <tr>\n      <th>5488</th>\n      <td>572</td>\n      <td>114398</td>\n      <td>2008-08-06 20:56:54.547</td>\n      <td>2023-09-03 02:03:11.367</td>\n      <td>15640</td>\n      <td>2947</td>\n      <td>204</td>\n      <td>10.0</td>\n      <td>1165.0</td>\n      <td>1.0</td>\n      <td>18.0</td>\n      <td>1193.0</td>\n      <td>46.777778</td>\n      <td>4.600000</td>\n      <td>0.055556</td>\n    </tr>\n    <tr>\n      <th>10497</th>\n      <td>2132</td>\n      <td>8444</td>\n      <td>2008-08-20 13:51:59.573</td>\n      <td>2023-08-25 13:35:07.537</td>\n      <td>704</td>\n      <td>101</td>\n      <td>10</td>\n      <td>5.0</td>\n      <td>51.0</td>\n      <td>1.0</td>\n      <td>2.0</td>\n      <td>58.0</td>\n      <td>3.000000</td>\n      <td>5.600000</td>\n      <td>0.500000</td>\n    </tr>\n    <tr>\n      <th>4711</th>\n      <td>699</td>\n      <td>19248</td>\n      <td>2008-08-07 23:47:19.943</td>\n      <td>2023-09-03 00:12:45.460</td>\n      <td>1262</td>\n      <td>400</td>\n      <td>80</td>\n      <td>4.0</td>\n      <td>211.0</td>\n      <td>1.0</td>\n      <td>6.0</td>\n      <td>221.0</td>\n      <td>0.666667</td>\n      <td>0.250000</td>\n      <td>0.166667</td>\n    </tr>\n    <tr>\n      <th>6441</th>\n      <td>736</td>\n      <td>48060</td>\n      <td>2008-08-08 13:06:17.390</td>\n      <td>2023-08-28 21:36:15.280</td>\n      <td>2365</td>\n      <td>1829</td>\n      <td>139</td>\n      <td>10.0</td>\n      <td>180.0</td>\n      <td>1.0</td>\n      <td>4.0</td>\n      <td>194.0</td>\n      <td>8.500000</td>\n      <td>20.200000</td>\n      <td>0.250000</td>\n    </tr>\n    <tr>\n      <th>...</th>\n      <td>...</td>\n      <td>...</td>\n      <td>...</td>\n      <td>...</td>\n      <td>...</td>\n      <td>...</td>\n      <td>...</td>\n      <td>...</td>\n      <td>...</td>\n      <td>...</td>\n      <td>...</td>\n      <td>...</td>\n      <td>...</td>\n      <td>...</td>\n      <td>...</td>\n    </tr>\n    <tr>\n      <th>3939</th>\n      <td>4318814</td>\n      <td>1086</td>\n      <td>2014-12-03 06:44:26.477</td>\n      <td>2023-08-31 15:26:44.660</td>\n      <td>166</td>\n      <td>93</td>\n      <td>9</td>\n      <td>0.0</td>\n      <td>155.0</td>\n      <td>0.0</td>\n      <td>2.0</td>\n      <td>157.0</td>\n      <td>1.000000</td>\n      <td>0.000000</td>\n      <td>0.000000</td>\n    </tr>\n    <tr>\n      <th>3940</th>\n      <td>337227</td>\n      <td>38035</td>\n      <td>2010-05-10 12:26:31.363</td>\n      <td>2021-08-19 09:04:07.313</td>\n      <td>3584</td>\n      <td>298</td>\n      <td>38</td>\n      <td>0.0</td>\n      <td>1562.0</td>\n      <td>0.0</td>\n      <td>3.0</td>\n      <td>1565.0</td>\n      <td>31.000000</td>\n      <td>0.000000</td>\n      <td>0.000000</td>\n    </tr>\n    <tr>\n      <th>3941</th>\n      <td>13697228</td>\n      <td>344</td>\n      <td>2020-06-07 01:08:31.003</td>\n      <td>2023-08-30 11:17:30.507</td>\n      <td>96</td>\n      <td>440</td>\n      <td>1</td>\n      <td>3.0</td>\n      <td>105.0</td>\n      <td>0.0</td>\n      <td>7.0</td>\n      <td>115.0</td>\n      <td>2.142857</td>\n      <td>0.666667</td>\n      <td>0.000000</td>\n    </tr>\n    <tr>\n      <th>3942</th>\n      <td>1231073</td>\n      <td>16623</td>\n      <td>2012-02-24 15:13:44.063</td>\n      <td>2023-09-02 11:57:01.143</td>\n      <td>3491</td>\n      <td>3495</td>\n      <td>636</td>\n      <td>0.0</td>\n      <td>781.0</td>\n      <td>0.0</td>\n      <td>10.0</td>\n      <td>791.0</td>\n      <td>3.700000</td>\n      <td>0.000000</td>\n      <td>0.000000</td>\n    </tr>\n    <tr>\n      <th>11809</th>\n      <td>4405757</td>\n      <td>17362</td>\n      <td>2014-12-30 14:51:39.327</td>\n      <td>2023-09-03 10:26:18.393</td>\n      <td>1776</td>\n      <td>1802</td>\n      <td>2942</td>\n      <td>0.0</td>\n      <td>1918.0</td>\n      <td>0.0</td>\n      <td>3.0</td>\n      <td>1921.0</td>\n      <td>1.666667</td>\n      <td>0.000000</td>\n      <td>0.000000</td>\n    </tr>\n  </tbody>\n</table>\n<p>11810 rows × 15 columns</p>\n</div>"
     },
     "execution_count": 5,
     "metadata": {},
     "output_type": "execute_result"
    }
   ],
   "source": [
    "active_users.sort_values('AcceptedAnswerCount', ascending=False)"
   ]
  },
  {
   "cell_type": "markdown",
   "metadata": {},
   "source": [
    "### Option: Filter posts from Recent year (maybe less deleted users)"
   ]
  },
  {
   "cell_type": "code",
   "execution_count": 13,
   "metadata": {},
   "outputs": [
    {
     "data": {
      "text/html": [
       "<div>\n",
       "<style scoped>\n",
       "    .dataframe tbody tr th:only-of-type {\n",
       "        vertical-align: middle;\n",
       "    }\n",
       "\n",
       "    .dataframe tbody tr th {\n",
       "        vertical-align: top;\n",
       "    }\n",
       "\n",
       "    .dataframe thead th {\n",
       "        text-align: right;\n",
       "    }\n",
       "</style>\n",
       "<table border=\"1\" class=\"dataframe\">\n",
       "  <thead>\n",
       "    <tr style=\"text-align: right;\">\n",
       "      <th></th>\n",
       "      <th>Deleted Comments (%)</th>\n",
       "      <th>Deleted Posts (%)</th>\n",
       "    </tr>\n",
       "    <tr>\n",
       "      <th>CreationDate</th>\n",
       "      <th></th>\n",
       "      <th></th>\n",
       "    </tr>\n",
       "  </thead>\n",
       "  <tbody>\n",
       "    <tr>\n",
       "      <th>2008-08</th>\n",
       "      <td>0.0</td>\n",
       "      <td>1.358234</td>\n",
       "    </tr>\n",
       "    <tr>\n",
       "      <th>2009-02</th>\n",
       "      <td>0.0</td>\n",
       "      <td>4.853264</td>\n",
       "    </tr>\n",
       "    <tr>\n",
       "      <th>2009-08</th>\n",
       "      <td>0.0</td>\n",
       "      <td>5.904742</td>\n",
       "    </tr>\n",
       "    <tr>\n",
       "      <th>2010-02</th>\n",
       "      <td>0.0</td>\n",
       "      <td>2.602338</td>\n",
       "    </tr>\n",
       "    <tr>\n",
       "      <th>2010-08</th>\n",
       "      <td>0.0</td>\n",
       "      <td>1.600119</td>\n",
       "    </tr>\n",
       "  </tbody>\n",
       "</table>\n",
       "</div>"
      ],
      "text/plain": [
       "              Deleted Comments (%)  Deleted Posts (%)\n",
       "CreationDate                                         \n",
       "2008-08                        0.0           1.358234\n",
       "2009-02                        0.0           4.853264\n",
       "2009-08                        0.0           5.904742\n",
       "2010-02                        0.0           2.602338\n",
       "2010-08                        0.0           1.600119"
      ]
     },
     "execution_count": 13,
     "metadata": {},
     "output_type": "execute_result"
    }
   ],
   "source": [
    "# Convert 'CreationDate' to datetime format once for the main DataFrames\n",
    "df_comments['CreationDate'] = pd.to_datetime(df_comments['CreationDate'])\n",
    "df_posts['CreationDate'] = pd.to_datetime(df_posts['CreationDate'])\n",
    "\n",
    "# Identify deleted comments and posts\n",
    "deleted_comments = df_comments[df_comments['UserId'] == -1]\n",
    "deleted_posts = df_posts[df_posts['OwnerUserId'] == -1]\n",
    "\n",
    "# Resample and count deleted entries every half year\n",
    "semi_annual_deleted_comments = deleted_comments.resample('6M', on='CreationDate').count()['Id']\n",
    "semi_annual_deleted_posts = deleted_posts.resample('6M', on='CreationDate').count()['Id']\n",
    "\n",
    "# Resample and count total entries every half year\n",
    "semi_annual_total_comments = df_comments.resample('6M', on='CreationDate').count()['Id']\n",
    "semi_annual_total_posts = df_posts.resample('6M', on='CreationDate').count()['Id']\n",
    "\n",
    "# Calculate the percentage of deleted comments and posts (handling division by zero)\n",
    "semi_annual_deleted_comments_percentage = (semi_annual_deleted_comments / semi_annual_total_comments.replace(0, np.nan)) * 100\n",
    "semi_annual_deleted_posts_percentage = (semi_annual_deleted_posts / semi_annual_total_posts.replace(0, np.nan)) * 100\n",
    "\n",
    "# Combine the results into a single DataFrame for visualization\n",
    "semi_annual_percentage = pd.DataFrame({\n",
    "    'Deleted Comments (%)': semi_annual_deleted_comments_percentage,\n",
    "    'Deleted Posts (%)': semi_annual_deleted_posts_percentage\n",
    "}).fillna(0)  # fill NaN with 0 (in case of divisions by zero)\n",
    "\n",
    "# Formatting the index for better readability\n",
    "semi_annual_percentage.index = semi_annual_percentage.index.strftime('%Y-%m')\n",
    "\n",
    "# Displaying the DataFrame\n",
    "semi_annual_percentage.head()"
   ]
  },
  {
   "cell_type": "code",
   "execution_count": 14,
   "metadata": {},
   "outputs": [
    {
     "data": {
      "image/png": "[encoded data removed]",
      "text/plain": [
       "<Figure size 1000x600 with 1 Axes>"
      ]
     },
     "metadata": {},
     "output_type": "display_data"
    }
   ],
   "source": [
    "# Plotting the data\n",
    "plt.figure(figsize=(10, 6))\n",
    "semi_annual_percentage.plot(kind='bar', ax=plt.gca())\n",
    "plt.title('Percentage of Deleted Users in Comments and Posts (Semi-Annually)')\n",
    "plt.xlabel('6-Month Intervals')\n",
    "plt.ylabel('Percentage')\n",
    "plt.xticks(rotation=45)\n",
    "plt.grid(True)\n",
    "plt.show()"
   ]
  },
  {
   "cell_type": "code",
   "execution_count": null,
   "metadata": {},
   "outputs": [],
   "source": []
  },
  {
   "cell_type": "markdown",
   "metadata": {},
   "source": [
    "### Filtering before the storm"
   ]
  },
  {
   "cell_type": "code",
   "execution_count": 6,
   "metadata": {},
   "outputs": [
    {
     "name": "stdout",
     "output_type": "stream",
     "text": [
      "(42199170, 6)\n",
      "(1865160, 14)\n",
      "(42092110, 6)\n",
      "(1797023, 14)\n"
     ]
    }
   ],
   "source": [
    "print(filtered_comments.shape)\n",
    "print(filtered_active_posts_df.shape)\n",
    "\n",
    "# Removing entries with -1 in UserId and OwnerUserId columns\n",
    "#filtered_comments = filtered_comments[filtered_comments['UserId'] != -1]\n",
    "\n",
    "filtered_active_posts_df = filtered_active_posts_df[filtered_active_posts_df['OwnerUserId'] != -1]\n",
    "\n",
    "print(filtered_comments.shape)\n",
    "print(filtered_active_posts_df.shape)"
   ]
  },
  {
   "cell_type": "markdown",
   "metadata": {},
   "source": [
    "### Preprocess text"
   ]
  },
  {
   "cell_type": "code",
   "execution_count": 6,
   "metadata": {
    "ExecuteTime": {
     "end_time": "2023-11-26T12:47:57.391085200Z",
     "start_time": "2023-11-26T12:47:57.370558Z"
    }
   },
   "outputs": [],
   "source": [
    "# Modify preprocess_text function\n",
    "def preprocess_text(text, remove_stopwords=False, use_lemmatize=True, use_stemmer=False):\n",
    "    # Handle None or non-string inputs\n",
    "    if not isinstance(text, str):\n",
    "        return \"\"\n",
    "        \n",
    "    # Decode HTML entities\n",
    "    text = html.unescape(text)\n",
    "\n",
    "    # Remove HTML tags\n",
    "    text = re.sub(r'<[^>]+>', '', text)\n",
    "\n",
    "    # Remove non-alphanumeric characters and convert to lowercase\n",
    "    text = re.sub(r'[^a-zA-Z0-9]', ' ', text.lower())\n",
    "\n",
    "    words = text.split()\n",
    "    if remove_stopwords:\n",
    "        words = [word for word in words if word not in stopwords.words('english')]\n",
    "    if use_lemmatize:\n",
    "        lemmatizer = WordNetLemmatizer()\n",
    "        words = [lemmatizer.lemmatize(word) for word in words]\n",
    "    elif use_stemmer:  # Apply stemming only if use_stemmer is True\n",
    "        stemmer = PorterStemmer()\n",
    "        words = [stemmer.stem(word) for word in words]\n",
    "\n",
    "    text = ' '.join(words)\n",
    "    \n",
    "    return text"
   ]
  },
  {
   "cell_type": "code",
   "execution_count": 17,
   "metadata": {
    "ExecuteTime": {
     "end_time": "2023-11-25T23:58:05.468541100Z",
     "start_time": "2023-11-25T23:58:02.324463700Z"
    }
   },
   "outputs": [],
   "source": [
    "#Sample DFs for a pilot run\n",
    "#filtered_active_posts_df = filtered_active_posts_df.sample(frac=0.001)\n",
    "#filtered_comments_df = filtered_comments.sample(frac="
   ]
  },
  {
   "cell_type": "code",
   "execution_count": 7,
   "metadata": {
    "ExecuteTime": {
     "end_time": "2023-11-26T12:48:01.747441400Z",
     "start_time": "2023-11-26T12:48:00.602060600Z"
    }
   },
   "outputs": [],
   "source": [
    "# Preprocess Title, Body, and Tags using Dask DataFrames\n",
    "# Convert the DFs to Dask DataFrames\n",
    "ddf_comments = dd.from_pandas(filtered_comments, npartitions=8)\n",
    "ddf_posts = dd.from_pandas(filtered_active_posts_df, npartitions=8)"
   ]
  },
  {
   "cell_type": "code",
   "execution_count": 8,
   "metadata": {
    "ExecuteTime": {
     "end_time": "2023-11-26T12:58:13.053468400Z",
     "start_time": "2023-11-26T12:48:04.598062600Z"
    }
   },
   "outputs": [],
   "source": [
    "# Preprocess Columns\n",
    "ddf_comments['Text_Processed'] = ddf_comments['Text'].map_partitions(lambda x: x.apply(lambda y: preprocess_text(y, remove_stopwords=True, use_lemmatize=True, use_stemmer=False)))\n",
    "\n",
    "# Convert back to pandas DataFrame and save as pickle\n",
    "df_comments_processed = ddf_comments.compute()\n",
    "#df_comments_processed.to_pickle('df_comments_processed.pkl')"
   ]
  },
  {
   "cell_type": "code",
   "execution_count": null,
   "metadata": {},
   "outputs": [],
   "source": [
    "# Preprocess Posts\n",
    "ddf_posts['Title_Processed'] = ddf_posts['Title'].map_partitions(lambda x: x.apply(lambda y: preprocess_text(y, remove_stopwords=True, use_lemmatize=True, use_stemmer=False)))\n",
    "ddf_posts['Body_Processed'] = ddf_posts['Body'].map_partitions(lambda x: x.apply(lambda y: preprocess_text(y, remove_stopwords=True, use_lemmatize=True, use_stemmer=False)))"
   ]
  },
  {
   "cell_type": "code",
   "execution_count": null,
   "metadata": {},
   "outputs": [],
   "source": [
    "# Convert back to pandas DataFrame and save as pickle\n",
    "df_posts_processed = ddf_posts.compute()\n",
    "df_posts_processed.to_pickle('df_posts_processed.pkl')"
   ]
  },
  {
   "cell_type": "markdown",
   "metadata": {},
   "source": [
    "### Estimate memory usage"
   ]
  },
  {
   "cell_type": "code",
   "execution_count": 9,
   "metadata": {
    "ExecuteTime": {
     "end_time": "2023-11-26T12:58:13.087134900Z",
     "start_time": "2023-11-26T12:58:13.055986900Z"
    }
   },
   "outputs": [],
   "source": [
    "# Initialize SentimentIntensityAnalyzer once\n",
    "sia = SentimentIntensityAnalyzer()\n",
    "\n",
    "# Function to apply sentiment analysis\n",
    "def analyze_sentiment(text):\n",
    "    # Check if the text is missing or NaN, return 0.0 in such cases\n",
    "    if pd.isna(text):\n",
    "        return 0.0\n",
    "    # Ensure the text is encoded as a string\n",
    "    text = str(text)\n",
    "    return sia.polarity_scores(text)['compound']"
   ]
  },
  {
   "cell_type": "code",
   "execution_count": 9,
   "outputs": [],
   "source": [],
   "metadata": {
    "collapsed": false,
    "ExecuteTime": {
     "end_time": "2023-11-26T09:59:25.478909Z",
     "start_time": "2023-11-26T09:59:25.462888400Z"
    }
   }
  },
  {
   "cell_type": "code",
   "execution_count": null,
   "metadata": {},
   "outputs": [],
   "source": [
    "# def process_data(df, npartitions=None):\n",
    "#     start_time = time.time()\n",
    "#     \n",
    "#     # If npartitions is not specified, default to 1 (suitable for sequential processing)\n",
    "#     if npartitions is None:\n",
    "#         npartitions = 1\n",
    "# \n",
    "#     # Convert DataFrame to Dask DataFrame\n",
    "#     ddf = dd.from_pandas(df, npartitions=npartitions)\n",
    "#     # Apply sentiment analysis\n",
    "#     ddf['sentiment'] = ddf['Body'].map(analyze_sentiment, meta=('Body', 'float64'))\n",
    "# \n",
    "#     # Compute result and monitor memory usage\n",
    "#     result = ddf.compute()\n",
    "#     memory_usage = psutil.virtual_memory()\n",
    "#     \n",
    "#     end_time = time.time()\n",
    "#     return result, end_time - start_time, memory_usage.used\n",
    "\n",
    "# Sequential processing (no parallelism)\n",
    "# print(\"Running sequentially...\")\n",
    "# seq_result, seq_time, _ = process_data(df_posts)\n",
    "# print(f\"Sequential processing time: {seq_time} seconds\")\n",
    "# \n",
    "# # Parallel processing with multiple cores\n",
    "# core_counts = [2, 4, 6, 7, 8, 10]\n",
    "# for cores in core_counts:\n",
    "#     print(f\"Running with {cores} cores...\")\n",
    "#     with Client(n_workers=cores, threads_per_worker=2) as client:  # Adjust threads_per_worker as needed\n",
    "#         _, parallel_time, mem_usage = process_data(df_posts, npartitions=cores)\n",
    "#         efficiency = seq_time / (cores * parallel_time)\n",
    "#         print(f\"Time with {cores} cores: {parallel_time} seconds, Efficiency: {efficiency}, Memory used: {mem_usage} bytes\")"
   ]
  },
  {
   "cell_type": "markdown",
   "metadata": {},
   "source": [
    "### Sentiment Analysis Time"
   ]
  },
  {
   "cell_type": "code",
   "execution_count": 10,
   "metadata": {
    "ExecuteTime": {
     "end_time": "2023-11-26T12:58:13.271064700Z",
     "start_time": "2023-11-26T12:58:13.085621800Z"
    }
   },
   "outputs": [],
   "source": [
    "# Convert pandas DataFrame to Dask DataFrame\n",
    "df_comments_dask = dd.from_pandas(df_comments_processed, npartitions=8)  # Adjust npartitions based on memory usage results\n",
    "#df_posts_dask = dd.from_pandas(df_posts_processed, npartitions=8)  # Adjust npartitions based on memory usage results\n",
    "\n",
    "# Apply sentiment analysis\n",
    "df_comments_dask['Text_sentiment'] = df_comments_dask['Text'].map(analyze_sentiment)"
   ]
  },
  {
   "cell_type": "code",
   "execution_count": null,
   "metadata": {},
   "outputs": [],
   "source": [
    "#df_posts_dask['body_sentiment'] = df_posts_dask['Body'].map(analyze_sentiment)"
   ]
  },
  {
   "cell_type": "code",
   "execution_count": null,
   "metadata": {},
   "outputs": [],
   "source": [
    "#df_posts_dask['title_sentiment'] = df_posts_dask['Title'].map(analyze_sentiment)"
   ]
  },
  {
   "cell_type": "code",
   "execution_count": 11,
   "metadata": {
    "ExecuteTime": {
     "end_time": "2023-11-26T12:58:40.769226800Z",
     "start_time": "2023-11-26T12:58:13.272064600Z"
    }
   },
   "outputs": [
    {
     "name": "stdout",
     "output_type": "stream",
     "text": [
      "[########################################] | 100% Completed | 27.48 ss\n"
     ]
    }
   ],
   "source": [
    "with ProgressBar():\n",
    "    df_comments_result = df_comments_dask.compute()"
   ]
  },
  {
   "cell_type": "code",
   "execution_count": null,
   "metadata": {},
   "outputs": [
    {
     "name": "stdout",
     "output_type": "stream",
     "text": [
      "[########################################] | 100% Completed | 1.29 sms\n"
     ]
    }
   ],
   "source": [
    "# with ProgressBar():\n",
    "#     df_posts_result = df_posts_dask.compute()"
   ]
  },
  {
   "cell_type": "code",
   "execution_count": 12,
   "metadata": {
    "ExecuteTime": {
     "end_time": "2023-11-26T12:58:40.822297500Z",
     "start_time": "2023-11-26T12:58:40.770227900Z"
    }
   },
   "outputs": [
    {
     "data": {
      "text/plain": "                 Id    PostId  Score  \\\n38360009   56906645  34568862      0   \n24728857   36412576  23696753      0   \n80775184  122194928  69136504      0   \n6031197     8839325   7321948      0   \n82368062  124723172  70555259      1   \n...             ...       ...    ...   \n36040546   53455188  23332492      1   \n951759      1557278   1682509      0   \n51115460   75953884  44478509      0   \n80104228  121123524  68534483      0   \n62431754   93414853  53264664      0   \n\n                                                       Text  \\\n38360009  Hi Paul, I am not sure where you find the time...   \n24728857  Oh look it's finally working after 3 hours! Ev...   \n80775184  Wow, what an amazing explanation: very calm, c...   \n6031197   Well I didn't want to do so because it's flame...   \n82368062  I do not know how to thank you to fit, when I ...   \n...                                                     ...   \n36040546  Hi Paul - I found it difficult to find your ta...   \n951759    The risk with that method, for Windows anyway,...   \n51115460  I am back for a short time. Sorry i wrote the ...   \n80104228  the structure works, But, I'm not able to prop...   \n62431754  Re, \"'blocking' just means: won't voluntarily ...   \n\n                    CreationDate    UserId  \\\n38360009 2016-01-03 19:43:08.543   1671693   \n24728857 2014-05-16 14:05:58.440   3399642   \n80775184 2021-09-10 19:45:27.787  16870652   \n6031197  2011-09-07 07:54:37.877     11449   \n82368062 2022-01-02 12:24:51.603  15894995   \n...                          ...       ...   \n36040546 2015-09-27 14:57:42.867    901641   \n951759   2009-11-05 19:49:39.470    183575   \n51115460 2017-06-11 01:11:28.907   8016168   \n80104228 2021-07-26 20:39:43.713   7343922   \n62431754 2018-11-12 15:35:20.680    801894   \n\n                                             Text_Processed  Text_sentiment  \n38360009  hi paul sure find time answer question thank m...          0.9917  \n24728857  oh look finally working 3 hour even though sti...          0.9898  \n80775184  wow amazing explanation calm clean step step e...          0.9897  \n6031197   well want flamefest area let put like python p...          0.9888  \n82368062  know thank fit solve equation excited tear kno...          0.9876  \n...                                                     ...             ...  \n36040546  hi paul found difficult find talk pycon 2006 m...         -0.9677  \n951759    risk method window anyway kill shell child pro...         -0.9682  \n51115460  back short time sorry wrote code wrong way sim...         -0.9711  \n80104228  structure work able properly capture sys exc i...         -0.9721  \n62431754  blocking mean voluntarily yield real python pr...         -0.9761  \n\n[134221 rows x 8 columns]",
      "text/html": "<div>\n<style scoped>\n    .dataframe tbody tr th:only-of-type {\n        vertical-align: middle;\n    }\n\n    .dataframe tbody tr th {\n        vertical-align: top;\n    }\n\n    .dataframe thead th {\n        text-align: right;\n    }\n</style>\n<table border=\"1\" class=\"dataframe\">\n  <thead>\n    <tr style=\"text-align: right;\">\n      <th></th>\n      <th>Id</th>\n      <th>PostId</th>\n      <th>Score</th>\n      <th>Text</th>\n      <th>CreationDate</th>\n      <th>UserId</th>\n      <th>Text_Processed</th>\n      <th>Text_sentiment</th>\n    </tr>\n  </thead>\n  <tbody>\n    <tr>\n      <th>38360009</th>\n      <td>56906645</td>\n      <td>34568862</td>\n      <td>0</td>\n      <td>Hi Paul, I am not sure where you find the time...</td>\n      <td>2016-01-03 19:43:08.543</td>\n      <td>1671693</td>\n      <td>hi paul sure find time answer question thank m...</td>\n      <td>0.9917</td>\n    </tr>\n    <tr>\n      <th>24728857</th>\n      <td>36412576</td>\n      <td>23696753</td>\n      <td>0</td>\n      <td>Oh look it's finally working after 3 hours! Ev...</td>\n      <td>2014-05-16 14:05:58.440</td>\n      <td>3399642</td>\n      <td>oh look finally working 3 hour even though sti...</td>\n      <td>0.9898</td>\n    </tr>\n    <tr>\n      <th>80775184</th>\n      <td>122194928</td>\n      <td>69136504</td>\n      <td>0</td>\n      <td>Wow, what an amazing explanation: very calm, c...</td>\n      <td>2021-09-10 19:45:27.787</td>\n      <td>16870652</td>\n      <td>wow amazing explanation calm clean step step e...</td>\n      <td>0.9897</td>\n    </tr>\n    <tr>\n      <th>6031197</th>\n      <td>8839325</td>\n      <td>7321948</td>\n      <td>0</td>\n      <td>Well I didn't want to do so because it's flame...</td>\n      <td>2011-09-07 07:54:37.877</td>\n      <td>11449</td>\n      <td>well want flamefest area let put like python p...</td>\n      <td>0.9888</td>\n    </tr>\n    <tr>\n      <th>82368062</th>\n      <td>124723172</td>\n      <td>70555259</td>\n      <td>1</td>\n      <td>I do not know how to thank you to fit, when I ...</td>\n      <td>2022-01-02 12:24:51.603</td>\n      <td>15894995</td>\n      <td>know thank fit solve equation excited tear kno...</td>\n      <td>0.9876</td>\n    </tr>\n    <tr>\n      <th>...</th>\n      <td>...</td>\n      <td>...</td>\n      <td>...</td>\n      <td>...</td>\n      <td>...</td>\n      <td>...</td>\n      <td>...</td>\n      <td>...</td>\n    </tr>\n    <tr>\n      <th>36040546</th>\n      <td>53455188</td>\n      <td>23332492</td>\n      <td>1</td>\n      <td>Hi Paul - I found it difficult to find your ta...</td>\n      <td>2015-09-27 14:57:42.867</td>\n      <td>901641</td>\n      <td>hi paul found difficult find talk pycon 2006 m...</td>\n      <td>-0.9677</td>\n    </tr>\n    <tr>\n      <th>951759</th>\n      <td>1557278</td>\n      <td>1682509</td>\n      <td>0</td>\n      <td>The risk with that method, for Windows anyway,...</td>\n      <td>2009-11-05 19:49:39.470</td>\n      <td>183575</td>\n      <td>risk method window anyway kill shell child pro...</td>\n      <td>-0.9682</td>\n    </tr>\n    <tr>\n      <th>51115460</th>\n      <td>75953884</td>\n      <td>44478509</td>\n      <td>0</td>\n      <td>I am back for a short time. Sorry i wrote the ...</td>\n      <td>2017-06-11 01:11:28.907</td>\n      <td>8016168</td>\n      <td>back short time sorry wrote code wrong way sim...</td>\n      <td>-0.9711</td>\n    </tr>\n    <tr>\n      <th>80104228</th>\n      <td>121123524</td>\n      <td>68534483</td>\n      <td>0</td>\n      <td>the structure works, But, I'm not able to prop...</td>\n      <td>2021-07-26 20:39:43.713</td>\n      <td>7343922</td>\n      <td>structure work able properly capture sys exc i...</td>\n      <td>-0.9721</td>\n    </tr>\n    <tr>\n      <th>62431754</th>\n      <td>93414853</td>\n      <td>53264664</td>\n      <td>0</td>\n      <td>Re, \"'blocking' just means: won't voluntarily ...</td>\n      <td>2018-11-12 15:35:20.680</td>\n      <td>801894</td>\n      <td>blocking mean voluntarily yield real python pr...</td>\n      <td>-0.9761</td>\n    </tr>\n  </tbody>\n</table>\n<p>134221 rows × 8 columns</p>\n</div>"
     },
     "execution_count": 12,
     "metadata": {},
     "output_type": "execute_result"
    }
   ],
   "source": [
    "df_comments_result.sort_values(by='Text_sentiment', ascending=False)"
   ]
  },
  {
   "cell_type": "markdown",
   "metadata": {},
   "source": [
    "### Save Results"
   ]
  },
  {
   "cell_type": "code",
   "execution_count": null,
   "metadata": {},
   "outputs": [],
   "source": [
    "df_comments_result.to_pickle('df_comments_result.pkl')\n",
    "#df_posts_result.to_pickle('df_posts_result.pkl')"
   ]
  },
  {
   "cell_type": "code",
   "execution_count": null,
   "metadata": {},
   "outputs": [
    {
     "data": {
      "text/plain": [
       "Index(['Id', 'PostTypeId', 'ParentId', 'AcceptedAnswerId', 'CreationDate',\n",
       "       'Score', 'ViewCount', 'Body', 'OwnerUserId', 'LastActivityDate',\n",
       "       'Title', 'Tags', 'AnswerCount', 'CommentCount', 'Title_Processed',\n",
       "       'Body_Processed'],\n",
       "      dtype='object')"
      ]
     },
     "execution_count": 78,
     "metadata": {},
     "output_type": "execute_result"
    }
   ],
   "source": [
    "#df_posts_result.columns"
   ]
  },
  {
   "cell_type": "code",
   "execution_count": null,
   "outputs": [],
   "source": [],
   "metadata": {
    "collapsed": false
   }
  },
  {
   "cell_type": "code",
   "execution_count": 13,
   "metadata": {
    "ExecuteTime": {
     "end_time": "2023-11-26T12:58:40.955694100Z",
     "start_time": "2023-11-26T12:58:40.816798800Z"
    }
   },
   "outputs": [],
   "source": [
    "avg_answer_sentiment = df_comments_result.groupby('PostId')['Text_sentiment'].mean().rename('AvgAnswerSentiment')\n",
    "active_user_answers = active_user_answers.merge(avg_answer_sentiment, left_on='Id', right_on='PostId', how='left').fillna({'AvgAnswerSentiment': 0})"
   ]
  },
  {
   "cell_type": "code",
   "execution_count": 14,
   "outputs": [
    {
     "data": {
      "text/plain": "             Id  PostTypeId  ParentId  AcceptedAnswerId  \\\n82504  70555259           2  70554714                -1   \n71673  62112894           2  62112754                -1   \n9251    8495292           2   8495222                -1   \n75609  65098354           2  65093534                -1   \n60888  54092820           2  54091439                -1   \n...         ...         ...       ...               ...   \n74138  63971509           2   5387299                -1   \n30664  27736500           2  27734527                -1   \n89977  76395059           2  76371195                -1   \n56214  50499892           2  50472471                -1   \n34337  30957004           2  30559230                -1   \n\n                 CreationDate  Score  ViewCount  \\\n82504 2022-01-02 10:34:41.913      1         -1   \n71673 2020-05-31 07:22:17.837      5         -1   \n9251  2011-12-13 19:53:03.127      1         -1   \n75609 2020-12-01 20:53:29.513      0         -1   \n60888 2019-01-08 13:25:31.710      5         -1   \n...                       ...    ...        ...   \n74138 2020-09-19 17:24:58.627      1         -1   \n30664 2015-01-02 01:49:06.950      1         -1   \n89977 2023-06-03 07:49:14.690      1         -1   \n56214 2018-05-24 02:07:51.650      1         -1   \n34337 2015-06-20 17:35:30.613      4         -1   \n\n                                                    Body  OwnerUserId  \\\n82504  <p>Vectors P1-&gt;P3 and P1-&gt;P2 are colline...      3080723   \n71673  <p>It does not work that way. <code>time.sleep...      5577765   \n9251   <p>Your <code>analyzer</code> argument to <cod...       914466   \n75609  <p>I changed it so you pass items into the obj...      2397865   \n60888  <p>Processes require a function to run, which ...      5349916   \n...                                                  ...          ...   \n74138  <p>One approach can be to let those sub tests ...      2373278   \n30664  <p>You may use the built-in <code>map()</code>...      4333347   \n89977  <p>The example below deomonstrates how to make...     17865804   \n56214  <p>If you're starting your containers all at o...      5619724   \n34337  <p>Try removing pip and distribute and setupto...       795990   \n\n             LastActivityDate         Title          Tags  AnswerCount  \\\n82504 2022-01-02 10:34:41.913  Comment: N/A  Comment: N/A           -1   \n71673 2021-05-11 19:08:28.317  Comment: N/A  Comment: N/A           -1   \n9251  2011-12-13 19:53:03.127  Comment: N/A  Comment: N/A           -1   \n75609 2020-12-01 20:53:29.513  Comment: N/A  Comment: N/A           -1   \n60888 2019-01-08 13:36:55.353  Comment: N/A  Comment: N/A           -1   \n...                       ...           ...           ...          ...   \n74138 2021-02-05 18:25:28.770  Comment: N/A  Comment: N/A           -1   \n30664 2015-01-02 16:48:40.017  Comment: N/A  Comment: N/A           -1   \n89977 2023-06-03 07:49:14.690  Comment: N/A  Comment: N/A           -1   \n56214 2018-05-24 02:07:51.650  Comment: N/A  Comment: N/A           -1   \n34337 2015-06-20 17:35:30.613  Comment: N/A  Comment: N/A           -1   \n\n       CommentCount  AvgAnswerSentiment  \n82504             1              0.9876  \n71673             1              0.9835  \n9251              1              0.9812  \n75609             1              0.9810  \n60888             1              0.9804  \n...             ...                 ...  \n74138             1             -0.9446  \n30664             1             -0.9460  \n89977             1             -0.9529  \n56214             1             -0.9538  \n34337             1             -0.9605  \n\n[90683 rows x 15 columns]",
      "text/html": "<div>\n<style scoped>\n    .dataframe tbody tr th:only-of-type {\n        vertical-align: middle;\n    }\n\n    .dataframe tbody tr th {\n        vertical-align: top;\n    }\n\n    .dataframe thead th {\n        text-align: right;\n    }\n</style>\n<table border=\"1\" class=\"dataframe\">\n  <thead>\n    <tr style=\"text-align: right;\">\n      <th></th>\n      <th>Id</th>\n      <th>PostTypeId</th>\n      <th>ParentId</th>\n      <th>AcceptedAnswerId</th>\n      <th>CreationDate</th>\n      <th>Score</th>\n      <th>ViewCount</th>\n      <th>Body</th>\n      <th>OwnerUserId</th>\n      <th>LastActivityDate</th>\n      <th>Title</th>\n      <th>Tags</th>\n      <th>AnswerCount</th>\n      <th>CommentCount</th>\n      <th>AvgAnswerSentiment</th>\n    </tr>\n  </thead>\n  <tbody>\n    <tr>\n      <th>82504</th>\n      <td>70555259</td>\n      <td>2</td>\n      <td>70554714</td>\n      <td>-1</td>\n      <td>2022-01-02 10:34:41.913</td>\n      <td>1</td>\n      <td>-1</td>\n      <td>&lt;p&gt;Vectors P1-&amp;gt;P3 and P1-&amp;gt;P2 are colline...</td>\n      <td>3080723</td>\n      <td>2022-01-02 10:34:41.913</td>\n      <td>Comment: N/A</td>\n      <td>Comment: N/A</td>\n      <td>-1</td>\n      <td>1</td>\n      <td>0.9876</td>\n    </tr>\n    <tr>\n      <th>71673</th>\n      <td>62112894</td>\n      <td>2</td>\n      <td>62112754</td>\n      <td>-1</td>\n      <td>2020-05-31 07:22:17.837</td>\n      <td>5</td>\n      <td>-1</td>\n      <td>&lt;p&gt;It does not work that way. &lt;code&gt;time.sleep...</td>\n      <td>5577765</td>\n      <td>2021-05-11 19:08:28.317</td>\n      <td>Comment: N/A</td>\n      <td>Comment: N/A</td>\n      <td>-1</td>\n      <td>1</td>\n      <td>0.9835</td>\n    </tr>\n    <tr>\n      <th>9251</th>\n      <td>8495292</td>\n      <td>2</td>\n      <td>8495222</td>\n      <td>-1</td>\n      <td>2011-12-13 19:53:03.127</td>\n      <td>1</td>\n      <td>-1</td>\n      <td>&lt;p&gt;Your &lt;code&gt;analyzer&lt;/code&gt; argument to &lt;cod...</td>\n      <td>914466</td>\n      <td>2011-12-13 19:53:03.127</td>\n      <td>Comment: N/A</td>\n      <td>Comment: N/A</td>\n      <td>-1</td>\n      <td>1</td>\n      <td>0.9812</td>\n    </tr>\n    <tr>\n      <th>75609</th>\n      <td>65098354</td>\n      <td>2</td>\n      <td>65093534</td>\n      <td>-1</td>\n      <td>2020-12-01 20:53:29.513</td>\n      <td>0</td>\n      <td>-1</td>\n      <td>&lt;p&gt;I changed it so you pass items into the obj...</td>\n      <td>2397865</td>\n      <td>2020-12-01 20:53:29.513</td>\n      <td>Comment: N/A</td>\n      <td>Comment: N/A</td>\n      <td>-1</td>\n      <td>1</td>\n      <td>0.9810</td>\n    </tr>\n    <tr>\n      <th>60888</th>\n      <td>54092820</td>\n      <td>2</td>\n      <td>54091439</td>\n      <td>-1</td>\n      <td>2019-01-08 13:25:31.710</td>\n      <td>5</td>\n      <td>-1</td>\n      <td>&lt;p&gt;Processes require a function to run, which ...</td>\n      <td>5349916</td>\n      <td>2019-01-08 13:36:55.353</td>\n      <td>Comment: N/A</td>\n      <td>Comment: N/A</td>\n      <td>-1</td>\n      <td>1</td>\n      <td>0.9804</td>\n    </tr>\n    <tr>\n      <th>...</th>\n      <td>...</td>\n      <td>...</td>\n      <td>...</td>\n      <td>...</td>\n      <td>...</td>\n      <td>...</td>\n      <td>...</td>\n      <td>...</td>\n      <td>...</td>\n      <td>...</td>\n      <td>...</td>\n      <td>...</td>\n      <td>...</td>\n      <td>...</td>\n      <td>...</td>\n    </tr>\n    <tr>\n      <th>74138</th>\n      <td>63971509</td>\n      <td>2</td>\n      <td>5387299</td>\n      <td>-1</td>\n      <td>2020-09-19 17:24:58.627</td>\n      <td>1</td>\n      <td>-1</td>\n      <td>&lt;p&gt;One approach can be to let those sub tests ...</td>\n      <td>2373278</td>\n      <td>2021-02-05 18:25:28.770</td>\n      <td>Comment: N/A</td>\n      <td>Comment: N/A</td>\n      <td>-1</td>\n      <td>1</td>\n      <td>-0.9446</td>\n    </tr>\n    <tr>\n      <th>30664</th>\n      <td>27736500</td>\n      <td>2</td>\n      <td>27734527</td>\n      <td>-1</td>\n      <td>2015-01-02 01:49:06.950</td>\n      <td>1</td>\n      <td>-1</td>\n      <td>&lt;p&gt;You may use the built-in &lt;code&gt;map()&lt;/code&gt;...</td>\n      <td>4333347</td>\n      <td>2015-01-02 16:48:40.017</td>\n      <td>Comment: N/A</td>\n      <td>Comment: N/A</td>\n      <td>-1</td>\n      <td>1</td>\n      <td>-0.9460</td>\n    </tr>\n    <tr>\n      <th>89977</th>\n      <td>76395059</td>\n      <td>2</td>\n      <td>76371195</td>\n      <td>-1</td>\n      <td>2023-06-03 07:49:14.690</td>\n      <td>1</td>\n      <td>-1</td>\n      <td>&lt;p&gt;The example below deomonstrates how to make...</td>\n      <td>17865804</td>\n      <td>2023-06-03 07:49:14.690</td>\n      <td>Comment: N/A</td>\n      <td>Comment: N/A</td>\n      <td>-1</td>\n      <td>1</td>\n      <td>-0.9529</td>\n    </tr>\n    <tr>\n      <th>56214</th>\n      <td>50499892</td>\n      <td>2</td>\n      <td>50472471</td>\n      <td>-1</td>\n      <td>2018-05-24 02:07:51.650</td>\n      <td>1</td>\n      <td>-1</td>\n      <td>&lt;p&gt;If you're starting your containers all at o...</td>\n      <td>5619724</td>\n      <td>2018-05-24 02:07:51.650</td>\n      <td>Comment: N/A</td>\n      <td>Comment: N/A</td>\n      <td>-1</td>\n      <td>1</td>\n      <td>-0.9538</td>\n    </tr>\n    <tr>\n      <th>34337</th>\n      <td>30957004</td>\n      <td>2</td>\n      <td>30559230</td>\n      <td>-1</td>\n      <td>2015-06-20 17:35:30.613</td>\n      <td>4</td>\n      <td>-1</td>\n      <td>&lt;p&gt;Try removing pip and distribute and setupto...</td>\n      <td>795990</td>\n      <td>2015-06-20 17:35:30.613</td>\n      <td>Comment: N/A</td>\n      <td>Comment: N/A</td>\n      <td>-1</td>\n      <td>1</td>\n      <td>-0.9605</td>\n    </tr>\n  </tbody>\n</table>\n<p>90683 rows × 15 columns</p>\n</div>"
     },
     "execution_count": 14,
     "metadata": {},
     "output_type": "execute_result"
    }
   ],
   "source": [
    "active_user_answers.sort_values(by='AvgAnswerSentiment', ascending=False)"
   ],
   "metadata": {
    "collapsed": false,
    "ExecuteTime": {
     "end_time": "2023-11-26T12:58:40.957199800Z",
     "start_time": "2023-11-26T12:58:40.894982100Z"
    }
   }
  },
  {
   "cell_type": "code",
   "execution_count": 15,
   "metadata": {
    "ExecuteTime": {
     "end_time": "2023-11-26T12:58:40.957701200Z",
     "start_time": "2023-11-26T12:58:40.941165700Z"
    }
   },
   "outputs": [],
   "source": [
    "# Get average answer sentiment for each user\n",
    "user_avg_answer_sentiment = active_user_answers.groupby('OwnerUserId')['AvgAnswerSentiment'].mean().rename('AnswerSentiment')\n",
    "active_users = active_users.merge(user_avg_answer_sentiment, left_on='Id', right_on='OwnerUserId', how='left').fillna({'AnswerSentiment': 0})"
   ]
  },
  {
   "cell_type": "code",
   "execution_count": 16,
   "metadata": {
    "ExecuteTime": {
     "end_time": "2023-11-26T12:58:41.002474700Z",
     "start_time": "2023-11-26T12:58:40.957199800Z"
    }
   },
   "outputs": [
    {
     "data": {
      "text/plain": "             Id  Reputation            CreationDate          LastAccessDate  \\\n0       2084503        1153 2013-02-18 19:06:41.313 2023-08-23 15:59:39.330   \n1        744616        9721 2011-05-09 06:10:47.587 2023-09-03 08:12:29.347   \n2      12163898         119 2019-10-04 10:11:58.590 2023-08-22 18:04:47.997   \n3        260586        1952 2010-01-28 02:08:29.147 2023-08-03 05:35:13.130   \n4         56524       18002 2009-01-18 23:46:41.330 2015-05-01 09:06:30.197   \n...         ...         ...                     ...                     ...   \n11805   2843835        3806 2013-10-03 17:49:40.513 2022-06-15 00:16:00.863   \n11806   2344111        2732 2013-05-02 17:11:51.513 2023-08-31 17:27:10.120   \n11807   2893733        1799 2013-10-18 08:02:07.087 2023-09-01 14:11:31.870   \n11808   2732801       36610 2013-08-30 11:41:57.513 2023-07-20 17:40:02.430   \n11809   4405757       17362 2014-12-30 14:51:39.327 2023-09-03 10:26:18.393   \n\n       Views  UpVotes  DownVotes  PostCount  CommentCount  \\\n0        231      386          8       27.0         138.0   \n1       1438      504        212        4.0         566.0   \n2         55        3          0       21.0          57.0   \n3        137      178          9        1.0          74.0   \n4       2161      158        132        0.0         747.0   \n...      ...      ...        ...        ...           ...   \n11805    162      123         21        1.0         120.0   \n11806   1052       86        237        0.0         587.0   \n11807    203     1001          2        1.0         103.0   \n11808   3652     2485       1441        2.0        3767.0   \n11809   1776     1802       2942        0.0        1918.0   \n\n       AcceptedAnswerCount  AnswerCount  TotalActivity  AvgAnswerScore  \\\n0                      0.0          4.0          169.0        2.500000   \n1                      0.0          1.0          571.0        2.000000   \n2                      0.0          0.0           78.0        0.000000   \n3                      0.0          0.0           75.0        0.000000   \n4                      0.0          1.0          748.0        0.000000   \n...                    ...          ...            ...             ...   \n11805                  0.0          0.0          121.0        0.000000   \n11806                  0.0         29.0          616.0        2.137931   \n11807                  0.0          1.0          105.0        0.000000   \n11808                  0.0         19.0         3788.0        3.526316   \n11809                  0.0          3.0         1921.0        1.666667   \n\n       AvgPostScore  AcceptedAnswerFraction  AnswerSentiment  \n0          1.259259                     0.0        -0.009650  \n1          1.750000                     0.0         0.283289  \n2          0.142857                     NaN         0.000000  \n3          1.000000                     NaN         0.000000  \n4          0.000000                     0.0         0.490833  \n...             ...                     ...              ...  \n11805      0.000000                     NaN         0.000000  \n11806      0.000000                     0.0         0.129063  \n11807      1.000000                     0.0         0.000000  \n11808      2.500000                     0.0         0.022782  \n11809      0.000000                     0.0         0.172617  \n\n[11810 rows x 16 columns]",
      "text/html": "<div>\n<style scoped>\n    .dataframe tbody tr th:only-of-type {\n        vertical-align: middle;\n    }\n\n    .dataframe tbody tr th {\n        vertical-align: top;\n    }\n\n    .dataframe thead th {\n        text-align: right;\n    }\n</style>\n<table border=\"1\" class=\"dataframe\">\n  <thead>\n    <tr style=\"text-align: right;\">\n      <th></th>\n      <th>Id</th>\n      <th>Reputation</th>\n      <th>CreationDate</th>\n      <th>LastAccessDate</th>\n      <th>Views</th>\n      <th>UpVotes</th>\n      <th>DownVotes</th>\n      <th>PostCount</th>\n      <th>CommentCount</th>\n      <th>AcceptedAnswerCount</th>\n      <th>AnswerCount</th>\n      <th>TotalActivity</th>\n      <th>AvgAnswerScore</th>\n      <th>AvgPostScore</th>\n      <th>AcceptedAnswerFraction</th>\n      <th>AnswerSentiment</th>\n    </tr>\n  </thead>\n  <tbody>\n    <tr>\n      <th>0</th>\n      <td>2084503</td>\n      <td>1153</td>\n      <td>2013-02-18 19:06:41.313</td>\n      <td>2023-08-23 15:59:39.330</td>\n      <td>231</td>\n      <td>386</td>\n      <td>8</td>\n      <td>27.0</td>\n      <td>138.0</td>\n      <td>0.0</td>\n      <td>4.0</td>\n      <td>169.0</td>\n      <td>2.500000</td>\n      <td>1.259259</td>\n      <td>0.0</td>\n      <td>-0.009650</td>\n    </tr>\n    <tr>\n      <th>1</th>\n      <td>744616</td>\n      <td>9721</td>\n      <td>2011-05-09 06:10:47.587</td>\n      <td>2023-09-03 08:12:29.347</td>\n      <td>1438</td>\n      <td>504</td>\n      <td>212</td>\n      <td>4.0</td>\n      <td>566.0</td>\n      <td>0.0</td>\n      <td>1.0</td>\n      <td>571.0</td>\n      <td>2.000000</td>\n      <td>1.750000</td>\n      <td>0.0</td>\n      <td>0.283289</td>\n    </tr>\n    <tr>\n      <th>2</th>\n      <td>12163898</td>\n      <td>119</td>\n      <td>2019-10-04 10:11:58.590</td>\n      <td>2023-08-22 18:04:47.997</td>\n      <td>55</td>\n      <td>3</td>\n      <td>0</td>\n      <td>21.0</td>\n      <td>57.0</td>\n      <td>0.0</td>\n      <td>0.0</td>\n      <td>78.0</td>\n      <td>0.000000</td>\n      <td>0.142857</td>\n      <td>NaN</td>\n      <td>0.000000</td>\n    </tr>\n    <tr>\n      <th>3</th>\n      <td>260586</td>\n      <td>1952</td>\n      <td>2010-01-28 02:08:29.147</td>\n      <td>2023-08-03 05:35:13.130</td>\n      <td>137</td>\n      <td>178</td>\n      <td>9</td>\n      <td>1.0</td>\n      <td>74.0</td>\n      <td>0.0</td>\n      <td>0.0</td>\n      <td>75.0</td>\n      <td>0.000000</td>\n      <td>1.000000</td>\n      <td>NaN</td>\n      <td>0.000000</td>\n    </tr>\n    <tr>\n      <th>4</th>\n      <td>56524</td>\n      <td>18002</td>\n      <td>2009-01-18 23:46:41.330</td>\n      <td>2015-05-01 09:06:30.197</td>\n      <td>2161</td>\n      <td>158</td>\n      <td>132</td>\n      <td>0.0</td>\n      <td>747.0</td>\n      <td>0.0</td>\n      <td>1.0</td>\n      <td>748.0</td>\n      <td>0.000000</td>\n      <td>0.000000</td>\n      <td>0.0</td>\n      <td>0.490833</td>\n    </tr>\n    <tr>\n      <th>...</th>\n      <td>...</td>\n      <td>...</td>\n      <td>...</td>\n      <td>...</td>\n      <td>...</td>\n      <td>...</td>\n      <td>...</td>\n      <td>...</td>\n      <td>...</td>\n      <td>...</td>\n      <td>...</td>\n      <td>...</td>\n      <td>...</td>\n      <td>...</td>\n      <td>...</td>\n      <td>...</td>\n    </tr>\n    <tr>\n      <th>11805</th>\n      <td>2843835</td>\n      <td>3806</td>\n      <td>2013-10-03 17:49:40.513</td>\n      <td>2022-06-15 00:16:00.863</td>\n      <td>162</td>\n      <td>123</td>\n      <td>21</td>\n      <td>1.0</td>\n      <td>120.0</td>\n      <td>0.0</td>\n      <td>0.0</td>\n      <td>121.0</td>\n      <td>0.000000</td>\n      <td>0.000000</td>\n      <td>NaN</td>\n      <td>0.000000</td>\n    </tr>\n    <tr>\n      <th>11806</th>\n      <td>2344111</td>\n      <td>2732</td>\n      <td>2013-05-02 17:11:51.513</td>\n      <td>2023-08-31 17:27:10.120</td>\n      <td>1052</td>\n      <td>86</td>\n      <td>237</td>\n      <td>0.0</td>\n      <td>587.0</td>\n      <td>0.0</td>\n      <td>29.0</td>\n      <td>616.0</td>\n      <td>2.137931</td>\n      <td>0.000000</td>\n      <td>0.0</td>\n      <td>0.129063</td>\n    </tr>\n    <tr>\n      <th>11807</th>\n      <td>2893733</td>\n      <td>1799</td>\n      <td>2013-10-18 08:02:07.087</td>\n      <td>2023-09-01 14:11:31.870</td>\n      <td>203</td>\n      <td>1001</td>\n      <td>2</td>\n      <td>1.0</td>\n      <td>103.0</td>\n      <td>0.0</td>\n      <td>1.0</td>\n      <td>105.0</td>\n      <td>0.000000</td>\n      <td>1.000000</td>\n      <td>0.0</td>\n      <td>0.000000</td>\n    </tr>\n    <tr>\n      <th>11808</th>\n      <td>2732801</td>\n      <td>36610</td>\n      <td>2013-08-30 11:41:57.513</td>\n      <td>2023-07-20 17:40:02.430</td>\n      <td>3652</td>\n      <td>2485</td>\n      <td>1441</td>\n      <td>2.0</td>\n      <td>3767.0</td>\n      <td>0.0</td>\n      <td>19.0</td>\n      <td>3788.0</td>\n      <td>3.526316</td>\n      <td>2.500000</td>\n      <td>0.0</td>\n      <td>0.022782</td>\n    </tr>\n    <tr>\n      <th>11809</th>\n      <td>4405757</td>\n      <td>17362</td>\n      <td>2014-12-30 14:51:39.327</td>\n      <td>2023-09-03 10:26:18.393</td>\n      <td>1776</td>\n      <td>1802</td>\n      <td>2942</td>\n      <td>0.0</td>\n      <td>1918.0</td>\n      <td>0.0</td>\n      <td>3.0</td>\n      <td>1921.0</td>\n      <td>1.666667</td>\n      <td>0.000000</td>\n      <td>0.0</td>\n      <td>0.172617</td>\n    </tr>\n  </tbody>\n</table>\n<p>11810 rows × 16 columns</p>\n</div>"
     },
     "execution_count": 16,
     "metadata": {},
     "output_type": "execute_result"
    }
   ],
   "source": [
    "active_users"
   ]
  },
  {
   "cell_type": "code",
   "execution_count": 27,
   "outputs": [
    {
     "data": {
      "text/plain": "             Id  PostTypeId  ParentId  AcceptedAnswerId  \\\n30702  34275861           2  34275736                -1   \n54090  56792508           2  56792345                -1   \n\n                 CreationDate  Score  ViewCount  \\\n30702 2015-12-14 20:19:59.963      1         -1   \n54090 2019-06-27 13:48:32.717      1         -1   \n\n                                                    Body  OwnerUserId  \\\n30702  <p>In that folder structure, your path is wron...      3980115   \n54090  <p>The issue is that you're reusing the same v...      3980115   \n\n             LastActivityDate         Title          Tags  AnswerCount  \\\n30702 2015-12-14 20:19:59.963  Comment: N/A  Comment: N/A           -1   \n54090 2019-06-27 13:48:32.717  Comment: N/A  Comment: N/A           -1   \n\n       CommentCount  AvgAnswerSentiment  \n30702             1              0.4926  \n54090             2              0.4178  ",
      "text/html": "<div>\n<style scoped>\n    .dataframe tbody tr th:only-of-type {\n        vertical-align: middle;\n    }\n\n    .dataframe tbody tr th {\n        vertical-align: top;\n    }\n\n    .dataframe thead th {\n        text-align: right;\n    }\n</style>\n<table border=\"1\" class=\"dataframe\">\n  <thead>\n    <tr style=\"text-align: right;\">\n      <th></th>\n      <th>Id</th>\n      <th>PostTypeId</th>\n      <th>ParentId</th>\n      <th>AcceptedAnswerId</th>\n      <th>CreationDate</th>\n      <th>Score</th>\n      <th>ViewCount</th>\n      <th>Body</th>\n      <th>OwnerUserId</th>\n      <th>LastActivityDate</th>\n      <th>Title</th>\n      <th>Tags</th>\n      <th>AnswerCount</th>\n      <th>CommentCount</th>\n      <th>AvgAnswerSentiment</th>\n    </tr>\n  </thead>\n  <tbody>\n    <tr>\n      <th>30702</th>\n      <td>34275861</td>\n      <td>2</td>\n      <td>34275736</td>\n      <td>-1</td>\n      <td>2015-12-14 20:19:59.963</td>\n      <td>1</td>\n      <td>-1</td>\n      <td>&lt;p&gt;In that folder structure, your path is wron...</td>\n      <td>3980115</td>\n      <td>2015-12-14 20:19:59.963</td>\n      <td>Comment: N/A</td>\n      <td>Comment: N/A</td>\n      <td>-1</td>\n      <td>1</td>\n      <td>0.4926</td>\n    </tr>\n    <tr>\n      <th>54090</th>\n      <td>56792508</td>\n      <td>2</td>\n      <td>56792345</td>\n      <td>-1</td>\n      <td>2019-06-27 13:48:32.717</td>\n      <td>1</td>\n      <td>-1</td>\n      <td>&lt;p&gt;The issue is that you're reusing the same v...</td>\n      <td>3980115</td>\n      <td>2019-06-27 13:48:32.717</td>\n      <td>Comment: N/A</td>\n      <td>Comment: N/A</td>\n      <td>-1</td>\n      <td>2</td>\n      <td>0.4178</td>\n    </tr>\n  </tbody>\n</table>\n</div>"
     },
     "execution_count": 27,
     "metadata": {},
     "output_type": "execute_result"
    }
   ],
   "source": [
    "active_user_answers[active_user_answers['OwnerUserId'] == 3980115]"
   ],
   "metadata": {
    "collapsed": false,
    "ExecuteTime": {
     "end_time": "2023-11-26T10:36:29.879812100Z",
     "start_time": "2023-11-26T10:36:29.852759500Z"
    }
   }
  },
  {
   "cell_type": "code",
   "execution_count": null,
   "outputs": [],
   "source": [],
   "metadata": {
    "collapsed": false
   }
  }
 ],
 "metadata": {
  "kernelspec": {
   "display_name": "Python 3",
   "language": "python",
   "name": "python3"
  },
  "language_info": {
   "codemirror_mode": {
    "name": "ipython",
    "version": 3
   },
   "file_extension": ".py",
   "mimetype": "text/x-python",
   "name": "python",
   "nbconvert_exporter": "python",
   "pygments_lexer": "ipython3",
   "version": "3.11.0"
  }
 },
 "nbformat": 4,
 "nbformat_minor": 2
}
