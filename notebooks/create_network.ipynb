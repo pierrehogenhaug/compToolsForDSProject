{
 "cells": [
  {
   "cell_type": "code",
   "execution_count": 1,
   "metadata": {},
   "outputs": [],
   "source": [
    "import pickle\n",
    "import networkx as nx\n",
    "import pandas as pd\n",
    "import random"
   ]
  },
  {
   "cell_type": "code",
   "execution_count": 2,
   "metadata": {},
   "outputs": [],
   "source": [
    "def add_nodes_from_user_data(G, user_data):\n",
    "    \"\"\"\n",
    "    Add nodes to the graph from user data.\n",
    "\n",
    "    Parameters:\n",
    "    - G (networkx.Graph): The graph to add nodes to.\n",
    "    - user_data (pandas.DataFrame): The user data containing the 'Id' column.\n",
    "\n",
    "    Returns:\n",
    "    None\n",
    "    \"\"\"\n",
    "    for user_id in user_data['Id']:\n",
    "        G.add_node(user_id)"
   ]
  },
  {
   "cell_type": "code",
   "execution_count": 3,
   "metadata": {},
   "outputs": [],
   "source": [
    "def add_edges_from_post_data(G, posts_data):\n",
    "    \"\"\"\n",
    "    Add edges to a graph based on post data.\n",
    "\n",
    "    Parameters:\n",
    "    - G (networkx.Graph): The graph to add edges to.\n",
    "    - posts_data (pandas.DataFrame): The post data containing information about posts.\n",
    "\n",
    "    Returns:\n",
    "    None\n",
    "    \"\"\"\n",
    "    # Filter to only answers and drop NaNs\n",
    "    answers_data = posts_data[posts_data['PostTypeId'] == 2].dropna(subset=['ParentId', 'OwnerUserId'])\n",
    "\n",
    "    # Create a lookup table for question askers\n",
    "    question_askers = posts_data[posts_data['PostTypeId'] == 1].set_index('Id')['OwnerUserId']\n",
    "\n",
    "    # Iterate through answers\n",
    "    for answerer_id, question_id in zip(answers_data['OwnerUserId'], answers_data['ParentId']):\n",
    "        asker_id = question_askers.get(question_id)\n",
    "        if asker_id is not None:\n",
    "            G.add_edge(answerer_id, asker_id)"
   ]
  },
  {
   "cell_type": "code",
   "execution_count": 4,
   "metadata": {},
   "outputs": [],
   "source": [
    "def add_edges_from_comment_data(G, comments_data, posts_data):\n",
    "    \"\"\"\n",
    "    Add edges to the graph `G` based on the comment data.\n",
    "\n",
    "    Parameters:\n",
    "    - G (networkx.Graph): The graph to add edges to.\n",
    "    - comments_data (pandas.DataFrame): The comment data containing 'UserId' and 'PostId' columns.\n",
    "    - posts_data (pandas.DataFrame): The post data containing 'Id' and 'OwnerUserId' columns.\n",
    "\n",
    "    Returns:\n",
    "    None\n",
    "    \"\"\"\n",
    "    # Drop NaNs\n",
    "    comments_data = comments_data.dropna(subset=['PostId', 'UserId'])\n",
    "\n",
    "    # Create a lookup table for post owners\n",
    "    post_owners = posts_data.set_index('Id')['OwnerUserId']\n",
    "\n",
    "    # Iterate through comments\n",
    "    for commenter_id, post_id in zip(comments_data['UserId'], comments_data['PostId']):\n",
    "        post_owner_id = post_owners.get(post_id)\n",
    "        if post_owner_id is not None:\n",
    "            G.add_edge(commenter_id, post_owner_id)"
   ]
  },
  {
   "cell_type": "code",
   "execution_count": 5,
   "metadata": {},
   "outputs": [
    {
     "name": "stdout",
     "output_type": "stream",
     "text": [
      "Number of nodes: 1116805\n"
     ]
    }
   ],
   "source": [
    "# Create the network\n",
    "G = nx.DiGraph()\n",
    "\n",
    "# Add nodes (users)\n",
    "with open('../data/raw/users_typecasted.pkl', 'rb') as file:\n",
    "    user_data = pickle.load(file)\n",
    "# Add nodes to the graph\n",
    "add_nodes_from_user_data(G, user_data)\n",
    "\n",
    "# Print number of nodes\n",
    "print('Number of nodes:', len(G.nodes()))"
   ]
  },
  {
   "cell_type": "code",
   "execution_count": 6,
   "metadata": {},
   "outputs": [
    {
     "name": "stdout",
     "output_type": "stream",
     "text": [
      "Number of edges: 987196\n"
     ]
    }
   ],
   "source": [
    "# Add edges from post (questions and answers) interactions\n",
    "\n",
    "with open('../data/raw/posts_typecasted_1.pkl', 'rb') as file:\n",
    "    posts_data_1 = pickle.load(file)\n",
    "with open('../data/raw/posts_typecasted_2.pkl', 'rb') as file:\n",
    "    posts_data_2 = pickle.load(file)\n",
    "with open('../data/raw/posts_typecasted_3.pkl', 'rb') as file:\n",
    "    posts_data_3 = pickle.load(file)\n",
    "with open('../data/raw/posts_typecasted_4.pkl', 'rb') as file:\n",
    "    posts_data_4 = pickle.load(file)\n",
    "\n",
    "# Combine all post data\n",
    "posts_data = pd.concat([posts_data_1, posts_data_2, posts_data_3, posts_data_4], ignore_index=True)\n",
    "# Add edges to the graph\n",
    "add_edges_from_post_data(G, posts_data)\n",
    "\n",
    "# Print number of edges\n",
    "print('Number of edges:', len(G.edges()))"
   ]
  },
  {
   "cell_type": "code",
   "execution_count": 7,
   "metadata": {},
   "outputs": [
    {
     "name": "stdout",
     "output_type": "stream",
     "text": [
      "Number of edges: 4363589\n"
     ]
    }
   ],
   "source": [
    "# Add edges from comment interactions\n",
    "\n",
    "with open('../data/raw/comments_typecasted_1.pkl', 'rb') as file:\n",
    "    comments_data_1 = pickle.load(file)\n",
    "with open('../data/raw/comments_typecasted_2.pkl', 'rb') as file:\n",
    "    comments_data_2 = pickle.load(file)\n",
    "with open('../data/raw/comments_typecasted_3.pkl', 'rb') as file:\n",
    "    comments_data_3 = pickle.load(file)\n",
    "with open('../data/raw/comments_typecasted_4.pkl', 'rb') as file:\n",
    "    comments_data_4 = pickle.load(file)\n",
    "with open('../data/raw/comments_typecasted_5.pkl', 'rb') as file:\n",
    "    comments_data_5 = pickle.load(file)\n",
    "\n",
    "# Combine all comment data\n",
    "comments_data = pd.concat([comments_data_1, comments_data_2, comments_data_3, comments_data_4, comments_data_5], ignore_index=True)\n",
    "# Add edges to the graph\n",
    "add_edges_from_comment_data(G, comments_data, posts_data)\n",
    "\n",
    "# Print number of edges\n",
    "print('Number of edges:', len(G.edges()))"
   ]
  },
  {
   "cell_type": "code",
   "execution_count": 9,
   "metadata": {},
   "outputs": [],
   "source": [
    "# Save the network\n",
    "nx.write_gexf(G, '../data/processed/network/network.gexf')"
   ]
  }
 ],
 "metadata": {
  "kernelspec": {
   "display_name": "Python 3",
   "language": "python",
   "name": "python3"
  },
  "language_info": {
   "codemirror_mode": {
    "name": "ipython",
    "version": 3
   },
   "file_extension": ".py",
   "mimetype": "text/x-python",
   "name": "python",
   "nbconvert_exporter": "python",
   "pygments_lexer": "ipython3",
   "version": "3.10.9"
  }
 },
 "nbformat": 4,
 "nbformat_minor": 2
}
