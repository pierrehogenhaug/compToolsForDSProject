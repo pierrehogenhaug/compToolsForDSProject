{
 "cells": [
  {
   "cell_type": "code",
   "execution_count": 3,
   "metadata": {},
   "outputs": [],
   "source": [
    "import matplotlib.pyplot as plt\n",
    "import numpy as np\n",
    "import pandas as pd\n",
    "import re\n",
    "import seaborn as sns"
   ]
  },
  {
   "cell_type": "code",
   "execution_count": null,
   "metadata": {},
   "outputs": [],
   "source": [
    "# Load the Posts CSV\n",
    "# posts_df = pd.read_csv('./output/stackoverflow/Posts.csv')\n",
    "\n",
    "chunk_size = 50000  # This is an example size, adjust based on your system capabilities\n",
    "chunks = []  # This list will store the filtered data from each chunk\n",
    "\n",
    "# Define the regex pattern for Python tags\n",
    "python_tag_pattern = re.compile(r'\\b\\w*python\\w*\\b', re.IGNORECASE)\n",
    "python_file_pattern = re.compile(r'\\b\\.py\\b', re.IGNORECASE)\n",
    "\n",
    "for chunk in pd.read_csv('./output/stackoverflow/Posts.csv', chunksize=chunk_size):\n",
    "    # Filter by tags, titles, and text using the regex patterns\n",
    "    filtered_chunk = chunk[\n",
    "        chunk['Tags'].str.contains(python_tag_pattern, na=False) |\n",
    "        chunk['Title'].str.contains(python_tag_pattern, na=False) |\n",
    "        chunk['Body'].str.contains(python_tag_pattern, na=False) |\n",
    "        chunk['Title'].str.contains(python_file_pattern, na=False) |\n",
    "        chunk['Body'].str.contains(python_file_pattern, na=False) \n",
    "    ]\n",
    "\n",
    "    # Append the filtered chunk to the list\n",
    "    chunks.append(filtered_chunk)\n",
    "\n",
    "df_posts = pd.concat(chunks)\n",
    "# df_posts.to_pickle(\"./dfpython.pkl\")  "
   ]
  },
  {
   "cell_type": "code",
   "execution_count": 4,
   "metadata": {},
   "outputs": [
    {
     "data": {
      "text/html": [
       "<div>\n",
       "<style scoped>\n",
       "    .dataframe tbody tr th:only-of-type {\n",
       "        vertical-align: middle;\n",
       "    }\n",
       "\n",
       "    .dataframe tbody tr th {\n",
       "        vertical-align: top;\n",
       "    }\n",
       "\n",
       "    .dataframe thead th {\n",
       "        text-align: right;\n",
       "    }\n",
       "</style>\n",
       "<table border=\"1\" class=\"dataframe\">\n",
       "  <thead>\n",
       "    <tr style=\"text-align: right;\">\n",
       "      <th></th>\n",
       "      <th>Id</th>\n",
       "      <th>PostTypeId</th>\n",
       "      <th>ParentId</th>\n",
       "      <th>AcceptedAnswerId</th>\n",
       "      <th>CreationDate</th>\n",
       "      <th>Score</th>\n",
       "      <th>ViewCount</th>\n",
       "      <th>Body</th>\n",
       "      <th>OwnerUserId</th>\n",
       "      <th>LastActivityDate</th>\n",
       "      <th>Title</th>\n",
       "      <th>Tags</th>\n",
       "      <th>AnswerCount</th>\n",
       "      <th>CommentCount</th>\n",
       "      <th>FavoriteCount</th>\n",
       "      <th>ContentLicense</th>\n",
       "    </tr>\n",
       "  </thead>\n",
       "  <tbody>\n",
       "    <tr>\n",
       "      <th>150</th>\n",
       "      <td>307</td>\n",
       "      <td>2</td>\n",
       "      <td>260.0</td>\n",
       "      <td>NaN</td>\n",
       "      <td>2008-08-02T01:49:46.220</td>\n",
       "      <td>43</td>\n",
       "      <td>NaN</td>\n",
       "      <td>&lt;p&gt;&lt;a href=\"https://www.codeproject.com/Articl...</td>\n",
       "      <td>49.0</td>\n",
       "      <td>2019-12-24T07:28:19.907</td>\n",
       "      <td>NaN</td>\n",
       "      <td>NaN</td>\n",
       "      <td>NaN</td>\n",
       "      <td>3</td>\n",
       "      <td>NaN</td>\n",
       "      <td>CC BY-SA 4.0</td>\n",
       "    </tr>\n",
       "    <tr>\n",
       "      <th>160</th>\n",
       "      <td>337</td>\n",
       "      <td>1</td>\n",
       "      <td>NaN</td>\n",
       "      <td>342.0</td>\n",
       "      <td>2008-08-02T03:35:55.697</td>\n",
       "      <td>82</td>\n",
       "      <td>10424.0</td>\n",
       "      <td>&lt;p&gt;I am about to build a piece of a project th...</td>\n",
       "      <td>111.0</td>\n",
       "      <td>2021-11-12T18:56:21.143</td>\n",
       "      <td>XML Processing in Python</td>\n",
       "      <td>&lt;python&gt;&lt;xml&gt;</td>\n",
       "      <td>12.0</td>\n",
       "      <td>1</td>\n",
       "      <td>0.0</td>\n",
       "      <td>CC BY-SA 3.0</td>\n",
       "    </tr>\n",
       "    <tr>\n",
       "      <th>162</th>\n",
       "      <td>342</td>\n",
       "      <td>2</td>\n",
       "      <td>337.0</td>\n",
       "      <td>NaN</td>\n",
       "      <td>2008-08-02T04:01:34.600</td>\n",
       "      <td>36</td>\n",
       "      <td>NaN</td>\n",
       "      <td>&lt;p&gt;Personally, I've played with several of the...</td>\n",
       "      <td>59.0</td>\n",
       "      <td>2008-08-02T04:01:34.600</td>\n",
       "      <td>NaN</td>\n",
       "      <td>NaN</td>\n",
       "      <td>NaN</td>\n",
       "      <td>1</td>\n",
       "      <td>NaN</td>\n",
       "      <td>CC BY-SA 2.5</td>\n",
       "    </tr>\n",
       "    <tr>\n",
       "      <th>195</th>\n",
       "      <td>469</td>\n",
       "      <td>1</td>\n",
       "      <td>NaN</td>\n",
       "      <td>3040.0</td>\n",
       "      <td>2008-08-02T15:11:16.430</td>\n",
       "      <td>48</td>\n",
       "      <td>4837.0</td>\n",
       "      <td>&lt;p&gt;I am using the Photoshop's javascript API t...</td>\n",
       "      <td>147.0</td>\n",
       "      <td>2022-12-15T07:51:30.287</td>\n",
       "      <td>How can I find the full path to a font from it...</td>\n",
       "      <td>&lt;python&gt;&lt;macos&gt;&lt;fonts&gt;&lt;photoshop&gt;</td>\n",
       "      <td>6.0</td>\n",
       "      <td>0</td>\n",
       "      <td>NaN</td>\n",
       "      <td>CC BY-SA 3.0</td>\n",
       "    </tr>\n",
       "    <tr>\n",
       "      <th>197</th>\n",
       "      <td>471</td>\n",
       "      <td>2</td>\n",
       "      <td>337.0</td>\n",
       "      <td>NaN</td>\n",
       "      <td>2008-08-02T15:21:03.587</td>\n",
       "      <td>33</td>\n",
       "      <td>NaN</td>\n",
       "      <td>&lt;p&gt;&lt;a href=\"http://effbot.org/zone/element-ind...</td>\n",
       "      <td>147.0</td>\n",
       "      <td>2008-08-02T15:21:03.587</td>\n",
       "      <td>NaN</td>\n",
       "      <td>NaN</td>\n",
       "      <td>NaN</td>\n",
       "      <td>2</td>\n",
       "      <td>NaN</td>\n",
       "      <td>CC BY-SA 2.5</td>\n",
       "    </tr>\n",
       "  </tbody>\n",
       "</table>\n",
       "</div>"
      ],
      "text/plain": [
       "      Id  PostTypeId  ParentId  AcceptedAnswerId             CreationDate  \\\n",
       "150  307           2     260.0               NaN  2008-08-02T01:49:46.220   \n",
       "160  337           1       NaN             342.0  2008-08-02T03:35:55.697   \n",
       "162  342           2     337.0               NaN  2008-08-02T04:01:34.600   \n",
       "195  469           1       NaN            3040.0  2008-08-02T15:11:16.430   \n",
       "197  471           2     337.0               NaN  2008-08-02T15:21:03.587   \n",
       "\n",
       "     Score  ViewCount                                               Body  \\\n",
       "150     43        NaN  <p><a href=\"https://www.codeproject.com/Articl...   \n",
       "160     82    10424.0  <p>I am about to build a piece of a project th...   \n",
       "162     36        NaN  <p>Personally, I've played with several of the...   \n",
       "195     48     4837.0  <p>I am using the Photoshop's javascript API t...   \n",
       "197     33        NaN  <p><a href=\"http://effbot.org/zone/element-ind...   \n",
       "\n",
       "     OwnerUserId         LastActivityDate  \\\n",
       "150         49.0  2019-12-24T07:28:19.907   \n",
       "160        111.0  2021-11-12T18:56:21.143   \n",
       "162         59.0  2008-08-02T04:01:34.600   \n",
       "195        147.0  2022-12-15T07:51:30.287   \n",
       "197        147.0  2008-08-02T15:21:03.587   \n",
       "\n",
       "                                                 Title  \\\n",
       "150                                                NaN   \n",
       "160                           XML Processing in Python   \n",
       "162                                                NaN   \n",
       "195  How can I find the full path to a font from it...   \n",
       "197                                                NaN   \n",
       "\n",
       "                                  Tags  AnswerCount  CommentCount  \\\n",
       "150                                NaN          NaN             3   \n",
       "160                      <python><xml>         12.0             1   \n",
       "162                                NaN          NaN             1   \n",
       "195  <python><macos><fonts><photoshop>          6.0             0   \n",
       "197                                NaN          NaN             2   \n",
       "\n",
       "     FavoriteCount ContentLicense  \n",
       "150            NaN   CC BY-SA 4.0  \n",
       "160            0.0   CC BY-SA 3.0  \n",
       "162            NaN   CC BY-SA 2.5  \n",
       "195            NaN   CC BY-SA 3.0  \n",
       "197            NaN   CC BY-SA 2.5  "
      ]
     },
     "execution_count": 4,
     "metadata": {},
     "output_type": "execute_result"
    }
   ],
   "source": [
    "df_posts = pd.read_pickle('./df_posts.pkl')\n",
    "df_posts.head()"
   ]
  },
  {
   "cell_type": "markdown",
   "metadata": {},
   "source": [
    "### Read in `Comments.csv`, `PostLinks.csv`, and `Users.csv`\n",
    "\n",
    "but only rows that are related to our python related Posts DataFrame (either OwnerUserId, or Posts Id)"
   ]
  },
  {
   "cell_type": "code",
   "execution_count": 5,
   "metadata": {},
   "outputs": [],
   "source": [
    "# Create a Set of Relevant User IDs \n",
    "unique_user_ids = set(df_posts['OwnerUserId'].unique())"
   ]
  },
  {
   "cell_type": "code",
   "execution_count": null,
   "metadata": {},
   "outputs": [],
   "source": [
    "# Filter Other CSV Files While Reading them\n",
    "\n",
    "# Comments\n",
    "chunk_size = 50000  # Example chunk size, adjust as needed\n",
    "filtered_comments_chunks = []\n",
    "\n",
    "for chunk in pd.read_csv('./output/stackoverflow//Comments.csv', chunksize=chunk_size):\n",
    "    filtered_chunk = chunk[chunk['UserId'].isin(unique_user_ids)]\n",
    "    filtered_comments_chunks.append(filtered_chunk)\n",
    "\n",
    "df_comments = pd.concat(filtered_comments_chunks)"
   ]
  },
  {
   "cell_type": "code",
   "execution_count": null,
   "metadata": {},
   "outputs": [],
   "source": [
    "# Users\n",
    "user_cols = ['Id', 'Reputation', 'CreationDate', 'LastAccessDate', 'Views', 'UpVotes', 'DownVotes']\n",
    "\n",
    "filtered_users_chunks = []\n",
    "\n",
    "for chunk in pd.read_csv('./output/stackoverflow//Users.csv', chunksize=chunk_size, usecols=user_cols):\n",
    "    filtered_chunk = chunk[chunk['Id'].isin(unique_user_ids)]\n",
    "    filtered_users_chunks.append(filtered_chunk)\n",
    "\n",
    "df_users = pd.concat(filtered_users_chunks)"
   ]
  },
  {
   "cell_type": "code",
   "execution_count": null,
   "metadata": {},
   "outputs": [],
   "source": [
    "# PostLinks\n",
    "post_links_cols = ['Id', 'CreationDate', 'PostId', 'RelatedPostId', 'LinkTypeId']\n",
    "\n",
    "unique_post_ids = set(df_posts['Id'].unique())  # Unique post IDs from filtered posts\n",
    "filtered_postlinks_chunks = []\n",
    "\n",
    "for chunk in pd.read_csv('./output/stackoverflow//PostLinks.csv', chunksize=chunk_size, usecols=post_links_cols):\n",
    "    filtered_chunk = chunk[\n",
    "        chunk['PostId'].isin(unique_post_ids) |\n",
    "        chunk['RelatedPostId'].isin(unique_post_ids)\n",
    "    ]\n",
    "    filtered_postlinks_chunks.append(filtered_chunk)\n",
    "\n",
    "df_postlinks = pd.concat(filtered_postlinks_chunks)"
   ]
  },
  {
   "cell_type": "code",
   "execution_count": null,
   "metadata": {},
   "outputs": [],
   "source": [
    "# Tags\n",
    "tags_cols = ['Id', 'TagName', 'Count']\n",
    "\n",
    "#df_tags = pd.read_csv('./output/Tags.csv', usecols=tags_cols)\n",
    "tags_chunks = []\n",
    "\n",
    "for chunk in pd.read_csv('./output/stackoverflow/Tags.csv', chunksize=chunk_size, usecols=tags_cols):\n",
    "    tags_chunks.append(chunk)\n",
    "\n",
    "df_tags = pd.concat(tags_chunks)"
   ]
  },
  {
   "cell_type": "code",
   "execution_count": 5,
   "metadata": {},
   "outputs": [],
   "source": [
    "# df_comments.to_pickle(\"./df_comments.pkl\")\n",
    "# df_users.to_pickle(\"./df_users.pkl\")\n",
    "# df_postlinks.to_pickle(\"./df_postlinks.pkl\")\n",
    "# df_tags.to_pickle(\"./df_tags.pkl\")"
   ]
  },
  {
   "cell_type": "code",
   "execution_count": 6,
   "metadata": {},
   "outputs": [],
   "source": [
    "# Read dataframes from pickle files\n",
    "df_posts = pd.read_pickle('./df_posts.pkl')\n",
    "\n",
    "post_cols = [\n",
    "    'Id', 'PostTypeId', 'ParentId', 'AcceptedAnswerId', 'CreationDate', \n",
    "    'Score', 'ViewCount', 'Body', 'OwnerUserId', 'LastActivityDate', \n",
    "    'Title', 'Tags', 'AnswerCount', 'CommentCount'\n",
    "]\n",
    "\n",
    "df_posts = df_posts[post_cols]"
   ]
  },
  {
   "cell_type": "code",
   "execution_count": 7,
   "metadata": {},
   "outputs": [],
   "source": [
    "# Read dataframes from pickle files\n",
    "df_comments = pd.read_pickle('./df_comments.pkl')\n",
    "comment_cols = ['Id', 'PostId', 'Score', 'Text', 'CreationDate', 'UserId']\n",
    "\n",
    "df_comments = df_comments[comment_cols]"
   ]
  },
  {
   "cell_type": "code",
   "execution_count": 8,
   "metadata": {},
   "outputs": [],
   "source": [
    "# Read dataframes from pickle files\n",
    "df_posts_links = pd.read_pickle('./df_postlinks.pkl')\n",
    "df_tags = pd.read_pickle('./df_tags.pkl')\n",
    "df_users = pd.read_pickle('./df_users.pkl')"
   ]
  },
  {
   "cell_type": "markdown",
   "metadata": {},
   "source": [
    "### Typecasting"
   ]
  },
  {
   "cell_type": "code",
   "execution_count": 9,
   "metadata": {},
   "outputs": [
    {
     "name": "stdout",
     "output_type": "stream",
     "text": [
      "df_comments.isnull().sum()\n",
      "Text    3\n",
      "dtype: int64\n",
      "\n",
      "df_posts.isnull().sum()\n",
      "ParentId            2627187\n",
      "AcceptedAnswerId    2498319\n",
      "ViewCount           1184829\n",
      "Body                      5\n",
      "OwnerUserId           68184\n",
      "Title               1184679\n",
      "Tags                1184707\n",
      "AnswerCount         1184829\n",
      "dtype: int64\n",
      "\n",
      "df_tags.isnull().sum()\n",
      "TagName    2\n",
      "dtype: int64\n",
      "\n"
     ]
    }
   ],
   "source": [
    "if df_comments.isnull().sum().any():\n",
    "    print('df_comments.isnull().sum()', '\\n', df_comments.isnull().sum()[df_comments.isnull().sum() > 0], '\\n', sep='')\n",
    "\n",
    "if df_posts.isnull().sum().any():\n",
    "    print('df_posts.isnull().sum()', '\\n', df_posts.isnull().sum()[df_posts.isnull().sum() > 0], '\\n', sep='')\n",
    "\n",
    "if df_posts_links.isnull().sum().any():\n",
    "    print('df_posts_links.isnull().sum()', '\\n', df_posts_links.isnull().sum()[df_posts_links.isnull().sum() > 0], '\\n', sep='')\n",
    "\n",
    "if df_tags.isnull().sum().any():\n",
    "    print('df_tags.isnull().sum()', '\\n', df_tags.isnull().sum()[df_tags.isnull().sum() > 0], '\\n', sep='')\n",
    "\n",
    "if df_users.isnull().sum().any():\n",
    "    print('df_users.isnull().sum()', '\\n', df_users.isnull().sum()[df_users.isnull().sum() > 0], '\\n', sep='')\n"
   ]
  },
  {
   "cell_type": "markdown",
   "metadata": {},
   "source": [
    "### Missing values"
   ]
  },
  {
   "cell_type": "code",
   "execution_count": 10,
   "metadata": {},
   "outputs": [
    {
     "name": "stdout",
     "output_type": "stream",
     "text": [
      "df_comments.isnull().sum()\n",
      "Text    3\n",
      "dtype: int64\n",
      "\n",
      "df_posts.isnull().sum()\n",
      "ParentId            2627187\n",
      "AcceptedAnswerId    2498319\n",
      "ViewCount           1184829\n",
      "Body                      5\n",
      "OwnerUserId           68184\n",
      "Title               1184679\n",
      "Tags                1184707\n",
      "AnswerCount         1184829\n",
      "dtype: int64\n",
      "\n",
      "df_tags.isnull().sum()\n",
      "TagName    2\n",
      "dtype: int64\n",
      "\n"
     ]
    }
   ],
   "source": [
    "if df_comments.isnull().sum().any():\n",
    "    print('df_comments.isnull().sum()', '\\n', df_comments.isnull().sum()[df_comments.isnull().sum() > 0], '\\n', sep='')\n",
    "\n",
    "if df_posts.isnull().sum().any():\n",
    "    print('df_posts.isnull().sum()', '\\n', df_posts.isnull().sum()[df_posts.isnull().sum() > 0], '\\n', sep='')\n",
    "\n",
    "if df_posts_links.isnull().sum().any():\n",
    "    print('df_posts_links.isnull().sum()', '\\n', df_posts_links.isnull().sum()[df_posts_links.isnull().sum() > 0], '\\n', sep='')\n",
    "\n",
    "if df_tags.isnull().sum().any():\n",
    "    print('df_tags.isnull().sum()', '\\n', df_tags.isnull().sum()[df_tags.isnull().sum() > 0], '\\n', sep='')\n",
    "\n",
    "if df_users.isnull().sum().any():\n",
    "    print('df_users.isnull().sum()', '\\n', df_users.isnull().sum()[df_users.isnull().sum() > 0], '\\n', sep='')"
   ]
  },
  {
   "cell_type": "markdown",
   "metadata": {},
   "source": [
    "**Trying to explain the missing values**\n",
    "\n",
    "\n",
    "**`df_comments`**\n",
    "- `UserId` is absent if the user has been deleted \n",
    "\n",
    "**`df_posts`**\n",
    "- `ParentId` only present if PostTypeId = 2\n",
    "- `AcceptedAnswerId` only present if PostTypeId = 1\n",
    "- `ViewCount` only present if PostTypeId = 1\n",
    "- `Body` not present in some PostTypeId = [4,5]. We will only look at PostTypeId = [1,2]\n",
    "    - PostTypeId = 1: Question\n",
    "    - PostTypeId = 2: Answer\n",
    "    - PostTypeId = 4: Tag wiki excerpt\n",
    "    - Check documentation\n",
    "- `OwnerUserId` only present if user has not been deleted\n",
    "- `Title` question title only present if PostTypeId = 1\n",
    "- `Tags` question tags only present if PostTypeId = 1    \n",
    "- `AnswerCount` only present if PostTypeId = 1\n",
    "\n",
    "**How we will take action**\n",
    "\n",
    "**`df_comments`**\n",
    "- `UserId`: Before we remove comments from deleted users, we want to calculate average sentiment of threads users engage in. To calculate the average sentiment polarity of a thread, we want to include every user's comments. We therefore temporarily replace missing `UserId` with (-1).\n",
    "\n",
    "**`df_posts`**\n",
    "- We're only interested in PostTypeId 1 (Question) and 2 (Answer), so we filter out other types.\n",
    "- For the below columns which are conditionally present, we fill missing values with a placeholder (-1 or 'Comment: N/A') \n",
    "    - ParentId, \n",
    "    - AcceptedAnswerId, \n",
    "    - ViewCount, \n",
    "    - Title, \n",
    "    - Tags, and \n",
    "    - AnswerCount\n",
    "- For OwnerUserId, similar to the UserId in comments, we fill missing values with a placeholder (-1)"
   ]
  },
  {
   "cell_type": "code",
   "execution_count": 11,
   "metadata": {},
   "outputs": [],
   "source": [
    "# df_comments\n",
    "df_comments['UserId'] = df_comments['UserId'].fillna(-1)\n",
    "\n",
    "# df_posts\n",
    "df_posts = df_posts[df_posts['PostTypeId'].isin([1, 2])]\n",
    "\n",
    "df_posts['OwnerUserId'] = df_posts['OwnerUserId'].fillna(-1)\n",
    "df_posts.fillna({'ParentId': -1, 'AcceptedAnswerId': -1, 'ViewCount': -1, 'Title': 'Comment: N/A', 'Tags': 'Comment: N/A', 'AnswerCount': -1}, inplace=True)"
   ]
  },
  {
   "cell_type": "code",
   "execution_count": 12,
   "metadata": {},
   "outputs": [
    {
     "name": "stdout",
     "output_type": "stream",
     "text": [
      "True\n",
      "False\n"
     ]
    }
   ],
   "source": [
    "print(df_comments.isnull().sum().any())\n",
    "print(df_posts.isnull().sum().any())"
   ]
  },
  {
   "cell_type": "markdown",
   "metadata": {},
   "source": [
    "### df_comments"
   ]
  },
  {
   "cell_type": "code",
   "execution_count": 13,
   "metadata": {},
   "outputs": [
    {
     "name": "stdout",
     "output_type": "stream",
     "text": [
      "<class 'pandas.core.frame.DataFrame'>\n",
      "Int64Index: 47612714 entries, 1 to 89336453\n",
      "Data columns (total 6 columns):\n",
      " #   Column        Dtype  \n",
      "---  ------        -----  \n",
      " 0   Id            int64  \n",
      " 1   PostId        int64  \n",
      " 2   Score         int64  \n",
      " 3   Text          object \n",
      " 4   CreationDate  object \n",
      " 5   UserId        float64\n",
      "dtypes: float64(1), int64(3), object(2)\n",
      "memory usage: 2.5+ GB\n",
      "None \n",
      "\n"
     ]
    }
   ],
   "source": [
    "print(df_comments.info(), '\\n')"
   ]
  },
  {
   "cell_type": "markdown",
   "metadata": {},
   "source": [
    "### Quick look the dataframe"
   ]
  },
  {
   "cell_type": "code",
   "execution_count": 14,
   "metadata": {},
   "outputs": [
    {
     "data": {
      "text/html": [
       "<div>\n",
       "<style scoped>\n",
       "    .dataframe tbody tr th:only-of-type {\n",
       "        vertical-align: middle;\n",
       "    }\n",
       "\n",
       "    .dataframe tbody tr th {\n",
       "        vertical-align: top;\n",
       "    }\n",
       "\n",
       "    .dataframe thead th {\n",
       "        text-align: right;\n",
       "    }\n",
       "</style>\n",
       "<table border=\"1\" class=\"dataframe\">\n",
       "  <thead>\n",
       "    <tr style=\"text-align: right;\">\n",
       "      <th></th>\n",
       "      <th>Id</th>\n",
       "      <th>PostId</th>\n",
       "      <th>Score</th>\n",
       "      <th>Text</th>\n",
       "      <th>CreationDate</th>\n",
       "      <th>UserId</th>\n",
       "    </tr>\n",
       "  </thead>\n",
       "  <tbody>\n",
       "    <tr>\n",
       "      <th>1</th>\n",
       "      <td>12</td>\n",
       "      <td>47428</td>\n",
       "      <td>3</td>\n",
       "      <td>One of the things that make a url user-friendl...</td>\n",
       "      <td>2008-09-06T13:51:47.843</td>\n",
       "      <td>4642.0</td>\n",
       "    </tr>\n",
       "    <tr>\n",
       "      <th>2</th>\n",
       "      <td>14</td>\n",
       "      <td>47481</td>\n",
       "      <td>0</td>\n",
       "      <td>I agree, both CodeRush and RefactorPro are vis...</td>\n",
       "      <td>2008-09-06T14:15:46.897</td>\n",
       "      <td>4642.0</td>\n",
       "    </tr>\n",
       "    <tr>\n",
       "      <th>3</th>\n",
       "      <td>15</td>\n",
       "      <td>47373</td>\n",
       "      <td>0</td>\n",
       "      <td>Just wanted to mention that this is an excelle...</td>\n",
       "      <td>2008-09-06T14:30:40.217</td>\n",
       "      <td>2495.0</td>\n",
       "    </tr>\n",
       "    <tr>\n",
       "      <th>4</th>\n",
       "      <td>16</td>\n",
       "      <td>47497</td>\n",
       "      <td>1</td>\n",
       "      <td>Indeed, the only way to do this is get the ser...</td>\n",
       "      <td>2008-09-06T14:42:35.303</td>\n",
       "      <td>4642.0</td>\n",
       "    </tr>\n",
       "    <tr>\n",
       "      <th>7</th>\n",
       "      <td>20</td>\n",
       "      <td>1517</td>\n",
       "      <td>0</td>\n",
       "      <td>In the interests of tact, this is the kind of ...</td>\n",
       "      <td>2008-09-06T15:44:39.477</td>\n",
       "      <td>199.0</td>\n",
       "    </tr>\n",
       "  </tbody>\n",
       "</table>\n",
       "</div>"
      ],
      "text/plain": [
       "   Id  PostId  Score                                               Text  \\\n",
       "1  12   47428      3  One of the things that make a url user-friendl...   \n",
       "2  14   47481      0  I agree, both CodeRush and RefactorPro are vis...   \n",
       "3  15   47373      0  Just wanted to mention that this is an excelle...   \n",
       "4  16   47497      1  Indeed, the only way to do this is get the ser...   \n",
       "7  20    1517      0  In the interests of tact, this is the kind of ...   \n",
       "\n",
       "              CreationDate  UserId  \n",
       "1  2008-09-06T13:51:47.843  4642.0  \n",
       "2  2008-09-06T14:15:46.897  4642.0  \n",
       "3  2008-09-06T14:30:40.217  2495.0  \n",
       "4  2008-09-06T14:42:35.303  4642.0  \n",
       "7  2008-09-06T15:44:39.477   199.0  "
      ]
     },
     "execution_count": 14,
     "metadata": {},
     "output_type": "execute_result"
    }
   ],
   "source": [
    "df_comments.head()"
   ]
  },
  {
   "cell_type": "markdown",
   "metadata": {},
   "source": [
    "### Typecasting"
   ]
  },
  {
   "cell_type": "code",
   "execution_count": 15,
   "metadata": {},
   "outputs": [],
   "source": [
    "df_comments = df_comments.astype({\n",
    "    'Id': 'int32',\n",
    "    'PostId': 'int32',\n",
    "    'Score': 'int16',\n",
    "    'Text': 'object',\n",
    "    'CreationDate': 'datetime64[ns]',\n",
    "    #'UserDisplayName': 'string',\n",
    "    'UserId': 'int32'\n",
    "})"
   ]
  },
  {
   "cell_type": "code",
   "execution_count": 16,
   "metadata": {},
   "outputs": [
    {
     "name": "stdout",
     "output_type": "stream",
     "text": [
      "<class 'pandas.core.frame.DataFrame'>\n",
      "Int64Index: 47612714 entries, 1 to 89336453\n",
      "Data columns (total 6 columns):\n",
      " #   Column        Dtype         \n",
      "---  ------        -----         \n",
      " 0   Id            int32         \n",
      " 1   PostId        int32         \n",
      " 2   Score         int16         \n",
      " 3   Text          object        \n",
      " 4   CreationDate  datetime64[ns]\n",
      " 5   UserId        int32         \n",
      "dtypes: datetime64[ns](1), int16(1), int32(3), object(1)\n",
      "memory usage: 1.7+ GB\n"
     ]
    }
   ],
   "source": [
    "df_comments.info()\n"
   ]
  },
  {
   "cell_type": "markdown",
   "metadata": {},
   "source": [
    "### df_posts"
   ]
  },
  {
   "cell_type": "code",
   "execution_count": 17,
   "metadata": {},
   "outputs": [
    {
     "name": "stdout",
     "output_type": "stream",
     "text": [
      "<class 'pandas.core.frame.DataFrame'>\n",
      "Int64Index: 3802836 entries, 150 to 59171892\n",
      "Data columns (total 14 columns):\n",
      " #   Column            Dtype  \n",
      "---  ------            -----  \n",
      " 0   Id                int64  \n",
      " 1   PostTypeId        int64  \n",
      " 2   ParentId          float64\n",
      " 3   AcceptedAnswerId  float64\n",
      " 4   CreationDate      object \n",
      " 5   Score             int64  \n",
      " 6   ViewCount         float64\n",
      " 7   Body              object \n",
      " 8   OwnerUserId       float64\n",
      " 9   LastActivityDate  object \n",
      " 10  Title             object \n",
      " 11  Tags              object \n",
      " 12  AnswerCount       float64\n",
      " 13  CommentCount      int64  \n",
      "dtypes: float64(5), int64(4), object(5)\n",
      "memory usage: 435.2+ MB\n"
     ]
    }
   ],
   "source": [
    "df_posts.info()"
   ]
  },
  {
   "cell_type": "markdown",
   "metadata": {},
   "source": [
    "### Quick look the posts dataframe"
   ]
  },
  {
   "cell_type": "code",
   "execution_count": 18,
   "metadata": {},
   "outputs": [
    {
     "data": {
      "text/html": [
       "<div>\n",
       "<style scoped>\n",
       "    .dataframe tbody tr th:only-of-type {\n",
       "        vertical-align: middle;\n",
       "    }\n",
       "\n",
       "    .dataframe tbody tr th {\n",
       "        vertical-align: top;\n",
       "    }\n",
       "\n",
       "    .dataframe thead th {\n",
       "        text-align: right;\n",
       "    }\n",
       "</style>\n",
       "<table border=\"1\" class=\"dataframe\">\n",
       "  <thead>\n",
       "    <tr style=\"text-align: right;\">\n",
       "      <th></th>\n",
       "      <th>Id</th>\n",
       "      <th>PostTypeId</th>\n",
       "      <th>ParentId</th>\n",
       "      <th>AcceptedAnswerId</th>\n",
       "      <th>CreationDate</th>\n",
       "      <th>Score</th>\n",
       "      <th>ViewCount</th>\n",
       "      <th>Body</th>\n",
       "      <th>OwnerUserId</th>\n",
       "      <th>LastActivityDate</th>\n",
       "      <th>Title</th>\n",
       "      <th>Tags</th>\n",
       "      <th>AnswerCount</th>\n",
       "      <th>CommentCount</th>\n",
       "    </tr>\n",
       "  </thead>\n",
       "  <tbody>\n",
       "    <tr>\n",
       "      <th>150</th>\n",
       "      <td>307</td>\n",
       "      <td>2</td>\n",
       "      <td>260.0</td>\n",
       "      <td>-1.0</td>\n",
       "      <td>2008-08-02T01:49:46.220</td>\n",
       "      <td>43</td>\n",
       "      <td>-1.0</td>\n",
       "      <td>&lt;p&gt;&lt;a href=\"https://www.codeproject.com/Articl...</td>\n",
       "      <td>49.0</td>\n",
       "      <td>2019-12-24T07:28:19.907</td>\n",
       "      <td>Comment: N/A</td>\n",
       "      <td>Comment: N/A</td>\n",
       "      <td>-1.0</td>\n",
       "      <td>3</td>\n",
       "    </tr>\n",
       "    <tr>\n",
       "      <th>160</th>\n",
       "      <td>337</td>\n",
       "      <td>1</td>\n",
       "      <td>-1.0</td>\n",
       "      <td>342.0</td>\n",
       "      <td>2008-08-02T03:35:55.697</td>\n",
       "      <td>82</td>\n",
       "      <td>10424.0</td>\n",
       "      <td>&lt;p&gt;I am about to build a piece of a project th...</td>\n",
       "      <td>111.0</td>\n",
       "      <td>2021-11-12T18:56:21.143</td>\n",
       "      <td>XML Processing in Python</td>\n",
       "      <td>&lt;python&gt;&lt;xml&gt;</td>\n",
       "      <td>12.0</td>\n",
       "      <td>1</td>\n",
       "    </tr>\n",
       "    <tr>\n",
       "      <th>162</th>\n",
       "      <td>342</td>\n",
       "      <td>2</td>\n",
       "      <td>337.0</td>\n",
       "      <td>-1.0</td>\n",
       "      <td>2008-08-02T04:01:34.600</td>\n",
       "      <td>36</td>\n",
       "      <td>-1.0</td>\n",
       "      <td>&lt;p&gt;Personally, I've played with several of the...</td>\n",
       "      <td>59.0</td>\n",
       "      <td>2008-08-02T04:01:34.600</td>\n",
       "      <td>Comment: N/A</td>\n",
       "      <td>Comment: N/A</td>\n",
       "      <td>-1.0</td>\n",
       "      <td>1</td>\n",
       "    </tr>\n",
       "    <tr>\n",
       "      <th>195</th>\n",
       "      <td>469</td>\n",
       "      <td>1</td>\n",
       "      <td>-1.0</td>\n",
       "      <td>3040.0</td>\n",
       "      <td>2008-08-02T15:11:16.430</td>\n",
       "      <td>48</td>\n",
       "      <td>4837.0</td>\n",
       "      <td>&lt;p&gt;I am using the Photoshop's javascript API t...</td>\n",
       "      <td>147.0</td>\n",
       "      <td>2022-12-15T07:51:30.287</td>\n",
       "      <td>How can I find the full path to a font from it...</td>\n",
       "      <td>&lt;python&gt;&lt;macos&gt;&lt;fonts&gt;&lt;photoshop&gt;</td>\n",
       "      <td>6.0</td>\n",
       "      <td>0</td>\n",
       "    </tr>\n",
       "    <tr>\n",
       "      <th>197</th>\n",
       "      <td>471</td>\n",
       "      <td>2</td>\n",
       "      <td>337.0</td>\n",
       "      <td>-1.0</td>\n",
       "      <td>2008-08-02T15:21:03.587</td>\n",
       "      <td>33</td>\n",
       "      <td>-1.0</td>\n",
       "      <td>&lt;p&gt;&lt;a href=\"http://effbot.org/zone/element-ind...</td>\n",
       "      <td>147.0</td>\n",
       "      <td>2008-08-02T15:21:03.587</td>\n",
       "      <td>Comment: N/A</td>\n",
       "      <td>Comment: N/A</td>\n",
       "      <td>-1.0</td>\n",
       "      <td>2</td>\n",
       "    </tr>\n",
       "  </tbody>\n",
       "</table>\n",
       "</div>"
      ],
      "text/plain": [
       "      Id  PostTypeId  ParentId  AcceptedAnswerId             CreationDate  \\\n",
       "150  307           2     260.0              -1.0  2008-08-02T01:49:46.220   \n",
       "160  337           1      -1.0             342.0  2008-08-02T03:35:55.697   \n",
       "162  342           2     337.0              -1.0  2008-08-02T04:01:34.600   \n",
       "195  469           1      -1.0            3040.0  2008-08-02T15:11:16.430   \n",
       "197  471           2     337.0              -1.0  2008-08-02T15:21:03.587   \n",
       "\n",
       "     Score  ViewCount                                               Body  \\\n",
       "150     43       -1.0  <p><a href=\"https://www.codeproject.com/Articl...   \n",
       "160     82    10424.0  <p>I am about to build a piece of a project th...   \n",
       "162     36       -1.0  <p>Personally, I've played with several of the...   \n",
       "195     48     4837.0  <p>I am using the Photoshop's javascript API t...   \n",
       "197     33       -1.0  <p><a href=\"http://effbot.org/zone/element-ind...   \n",
       "\n",
       "     OwnerUserId         LastActivityDate  \\\n",
       "150         49.0  2019-12-24T07:28:19.907   \n",
       "160        111.0  2021-11-12T18:56:21.143   \n",
       "162         59.0  2008-08-02T04:01:34.600   \n",
       "195        147.0  2022-12-15T07:51:30.287   \n",
       "197        147.0  2008-08-02T15:21:03.587   \n",
       "\n",
       "                                                 Title  \\\n",
       "150                                       Comment: N/A   \n",
       "160                           XML Processing in Python   \n",
       "162                                       Comment: N/A   \n",
       "195  How can I find the full path to a font from it...   \n",
       "197                                       Comment: N/A   \n",
       "\n",
       "                                  Tags  AnswerCount  CommentCount  \n",
       "150                       Comment: N/A         -1.0             3  \n",
       "160                      <python><xml>         12.0             1  \n",
       "162                       Comment: N/A         -1.0             1  \n",
       "195  <python><macos><fonts><photoshop>          6.0             0  \n",
       "197                       Comment: N/A         -1.0             2  "
      ]
     },
     "execution_count": 18,
     "metadata": {},
     "output_type": "execute_result"
    }
   ],
   "source": [
    "df_posts.head()"
   ]
  },
  {
   "cell_type": "markdown",
   "metadata": {},
   "source": [
    "### Typecasting"
   ]
  },
  {
   "cell_type": "code",
   "execution_count": 19,
   "metadata": {},
   "outputs": [],
   "source": [
    "df_posts = df_posts.astype({\n",
    "    'Id': 'int32',\n",
    "    'PostTypeId': 'int32',\n",
    "    'ParentId': 'int32',\n",
    "    'AcceptedAnswerId': 'int16',\n",
    "    'CreationDate': 'datetime64[ns]',\n",
    "    'Score': 'int16',\n",
    "    'ViewCount': 'int32',\n",
    "    'Body': 'object',\n",
    "    'OwnerUserId': 'int32',\n",
    "    'LastActivityDate': 'datetime64[ns]',\n",
    "    'Title': 'string',\n",
    "    'Tags': 'string',\n",
    "    'AnswerCount': 'int16',\n",
    "    'CommentCount': 'int16'\n",
    "    #'FavoriteCount': 'int16'\n",
    "})"
   ]
  },
  {
   "cell_type": "code",
   "execution_count": 20,
   "metadata": {},
   "outputs": [
    {
     "name": "stdout",
     "output_type": "stream",
     "text": [
      "<class 'pandas.core.frame.DataFrame'>\n",
      "Int64Index: 3802836 entries, 150 to 59171892\n",
      "Data columns (total 14 columns):\n",
      " #   Column            Dtype         \n",
      "---  ------            -----         \n",
      " 0   Id                int32         \n",
      " 1   PostTypeId        int32         \n",
      " 2   ParentId          int32         \n",
      " 3   AcceptedAnswerId  int16         \n",
      " 4   CreationDate      datetime64[ns]\n",
      " 5   Score             int16         \n",
      " 6   ViewCount         int32         \n",
      " 7   Body              object        \n",
      " 8   OwnerUserId       int32         \n",
      " 9   LastActivityDate  datetime64[ns]\n",
      " 10  Title             string        \n",
      " 11  Tags              string        \n",
      " 12  AnswerCount       int16         \n",
      " 13  CommentCount      int16         \n",
      "dtypes: datetime64[ns](2), int16(4), int32(5), object(1), string(2)\n",
      "memory usage: 275.6+ MB\n"
     ]
    }
   ],
   "source": [
    "df_posts.info()\n"
   ]
  },
  {
   "cell_type": "markdown",
   "metadata": {},
   "source": [
    "### df_posts_links"
   ]
  },
  {
   "cell_type": "code",
   "execution_count": 21,
   "metadata": {},
   "outputs": [
    {
     "name": "stdout",
     "output_type": "stream",
     "text": [
      "<class 'pandas.core.frame.DataFrame'>\n",
      "Int64Index: 1230919 entries, 12 to 8859907\n",
      "Data columns (total 5 columns):\n",
      " #   Column         Non-Null Count    Dtype \n",
      "---  ------         --------------    ----- \n",
      " 0   Id             1230919 non-null  int64 \n",
      " 1   CreationDate   1230919 non-null  object\n",
      " 2   PostId         1230919 non-null  int64 \n",
      " 3   RelatedPostId  1230919 non-null  int64 \n",
      " 4   LinkTypeId     1230919 non-null  int64 \n",
      "dtypes: int64(4), object(1)\n",
      "memory usage: 56.3+ MB\n"
     ]
    }
   ],
   "source": [
    "df_posts_links.info()"
   ]
  },
  {
   "cell_type": "markdown",
   "metadata": {},
   "source": [
    "### Quick look the posts dataframe"
   ]
  },
  {
   "cell_type": "code",
   "execution_count": 22,
   "metadata": {},
   "outputs": [
    {
     "data": {
      "text/html": [
       "<div>\n",
       "<style scoped>\n",
       "    .dataframe tbody tr th:only-of-type {\n",
       "        vertical-align: middle;\n",
       "    }\n",
       "\n",
       "    .dataframe tbody tr th {\n",
       "        vertical-align: top;\n",
       "    }\n",
       "\n",
       "    .dataframe thead th {\n",
       "        text-align: right;\n",
       "    }\n",
       "</style>\n",
       "<table border=\"1\" class=\"dataframe\">\n",
       "  <thead>\n",
       "    <tr style=\"text-align: right;\">\n",
       "      <th></th>\n",
       "      <th>Id</th>\n",
       "      <th>CreationDate</th>\n",
       "      <th>PostId</th>\n",
       "      <th>RelatedPostId</th>\n",
       "      <th>LinkTypeId</th>\n",
       "    </tr>\n",
       "  </thead>\n",
       "  <tbody>\n",
       "    <tr>\n",
       "      <th>12</th>\n",
       "      <td>76</td>\n",
       "      <td>2010-04-26T02:59:49.333</td>\n",
       "      <td>4952</td>\n",
       "      <td>6371</td>\n",
       "      <td>1</td>\n",
       "    </tr>\n",
       "    <tr>\n",
       "      <th>74</th>\n",
       "      <td>312</td>\n",
       "      <td>2010-04-26T03:00:07.617</td>\n",
       "      <td>34516</td>\n",
       "      <td>319632</td>\n",
       "      <td>1</td>\n",
       "    </tr>\n",
       "    <tr>\n",
       "      <th>86</th>\n",
       "      <td>340</td>\n",
       "      <td>2010-04-26T03:00:08.380</td>\n",
       "      <td>37887</td>\n",
       "      <td>1233655</td>\n",
       "      <td>1</td>\n",
       "    </tr>\n",
       "    <tr>\n",
       "      <th>87</th>\n",
       "      <td>349</td>\n",
       "      <td>2010-04-26T03:00:08.537</td>\n",
       "      <td>38508</td>\n",
       "      <td>61605</td>\n",
       "      <td>1</td>\n",
       "    </tr>\n",
       "    <tr>\n",
       "      <th>195</th>\n",
       "      <td>651</td>\n",
       "      <td>2010-04-26T03:00:23.233</td>\n",
       "      <td>68243</td>\n",
       "      <td>41785</td>\n",
       "      <td>1</td>\n",
       "    </tr>\n",
       "  </tbody>\n",
       "</table>\n",
       "</div>"
      ],
      "text/plain": [
       "      Id             CreationDate  PostId  RelatedPostId  LinkTypeId\n",
       "12    76  2010-04-26T02:59:49.333    4952           6371           1\n",
       "74   312  2010-04-26T03:00:07.617   34516         319632           1\n",
       "86   340  2010-04-26T03:00:08.380   37887        1233655           1\n",
       "87   349  2010-04-26T03:00:08.537   38508          61605           1\n",
       "195  651  2010-04-26T03:00:23.233   68243          41785           1"
      ]
     },
     "execution_count": 22,
     "metadata": {},
     "output_type": "execute_result"
    }
   ],
   "source": [
    "df_posts_links.head()"
   ]
  },
  {
   "cell_type": "markdown",
   "metadata": {},
   "source": [
    "### Typecasting"
   ]
  },
  {
   "cell_type": "code",
   "execution_count": 23,
   "metadata": {},
   "outputs": [],
   "source": [
    "df_posts_links = df_posts_links.astype({\n",
    "    'Id': 'int32',\n",
    "    'CreationDate': 'datetime64[ns]',\n",
    "    'PostId': 'int32',\n",
    "    'RelatedPostId': 'int32',\n",
    "    'LinkTypeId': 'uint8'\n",
    "})"
   ]
  },
  {
   "cell_type": "code",
   "execution_count": 24,
   "metadata": {},
   "outputs": [
    {
     "name": "stdout",
     "output_type": "stream",
     "text": [
      "<class 'pandas.core.frame.DataFrame'>\n",
      "Int64Index: 1230919 entries, 12 to 8859907\n",
      "Data columns (total 5 columns):\n",
      " #   Column         Non-Null Count    Dtype         \n",
      "---  ------         --------------    -----         \n",
      " 0   Id             1230919 non-null  int32         \n",
      " 1   CreationDate   1230919 non-null  datetime64[ns]\n",
      " 2   PostId         1230919 non-null  int32         \n",
      " 3   RelatedPostId  1230919 non-null  int32         \n",
      " 4   LinkTypeId     1230919 non-null  uint8         \n",
      "dtypes: datetime64[ns](1), int32(3), uint8(1)\n",
      "memory usage: 34.0 MB\n"
     ]
    }
   ],
   "source": [
    "df_posts_links.info()"
   ]
  },
  {
   "cell_type": "markdown",
   "metadata": {},
   "source": [
    "### df_tags"
   ]
  },
  {
   "cell_type": "code",
   "execution_count": 25,
   "metadata": {},
   "outputs": [
    {
     "name": "stdout",
     "output_type": "stream",
     "text": [
      "<class 'pandas.core.frame.DataFrame'>\n",
      "RangeIndex: 65143 entries, 0 to 65142\n",
      "Data columns (total 3 columns):\n",
      " #   Column   Non-Null Count  Dtype \n",
      "---  ------   --------------  ----- \n",
      " 0   Id       65143 non-null  int64 \n",
      " 1   TagName  65141 non-null  object\n",
      " 2   Count    65143 non-null  int64 \n",
      "dtypes: int64(2), object(1)\n",
      "memory usage: 1.5+ MB\n"
     ]
    }
   ],
   "source": [
    "df_tags.info()"
   ]
  },
  {
   "cell_type": "markdown",
   "metadata": {},
   "source": [
    "### Quick look the posts dataframe"
   ]
  },
  {
   "cell_type": "code",
   "execution_count": 26,
   "metadata": {},
   "outputs": [
    {
     "data": {
      "text/html": [
       "<div>\n",
       "<style scoped>\n",
       "    .dataframe tbody tr th:only-of-type {\n",
       "        vertical-align: middle;\n",
       "    }\n",
       "\n",
       "    .dataframe tbody tr th {\n",
       "        vertical-align: top;\n",
       "    }\n",
       "\n",
       "    .dataframe thead th {\n",
       "        text-align: right;\n",
       "    }\n",
       "</style>\n",
       "<table border=\"1\" class=\"dataframe\">\n",
       "  <thead>\n",
       "    <tr style=\"text-align: right;\">\n",
       "      <th></th>\n",
       "      <th>Id</th>\n",
       "      <th>TagName</th>\n",
       "      <th>Count</th>\n",
       "    </tr>\n",
       "  </thead>\n",
       "  <tbody>\n",
       "    <tr>\n",
       "      <th>0</th>\n",
       "      <td>1</td>\n",
       "      <td>.net</td>\n",
       "      <td>333813</td>\n",
       "    </tr>\n",
       "    <tr>\n",
       "      <th>1</th>\n",
       "      <td>2</td>\n",
       "      <td>html</td>\n",
       "      <td>1180250</td>\n",
       "    </tr>\n",
       "    <tr>\n",
       "      <th>2</th>\n",
       "      <td>3</td>\n",
       "      <td>javascript</td>\n",
       "      <td>2510972</td>\n",
       "    </tr>\n",
       "    <tr>\n",
       "      <th>3</th>\n",
       "      <td>4</td>\n",
       "      <td>css</td>\n",
       "      <td>797792</td>\n",
       "    </tr>\n",
       "    <tr>\n",
       "      <th>4</th>\n",
       "      <td>5</td>\n",
       "      <td>php</td>\n",
       "      <td>1461764</td>\n",
       "    </tr>\n",
       "  </tbody>\n",
       "</table>\n",
       "</div>"
      ],
      "text/plain": [
       "   Id     TagName    Count\n",
       "0   1        .net   333813\n",
       "1   2        html  1180250\n",
       "2   3  javascript  2510972\n",
       "3   4         css   797792\n",
       "4   5         php  1461764"
      ]
     },
     "execution_count": 26,
     "metadata": {},
     "output_type": "execute_result"
    }
   ],
   "source": [
    "df_tags.head()"
   ]
  },
  {
   "cell_type": "markdown",
   "metadata": {},
   "source": [
    "### Typecasting"
   ]
  },
  {
   "cell_type": "code",
   "execution_count": 27,
   "metadata": {},
   "outputs": [],
   "source": [
    "df_tags = df_tags.astype({\n",
    "    'Id': 'int32',\n",
    "    'TagName': 'string',\n",
    "    'Count': 'int32'\n",
    "    #'ExcerptPostId': 'int32',\n",
    "    #'WikiPostId': 'int32'\n",
    "})"
   ]
  },
  {
   "cell_type": "code",
   "execution_count": 28,
   "metadata": {},
   "outputs": [
    {
     "name": "stdout",
     "output_type": "stream",
     "text": [
      "<class 'pandas.core.frame.DataFrame'>\n",
      "RangeIndex: 65143 entries, 0 to 65142\n",
      "Data columns (total 3 columns):\n",
      " #   Column   Non-Null Count  Dtype \n",
      "---  ------   --------------  ----- \n",
      " 0   Id       65143 non-null  int32 \n",
      " 1   TagName  65141 non-null  string\n",
      " 2   Count    65143 non-null  int32 \n",
      "dtypes: int32(2), string(1)\n",
      "memory usage: 1018.0 KB\n"
     ]
    }
   ],
   "source": [
    "df_tags.info()\n"
   ]
  },
  {
   "cell_type": "markdown",
   "metadata": {},
   "source": [
    "### df_users"
   ]
  },
  {
   "cell_type": "code",
   "execution_count": 29,
   "metadata": {},
   "outputs": [
    {
     "name": "stdout",
     "output_type": "stream",
     "text": [
      "<class 'pandas.core.frame.DataFrame'>\n",
      "Int64Index: 1116805 entries, 15 to 21076841\n",
      "Data columns (total 7 columns):\n",
      " #   Column          Non-Null Count    Dtype \n",
      "---  ------          --------------    ----- \n",
      " 0   Id              1116805 non-null  int64 \n",
      " 1   Reputation      1116805 non-null  int64 \n",
      " 2   CreationDate    1116805 non-null  object\n",
      " 3   LastAccessDate  1116805 non-null  object\n",
      " 4   Views           1116805 non-null  int64 \n",
      " 5   UpVotes         1116805 non-null  int64 \n",
      " 6   DownVotes       1116805 non-null  int64 \n",
      "dtypes: int64(5), object(2)\n",
      "memory usage: 68.2+ MB\n"
     ]
    }
   ],
   "source": [
    "df_users.info()"
   ]
  },
  {
   "cell_type": "markdown",
   "metadata": {},
   "source": [
    "### Quick look the posts dataframe"
   ]
  },
  {
   "cell_type": "code",
   "execution_count": 30,
   "metadata": {},
   "outputs": [
    {
     "data": {
      "text/html": [
       "<div>\n",
       "<style scoped>\n",
       "    .dataframe tbody tr th:only-of-type {\n",
       "        vertical-align: middle;\n",
       "    }\n",
       "\n",
       "    .dataframe tbody tr th {\n",
       "        vertical-align: top;\n",
       "    }\n",
       "\n",
       "    .dataframe thead th {\n",
       "        text-align: right;\n",
       "    }\n",
       "</style>\n",
       "<table border=\"1\" class=\"dataframe\">\n",
       "  <thead>\n",
       "    <tr style=\"text-align: right;\">\n",
       "      <th></th>\n",
       "      <th>Id</th>\n",
       "      <th>Reputation</th>\n",
       "      <th>CreationDate</th>\n",
       "      <th>LastAccessDate</th>\n",
       "      <th>Views</th>\n",
       "      <th>UpVotes</th>\n",
       "      <th>DownVotes</th>\n",
       "    </tr>\n",
       "  </thead>\n",
       "  <tbody>\n",
       "    <tr>\n",
       "      <th>15</th>\n",
       "      <td>-1</td>\n",
       "      <td>1</td>\n",
       "      <td>2008-07-31T00:00:00.000</td>\n",
       "      <td>2008-08-26T00:16:53.810</td>\n",
       "      <td>147109</td>\n",
       "      <td>627776</td>\n",
       "      <td>1547393</td>\n",
       "    </tr>\n",
       "    <tr>\n",
       "      <th>16</th>\n",
       "      <td>1</td>\n",
       "      <td>63320</td>\n",
       "      <td>2008-07-31T14:22:31.287</td>\n",
       "      <td>2023-07-03T03:32:33.740</td>\n",
       "      <td>594722</td>\n",
       "      <td>3407</td>\n",
       "      <td>1312</td>\n",
       "    </tr>\n",
       "    <tr>\n",
       "      <th>19</th>\n",
       "      <td>4</td>\n",
       "      <td>33372</td>\n",
       "      <td>2008-07-31T14:22:31.317</td>\n",
       "      <td>2023-07-11T19:52:52.090</td>\n",
       "      <td>84130</td>\n",
       "      <td>855</td>\n",
       "      <td>100</td>\n",
       "    </tr>\n",
       "    <tr>\n",
       "      <th>20</th>\n",
       "      <td>5</td>\n",
       "      <td>52327</td>\n",
       "      <td>2008-07-31T14:22:31.317</td>\n",
       "      <td>2023-03-07T02:39:34.550</td>\n",
       "      <td>15166</td>\n",
       "      <td>790</td>\n",
       "      <td>34</td>\n",
       "    </tr>\n",
       "    <tr>\n",
       "      <th>22</th>\n",
       "      <td>9</td>\n",
       "      <td>25430</td>\n",
       "      <td>2008-07-31T21:35:26.517</td>\n",
       "      <td>2023-09-01T23:18:04.763</td>\n",
       "      <td>7713</td>\n",
       "      <td>47</td>\n",
       "      <td>4</td>\n",
       "    </tr>\n",
       "  </tbody>\n",
       "</table>\n",
       "</div>"
      ],
      "text/plain": [
       "    Id  Reputation             CreationDate           LastAccessDate   Views  \\\n",
       "15  -1           1  2008-07-31T00:00:00.000  2008-08-26T00:16:53.810  147109   \n",
       "16   1       63320  2008-07-31T14:22:31.287  2023-07-03T03:32:33.740  594722   \n",
       "19   4       33372  2008-07-31T14:22:31.317  2023-07-11T19:52:52.090   84130   \n",
       "20   5       52327  2008-07-31T14:22:31.317  2023-03-07T02:39:34.550   15166   \n",
       "22   9       25430  2008-07-31T21:35:26.517  2023-09-01T23:18:04.763    7713   \n",
       "\n",
       "    UpVotes  DownVotes  \n",
       "15   627776    1547393  \n",
       "16     3407       1312  \n",
       "19      855        100  \n",
       "20      790         34  \n",
       "22       47          4  "
      ]
     },
     "execution_count": 30,
     "metadata": {},
     "output_type": "execute_result"
    }
   ],
   "source": [
    "df_users.head()"
   ]
  },
  {
   "cell_type": "markdown",
   "metadata": {},
   "source": [
    "### Typecasting"
   ]
  },
  {
   "cell_type": "code",
   "execution_count": 31,
   "metadata": {},
   "outputs": [],
   "source": [
    "# Convert 'CreationDate' and 'LastAccessDate' to datetime using the dataset format\n",
    "df_users['CreationDate'] = pd.to_datetime(df_users['CreationDate'], format='%Y-%m-%dT%H:%M:%S.%f')\n",
    "df_users['LastAccessDate'] = pd.to_datetime(df_users['LastAccessDate'], format='%Y-%m-%dT%H:%M:%S.%f')\n",
    "\n",
    "df_users = df_users.astype({\n",
    "    'Id': 'int32',\n",
    "    'Reputation': 'int32',\n",
    "    'CreationDate': 'datetime64[ns]',\n",
    "    #'DisplayName': 'string',\n",
    "    'LastAccessDate': 'datetime64[ns]',\n",
    "    #'WebsiteUrl': 'string',\n",
    "    #'Location': 'string',\n",
    "    #'AboutMe': 'string',\n",
    "    'Views': 'int32',\n",
    "    'UpVotes': 'int32',\n",
    "    'DownVotes': 'int32',\n",
    "    #'ProfileImageUrl': 'string',\n",
    "    #'AccountId': 'int32',\n",
    "})"
   ]
  },
  {
   "cell_type": "code",
   "execution_count": 32,
   "metadata": {},
   "outputs": [
    {
     "name": "stdout",
     "output_type": "stream",
     "text": [
      "<class 'pandas.core.frame.DataFrame'>\n",
      "Int64Index: 1116805 entries, 15 to 21076841\n",
      "Data columns (total 7 columns):\n",
      " #   Column          Non-Null Count    Dtype         \n",
      "---  ------          --------------    -----         \n",
      " 0   Id              1116805 non-null  int32         \n",
      " 1   Reputation      1116805 non-null  int32         \n",
      " 2   CreationDate    1116805 non-null  datetime64[ns]\n",
      " 3   LastAccessDate  1116805 non-null  datetime64[ns]\n",
      " 4   Views           1116805 non-null  int32         \n",
      " 5   UpVotes         1116805 non-null  int32         \n",
      " 6   DownVotes       1116805 non-null  int32         \n",
      "dtypes: datetime64[ns](2), int32(5)\n",
      "memory usage: 46.9 MB\n"
     ]
    }
   ],
   "source": [
    "df_users.info()\n"
   ]
  },
  {
   "cell_type": "code",
   "execution_count": null,
   "metadata": {},
   "outputs": [],
   "source": []
  },
  {
   "cell_type": "markdown",
   "metadata": {},
   "source": [
    "### Save all typecasted DataFrames to pickles"
   ]
  },
  {
   "cell_type": "code",
   "execution_count": 33,
   "metadata": {},
   "outputs": [],
   "source": [
    "# comments is too big, therefore we split it in two just for now temporary solution as they say ;)\n",
    "#import numpy as np\n",
    "\n",
    "#df_comments_1, df_comments_2 = np.array_split(df_comments, 2)\n",
    "#df_posts_1, df_posts_2, df_posts_3 = np.array_split(df_posts, 3)"
   ]
  },
  {
   "cell_type": "code",
   "execution_count": 34,
   "metadata": {},
   "outputs": [],
   "source": [
    "# df_comments.to_pickle('comments_typecasted.pkl')"
   ]
  },
  {
   "cell_type": "code",
   "execution_count": 35,
   "metadata": {},
   "outputs": [],
   "source": [
    "# df_posts.to_pickle('posts_typecasted.pkl')"
   ]
  },
  {
   "cell_type": "code",
   "execution_count": 36,
   "metadata": {},
   "outputs": [],
   "source": [
    "# df_posts_links.to_pickle('post_links_typecasted.pkl')\n",
    "# df_tags.to_pickle('tags_typecasted.pkl')\n",
    "# df_users.to_pickle('users_typecasted.pkl')"
   ]
  },
  {
   "cell_type": "code",
   "execution_count": 38,
   "metadata": {},
   "outputs": [],
   "source": [
    "# I can only share 2 GB at a time so I split the df_comments which is approx 10GB in 5\n",
    "df_comments_1, df_comments_2, df_comments_3, df_comments_4, df_comments_5  = np.array_split(df_comments, 5)"
   ]
  },
  {
   "cell_type": "code",
   "execution_count": 39,
   "metadata": {},
   "outputs": [],
   "source": [
    "# I can only share 2 GB at a time so I split the df_posts which is approx 6.5GB in 4\n",
    "df_posts_1, df_posts_2, df_posts_3, df_posts_4  = np.array_split(df_posts, 4)"
   ]
  },
  {
   "cell_type": "code",
   "execution_count": 40,
   "metadata": {},
   "outputs": [],
   "source": [
    "# df_comments_1.to_pickle('comments_typecasted_1.pkl')\n",
    "# df_comments_2.to_pickle('comments_typecasted_2.pkl')\n",
    "# df_comments_3.to_pickle('comments_typecasted_3.pkl')\n",
    "# df_comments_4.to_pickle('comments_typecasted_4.pkl')\n",
    "# df_comments_5.to_pickle('comments_typecasted_5.pkl')"
   ]
  },
  {
   "cell_type": "code",
   "execution_count": 41,
   "metadata": {},
   "outputs": [],
   "source": [
    "# df_posts_1.to_pickle('posts_typecasted_1.pkl')\n",
    "# df_posts_2.to_pickle('posts_typecasted_2.pkl')\n",
    "# df_posts_3.to_pickle('posts_typecasted_3.pkl')\n",
    "# df_posts_4.to_pickle('posts_typecasted_4.pkl')"
   ]
  },
  {
   "cell_type": "code",
   "execution_count": null,
   "metadata": {},
   "outputs": [],
   "source": [
    "# Read the pickle files into separate DataFrames\n",
    "df_comments_1 = pd.read_pickle('comments_typecasted_1.pkl')\n",
    "df_comments_2 = pd.read_pickle('comments_typecasted_2.pkl')\n",
    "df_comments_3 = pd.read_pickle('comments_typecasted_3.pkl')\n",
    "df_comments_4 = pd.read_pickle('comments_typecasted_4.pkl')\n",
    "df_comments_5 = pd.read_pickle('comments_typecasted_5.pkl')\n",
    "\n",
    "# Concatenate all the DataFrames into one\n",
    "df_comments = pd.concat([df_comments_1, df_comments_2, df_comments_3, df_comments_4, df_comments_5])\n"
   ]
  },
  {
   "cell_type": "code",
   "execution_count": null,
   "metadata": {},
   "outputs": [],
   "source": []
  },
  {
   "cell_type": "code",
   "execution_count": null,
   "metadata": {},
   "outputs": [],
   "source": []
  },
  {
   "cell_type": "markdown",
   "metadata": {},
   "source": [
    "## Aggregate Post and Comment Counts per User:"
   ]
  },
  {
   "cell_type": "code",
   "execution_count": 36,
   "metadata": {},
   "outputs": [],
   "source": [
    "# Remove rows where\n",
    "# UserId = -1 \n",
    "# OwnerUserId = -1\n",
    "\n",
    "df_comments = df_comments[df_comments['UserId'] != -1]\n",
    "df_posts = df_posts[df_posts['OwnerUserId'] != -1]"
   ]
  },
  {
   "cell_type": "code",
   "execution_count": 37,
   "metadata": {},
   "outputs": [],
   "source": [
    "# Count the number of posts per user\n",
    "user_posts_count = df_posts.groupby('OwnerUserId').size().reset_index(name='PostCount')\n",
    "\n",
    "# Count the number of comments per user\n",
    "user_comments_count = df_comments.groupby('UserId').size().reset_index(name='CommentCount')"
   ]
  },
  {
   "cell_type": "code",
   "execution_count": 38,
   "metadata": {},
   "outputs": [
    {
     "data": {
      "text/html": [
       "<div>\n",
       "<style scoped>\n",
       "    .dataframe tbody tr th:only-of-type {\n",
       "        vertical-align: middle;\n",
       "    }\n",
       "\n",
       "    .dataframe tbody tr th {\n",
       "        vertical-align: top;\n",
       "    }\n",
       "\n",
       "    .dataframe thead th {\n",
       "        text-align: right;\n",
       "    }\n",
       "</style>\n",
       "<table border=\"1\" class=\"dataframe\">\n",
       "  <thead>\n",
       "    <tr style=\"text-align: right;\">\n",
       "      <th></th>\n",
       "      <th>OwnerUserId</th>\n",
       "      <th>PostCount</th>\n",
       "    </tr>\n",
       "  </thead>\n",
       "  <tbody>\n",
       "    <tr>\n",
       "      <th>0</th>\n",
       "      <td>1</td>\n",
       "      <td>1</td>\n",
       "    </tr>\n",
       "    <tr>\n",
       "      <th>1</th>\n",
       "      <td>4</td>\n",
       "      <td>1</td>\n",
       "    </tr>\n",
       "    <tr>\n",
       "      <th>2</th>\n",
       "      <td>5</td>\n",
       "      <td>2</td>\n",
       "    </tr>\n",
       "    <tr>\n",
       "      <th>3</th>\n",
       "      <td>9</td>\n",
       "      <td>1</td>\n",
       "    </tr>\n",
       "    <tr>\n",
       "      <th>4</th>\n",
       "      <td>13</td>\n",
       "      <td>31</td>\n",
       "    </tr>\n",
       "    <tr>\n",
       "      <th>...</th>\n",
       "      <td>...</td>\n",
       "      <td>...</td>\n",
       "    </tr>\n",
       "    <tr>\n",
       "      <th>1116490</th>\n",
       "      <td>22491802</td>\n",
       "      <td>1</td>\n",
       "    </tr>\n",
       "    <tr>\n",
       "      <th>1116491</th>\n",
       "      <td>22491899</td>\n",
       "      <td>1</td>\n",
       "    </tr>\n",
       "    <tr>\n",
       "      <th>1116492</th>\n",
       "      <td>22491910</td>\n",
       "      <td>1</td>\n",
       "    </tr>\n",
       "    <tr>\n",
       "      <th>1116493</th>\n",
       "      <td>22491983</td>\n",
       "      <td>1</td>\n",
       "    </tr>\n",
       "    <tr>\n",
       "      <th>1116494</th>\n",
       "      <td>22491996</td>\n",
       "      <td>1</td>\n",
       "    </tr>\n",
       "  </tbody>\n",
       "</table>\n",
       "<p>1116495 rows × 2 columns</p>\n",
       "</div>"
      ],
      "text/plain": [
       "         OwnerUserId  PostCount\n",
       "0                  1          1\n",
       "1                  4          1\n",
       "2                  5          2\n",
       "3                  9          1\n",
       "4                 13         31\n",
       "...              ...        ...\n",
       "1116490     22491802          1\n",
       "1116491     22491899          1\n",
       "1116492     22491910          1\n",
       "1116493     22491983          1\n",
       "1116494     22491996          1\n",
       "\n",
       "[1116495 rows x 2 columns]"
      ]
     },
     "execution_count": 38,
     "metadata": {},
     "output_type": "execute_result"
    }
   ],
   "source": [
    "user_posts_count"
   ]
  },
  {
   "cell_type": "code",
   "execution_count": 39,
   "metadata": {},
   "outputs": [
    {
     "data": {
      "text/html": [
       "<div>\n",
       "<style scoped>\n",
       "    .dataframe tbody tr th:only-of-type {\n",
       "        vertical-align: middle;\n",
       "    }\n",
       "\n",
       "    .dataframe tbody tr th {\n",
       "        vertical-align: top;\n",
       "    }\n",
       "\n",
       "    .dataframe thead th {\n",
       "        text-align: right;\n",
       "    }\n",
       "</style>\n",
       "<table border=\"1\" class=\"dataframe\">\n",
       "  <thead>\n",
       "    <tr style=\"text-align: right;\">\n",
       "      <th></th>\n",
       "      <th>UserId</th>\n",
       "      <th>CommentCount</th>\n",
       "    </tr>\n",
       "  </thead>\n",
       "  <tbody>\n",
       "    <tr>\n",
       "      <th>0</th>\n",
       "      <td>1</td>\n",
       "      <td>365</td>\n",
       "    </tr>\n",
       "    <tr>\n",
       "      <th>1</th>\n",
       "      <td>4</td>\n",
       "      <td>145</td>\n",
       "    </tr>\n",
       "    <tr>\n",
       "      <th>2</th>\n",
       "      <td>5</td>\n",
       "      <td>142</td>\n",
       "    </tr>\n",
       "    <tr>\n",
       "      <th>3</th>\n",
       "      <td>9</td>\n",
       "      <td>22</td>\n",
       "    </tr>\n",
       "    <tr>\n",
       "      <th>4</th>\n",
       "      <td>13</td>\n",
       "      <td>3849</td>\n",
       "    </tr>\n",
       "    <tr>\n",
       "      <th>...</th>\n",
       "      <td>...</td>\n",
       "      <td>...</td>\n",
       "    </tr>\n",
       "    <tr>\n",
       "      <th>851822</th>\n",
       "      <td>22489663</td>\n",
       "      <td>1</td>\n",
       "    </tr>\n",
       "    <tr>\n",
       "      <th>851823</th>\n",
       "      <td>22489932</td>\n",
       "      <td>1</td>\n",
       "    </tr>\n",
       "    <tr>\n",
       "      <th>851824</th>\n",
       "      <td>22490078</td>\n",
       "      <td>1</td>\n",
       "    </tr>\n",
       "    <tr>\n",
       "      <th>851825</th>\n",
       "      <td>22490113</td>\n",
       "      <td>1</td>\n",
       "    </tr>\n",
       "    <tr>\n",
       "      <th>851826</th>\n",
       "      <td>22490668</td>\n",
       "      <td>5</td>\n",
       "    </tr>\n",
       "  </tbody>\n",
       "</table>\n",
       "<p>851827 rows × 2 columns</p>\n",
       "</div>"
      ],
      "text/plain": [
       "          UserId  CommentCount\n",
       "0              1           365\n",
       "1              4           145\n",
       "2              5           142\n",
       "3              9            22\n",
       "4             13          3849\n",
       "...          ...           ...\n",
       "851822  22489663             1\n",
       "851823  22489932             1\n",
       "851824  22490078             1\n",
       "851825  22490113             1\n",
       "851826  22490668             5\n",
       "\n",
       "[851827 rows x 2 columns]"
      ]
     },
     "execution_count": 39,
     "metadata": {},
     "output_type": "execute_result"
    }
   ],
   "source": [
    "user_comments_count"
   ]
  },
  {
   "cell_type": "code",
   "execution_count": 50,
   "metadata": {},
   "outputs": [],
   "source": [
    "# Merge post counts with user data\n",
    "user_data = pd.merge(df_users, user_posts_count, left_on='Id', right_on='OwnerUserId', how='left')\n",
    "\n",
    "# Merge comment counts with user data\n",
    "user_data = pd.merge(user_data, user_comments_count, left_on='Id', right_on='UserId', how='left')\n",
    "\n",
    "# Fill NaN values with 0 (for users with no posts/comments)\n",
    "user_data.fillna({'PostCount': 0, 'CommentCount': 0}, inplace=True)\n",
    "# Calculate total activity (posts + comments)\n",
    "user_data['TotalActivity'] = user_data['PostCount'] + user_data['CommentCount']\n",
    "\n",
    "\n",
    "# Filter to find active users\n",
    "active_users = user_data[user_data['TotalActivity'] > 40]"
   ]
  },
  {
   "cell_type": "code",
   "execution_count": 51,
   "metadata": {},
   "outputs": [
    {
     "data": {
      "text/html": [
       "<div>\n",
       "<style scoped>\n",
       "    .dataframe tbody tr th:only-of-type {\n",
       "        vertical-align: middle;\n",
       "    }\n",
       "\n",
       "    .dataframe tbody tr th {\n",
       "        vertical-align: top;\n",
       "    }\n",
       "\n",
       "    .dataframe thead th {\n",
       "        text-align: right;\n",
       "    }\n",
       "</style>\n",
       "<table border=\"1\" class=\"dataframe\">\n",
       "  <thead>\n",
       "    <tr style=\"text-align: right;\">\n",
       "      <th></th>\n",
       "      <th>Id</th>\n",
       "      <th>Reputation</th>\n",
       "      <th>CreationDate</th>\n",
       "      <th>LastAccessDate</th>\n",
       "      <th>Views</th>\n",
       "      <th>UpVotes</th>\n",
       "      <th>DownVotes</th>\n",
       "      <th>OwnerUserId</th>\n",
       "      <th>PostCount</th>\n",
       "      <th>UserId</th>\n",
       "      <th>CommentCount</th>\n",
       "      <th>TotalActivity</th>\n",
       "    </tr>\n",
       "  </thead>\n",
       "  <tbody>\n",
       "    <tr>\n",
       "      <th>1</th>\n",
       "      <td>1</td>\n",
       "      <td>63320</td>\n",
       "      <td>2008-07-31 14:22:31.287</td>\n",
       "      <td>2023-07-03 03:32:33.740</td>\n",
       "      <td>594722</td>\n",
       "      <td>3407</td>\n",
       "      <td>1312</td>\n",
       "      <td>1.0</td>\n",
       "      <td>1.0</td>\n",
       "      <td>1.0</td>\n",
       "      <td>365.0</td>\n",
       "      <td>366.0</td>\n",
       "    </tr>\n",
       "    <tr>\n",
       "      <th>2</th>\n",
       "      <td>4</td>\n",
       "      <td>33372</td>\n",
       "      <td>2008-07-31 14:22:31.317</td>\n",
       "      <td>2023-07-11 19:52:52.090</td>\n",
       "      <td>84130</td>\n",
       "      <td>855</td>\n",
       "      <td>100</td>\n",
       "      <td>4.0</td>\n",
       "      <td>1.0</td>\n",
       "      <td>4.0</td>\n",
       "      <td>145.0</td>\n",
       "      <td>146.0</td>\n",
       "    </tr>\n",
       "    <tr>\n",
       "      <th>3</th>\n",
       "      <td>5</td>\n",
       "      <td>52327</td>\n",
       "      <td>2008-07-31 14:22:31.317</td>\n",
       "      <td>2023-03-07 02:39:34.550</td>\n",
       "      <td>15166</td>\n",
       "      <td>790</td>\n",
       "      <td>34</td>\n",
       "      <td>5.0</td>\n",
       "      <td>2.0</td>\n",
       "      <td>5.0</td>\n",
       "      <td>142.0</td>\n",
       "      <td>144.0</td>\n",
       "    </tr>\n",
       "    <tr>\n",
       "      <th>5</th>\n",
       "      <td>13</td>\n",
       "      <td>219335</td>\n",
       "      <td>2008-08-01 04:18:04.943</td>\n",
       "      <td>2022-07-28 18:13:37.620</td>\n",
       "      <td>45326</td>\n",
       "      <td>5212</td>\n",
       "      <td>210</td>\n",
       "      <td>13.0</td>\n",
       "      <td>31.0</td>\n",
       "      <td>13.0</td>\n",
       "      <td>3849.0</td>\n",
       "      <td>3880.0</td>\n",
       "    </tr>\n",
       "    <tr>\n",
       "      <th>6</th>\n",
       "      <td>17</td>\n",
       "      <td>54393</td>\n",
       "      <td>2008-08-01 12:02:21.617</td>\n",
       "      <td>2023-03-16 15:55:39.870</td>\n",
       "      <td>5708</td>\n",
       "      <td>887</td>\n",
       "      <td>216</td>\n",
       "      <td>17.0</td>\n",
       "      <td>5.0</td>\n",
       "      <td>17.0</td>\n",
       "      <td>325.0</td>\n",
       "      <td>330.0</td>\n",
       "    </tr>\n",
       "    <tr>\n",
       "      <th>...</th>\n",
       "      <td>...</td>\n",
       "      <td>...</td>\n",
       "      <td>...</td>\n",
       "      <td>...</td>\n",
       "      <td>...</td>\n",
       "      <td>...</td>\n",
       "      <td>...</td>\n",
       "      <td>...</td>\n",
       "      <td>...</td>\n",
       "      <td>...</td>\n",
       "      <td>...</td>\n",
       "      <td>...</td>\n",
       "    </tr>\n",
       "    <tr>\n",
       "      <th>1110873</th>\n",
       "      <td>22221987</td>\n",
       "      <td>51</td>\n",
       "      <td>2023-07-13 13:09:14.890</td>\n",
       "      <td>2023-09-02 23:45:23.597</td>\n",
       "      <td>7</td>\n",
       "      <td>0</td>\n",
       "      <td>0</td>\n",
       "      <td>22221987.0</td>\n",
       "      <td>12.0</td>\n",
       "      <td>22221987.0</td>\n",
       "      <td>29.0</td>\n",
       "      <td>41.0</td>\n",
       "    </tr>\n",
       "    <tr>\n",
       "      <th>1111457</th>\n",
       "      <td>22248009</td>\n",
       "      <td>193</td>\n",
       "      <td>2023-07-18 17:34:51.140</td>\n",
       "      <td>2023-09-03 10:42:08.403</td>\n",
       "      <td>89</td>\n",
       "      <td>9</td>\n",
       "      <td>18</td>\n",
       "      <td>22248009.0</td>\n",
       "      <td>2.0</td>\n",
       "      <td>22248009.0</td>\n",
       "      <td>162.0</td>\n",
       "      <td>164.0</td>\n",
       "    </tr>\n",
       "    <tr>\n",
       "      <th>1112129</th>\n",
       "      <td>22277746</td>\n",
       "      <td>91</td>\n",
       "      <td>2023-07-24 16:12:54.813</td>\n",
       "      <td>2023-09-02 19:04:42.703</td>\n",
       "      <td>128</td>\n",
       "      <td>66</td>\n",
       "      <td>0</td>\n",
       "      <td>22277746.0</td>\n",
       "      <td>1.0</td>\n",
       "      <td>22277746.0</td>\n",
       "      <td>41.0</td>\n",
       "      <td>42.0</td>\n",
       "    </tr>\n",
       "    <tr>\n",
       "      <th>1112722</th>\n",
       "      <td>22305606</td>\n",
       "      <td>105</td>\n",
       "      <td>2023-07-29 12:14:40.403</td>\n",
       "      <td>2023-08-24 05:38:32.953</td>\n",
       "      <td>50</td>\n",
       "      <td>11</td>\n",
       "      <td>0</td>\n",
       "      <td>22305606.0</td>\n",
       "      <td>2.0</td>\n",
       "      <td>22305606.0</td>\n",
       "      <td>79.0</td>\n",
       "      <td>81.0</td>\n",
       "    </tr>\n",
       "    <tr>\n",
       "      <th>1114007</th>\n",
       "      <td>22363405</td>\n",
       "      <td>131</td>\n",
       "      <td>2023-08-09 11:03:11.570</td>\n",
       "      <td>2023-09-02 20:47:40.950</td>\n",
       "      <td>34</td>\n",
       "      <td>83</td>\n",
       "      <td>3</td>\n",
       "      <td>22363405.0</td>\n",
       "      <td>4.0</td>\n",
       "      <td>22363405.0</td>\n",
       "      <td>47.0</td>\n",
       "      <td>51.0</td>\n",
       "    </tr>\n",
       "  </tbody>\n",
       "</table>\n",
       "<p>140034 rows × 12 columns</p>\n",
       "</div>"
      ],
      "text/plain": [
       "               Id  Reputation            CreationDate          LastAccessDate  \\\n",
       "1               1       63320 2008-07-31 14:22:31.287 2023-07-03 03:32:33.740   \n",
       "2               4       33372 2008-07-31 14:22:31.317 2023-07-11 19:52:52.090   \n",
       "3               5       52327 2008-07-31 14:22:31.317 2023-03-07 02:39:34.550   \n",
       "5              13      219335 2008-08-01 04:18:04.943 2022-07-28 18:13:37.620   \n",
       "6              17       54393 2008-08-01 12:02:21.617 2023-03-16 15:55:39.870   \n",
       "...           ...         ...                     ...                     ...   \n",
       "1110873  22221987          51 2023-07-13 13:09:14.890 2023-09-02 23:45:23.597   \n",
       "1111457  22248009         193 2023-07-18 17:34:51.140 2023-09-03 10:42:08.403   \n",
       "1112129  22277746          91 2023-07-24 16:12:54.813 2023-09-02 19:04:42.703   \n",
       "1112722  22305606         105 2023-07-29 12:14:40.403 2023-08-24 05:38:32.953   \n",
       "1114007  22363405         131 2023-08-09 11:03:11.570 2023-09-02 20:47:40.950   \n",
       "\n",
       "          Views  UpVotes  DownVotes  OwnerUserId  PostCount      UserId  \\\n",
       "1        594722     3407       1312          1.0        1.0         1.0   \n",
       "2         84130      855        100          4.0        1.0         4.0   \n",
       "3         15166      790         34          5.0        2.0         5.0   \n",
       "5         45326     5212        210         13.0       31.0        13.0   \n",
       "6          5708      887        216         17.0        5.0        17.0   \n",
       "...         ...      ...        ...          ...        ...         ...   \n",
       "1110873       7        0          0   22221987.0       12.0  22221987.0   \n",
       "1111457      89        9         18   22248009.0        2.0  22248009.0   \n",
       "1112129     128       66          0   22277746.0        1.0  22277746.0   \n",
       "1112722      50       11          0   22305606.0        2.0  22305606.0   \n",
       "1114007      34       83          3   22363405.0        4.0  22363405.0   \n",
       "\n",
       "         CommentCount  TotalActivity  \n",
       "1               365.0          366.0  \n",
       "2               145.0          146.0  \n",
       "3               142.0          144.0  \n",
       "5              3849.0         3880.0  \n",
       "6               325.0          330.0  \n",
       "...               ...            ...  \n",
       "1110873          29.0           41.0  \n",
       "1111457         162.0          164.0  \n",
       "1112129          41.0           42.0  \n",
       "1112722          79.0           81.0  \n",
       "1114007          47.0           51.0  \n",
       "\n",
       "[140034 rows x 12 columns]"
      ]
     },
     "execution_count": 51,
     "metadata": {},
     "output_type": "execute_result"
    }
   ],
   "source": [
    "active_users\n"
   ]
  },
  {
   "cell_type": "code",
   "execution_count": 52,
   "metadata": {},
   "outputs": [
    {
     "name": "stderr",
     "output_type": "stream",
     "text": [
      "/var/folders/t0/tn_njz2x7w1_5n3k_13tz4740000gn/T/ipykernel_27454/3460104699.py:3: SettingWithCopyWarning: \n",
      "A value is trying to be set on a copy of a slice from a DataFrame.\n",
      "Try using .loc[row_indexer,col_indexer] = value instead\n",
      "\n",
      "See the caveats in the documentation: https://pandas.pydata.org/pandas-docs/stable/user_guide/indexing.html#returning-a-view-versus-a-copy\n",
      "  active_users['LogTotalActivity'] = np.log(active_users['TotalActivity'])\n"
     ]
    },
    {
     "data": {
      "image/png": "[encoded data removed]",
      "text/plain": [
       "<Figure size 1000x600 with 1 Axes>"
      ]
     },
     "metadata": {},
     "output_type": "display_data"
    }
   ],
   "source": [
    "# The data is highly skewed so we log transform the data\n",
    "# Log Transformation\n",
    "active_users['LogTotalActivity'] = np.log(active_users['TotalActivity'])\n",
    "\n",
    "# Histogram with Log Scale\n",
    "plt.figure(figsize=(10, 6))\n",
    "sns.histplot(active_users['LogTotalActivity'].dropna(), kde=False, bins=100)  # Adjust bins as needed\n",
    "plt.title('Histogram of Log Total Activity')\n",
    "plt.xlabel('Log of Total Activity')\n",
    "plt.ylabel('Frequency')\n",
    "plt.show()"
   ]
  },
  {
   "cell_type": "code",
   "execution_count": 53,
   "metadata": {},
   "outputs": [
    {
     "data": {
      "text/plain": [
       "count    140034.000000\n",
       "mean        315.769206\n",
       "std        1539.137048\n",
       "min          41.000000\n",
       "25%          59.000000\n",
       "50%          95.000000\n",
       "75%         200.000000\n",
       "max      182907.000000\n",
       "Name: TotalActivity, dtype: float64"
      ]
     },
     "execution_count": 53,
     "metadata": {},
     "output_type": "execute_result"
    }
   ],
   "source": [
    "active_users['TotalActivity'].describe()\n"
   ]
  },
  {
   "cell_type": "code",
   "execution_count": null,
   "metadata": {},
   "outputs": [],
   "source": []
  },
  {
   "cell_type": "code",
   "execution_count": null,
   "metadata": {},
   "outputs": [],
   "source": []
  },
  {
   "cell_type": "markdown",
   "metadata": {},
   "source": [
    "# Next Steps\n",
    "\n",
    "- Deal with missing values\n",
    "- Find Topics and assign topics to posts\n",
    "    - TF-IDF\n",
    "    - LSH\n",
    "- "
   ]
  },
  {
   "cell_type": "markdown",
   "metadata": {},
   "source": [
    "### Dealing with the missing values"
   ]
  },
  {
   "cell_type": "markdown",
   "metadata": {},
   "source": [
    "**`df_comments`**"
   ]
  },
  {
   "cell_type": "code",
   "execution_count": null,
   "metadata": {},
   "outputs": [],
   "source": []
  },
  {
   "cell_type": "markdown",
   "metadata": {},
   "source": [
    "**`df_posts`**"
   ]
  },
  {
   "cell_type": "code",
   "execution_count": null,
   "metadata": {},
   "outputs": [],
   "source": []
  },
  {
   "cell_type": "code",
   "execution_count": null,
   "metadata": {},
   "outputs": [],
   "source": []
  },
  {
   "cell_type": "code",
   "execution_count": null,
   "metadata": {},
   "outputs": [],
   "source": []
  },
  {
   "cell_type": "code",
   "execution_count": null,
   "metadata": {},
   "outputs": [],
   "source": []
  }
 ],
 "metadata": {
  "kernelspec": {
   "display_name": "Python 3",
   "language": "python",
   "name": "python3"
  },
  "language_info": {
   "codemirror_mode": {
    "name": "ipython",
    "version": 3
   },
   "file_extension": ".py",
   "mimetype": "text/x-python",
   "name": "python",
   "nbconvert_exporter": "python",
   "pygments_lexer": "ipython3",
   "version": "3.11.0"
  }
 },
 "nbformat": 4,
 "nbformat_minor": 2
}
