{
 "cells": [
  {
   "cell_type": "code",
   "execution_count": null,
   "metadata": {},
   "outputs": [],
   "source": [
    "import pickle\n",
    "import os\n",
    "sorted_communities = pickle.load(open('./picklefiles/communities_louvain.pkl', 'rb'))\n",
    "df_posts = pickle.load(open('./picklefiles/df_posts.pkl', 'rb'))"
   ]
  },
  {
   "cell_type": "code",
   "execution_count": null,
   "metadata": {},
   "outputs": [],
   "source": [
    "def get_post_topic(tags, communities):\n",
    "    tag_counts = []\n",
    "    for community in communities:\n",
    "        community = [tag for (tag,_) in community]\n",
    "        count = sum(tag in community for tag in tags)\n",
    "        tag_counts.append(count)\n",
    "    return tag_counts"
   ]
  }
 ],
 "metadata": {
  "language_info": {
   "name": "python"
  }
 },
 "nbformat": 4,
 "nbformat_minor": 2
}
