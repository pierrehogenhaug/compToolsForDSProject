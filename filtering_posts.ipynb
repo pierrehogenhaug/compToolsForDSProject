{
 "cells": [
  {
   "cell_type": "code",
   "execution_count": 2,
   "metadata": {},
   "outputs": [],
   "source": [
    "from bs4 import BeautifulSoup\n",
    "from datetime import timedelta\n",
    "from gensim.models import CoherenceModel\n",
    "from nltk.stem import WordNetLemmatizer, PorterStemmer\n",
    "from nltk.corpus import stopwords\n",
    "from sklearn.decomposition import LatentDirichletAllocation, NMF\n",
    "from sklearn.feature_extraction.text import CountVectorizer\n",
    "from sklearn.feature_extraction.text import TfidfVectorizer\n",
    "\n",
    "import gensim.corpora as corpora\n",
    "import gensim\n",
    "import html\n",
    "import itertools\n",
    "import nltk\n",
    "import numpy as np\n",
    "import pandas as pd\n",
    "import re\n",
    "import wandb"
   ]
  },
  {
   "cell_type": "code",
   "execution_count": 8,
   "metadata": {},
   "outputs": [],
   "source": [
    "# Read the data\n",
    "df_comments = pd.read_pickle('./pickle_dataframes/comments_typecasted.pkl')\n",
    "df_posts = pd.read_pickle('./pickle_dataframes/posts_typecasted.pkl')\n",
    "\n",
    "df_post_links = pd.read_pickle('./pickle_dataframes/post_links_typecasted.pkl')\n",
    "df_tags = pd.read_pickle('./pickle_dataframes/tags_typecasted.pkl')\n",
    "df_users = pd.read_pickle('./pickle_dataframes/users_typecasted.pkl')"
   ]
  },
  {
   "cell_type": "markdown",
   "metadata": {},
   "source": [
    "### Filtering Posts"
   ]
  },
  {
   "cell_type": "code",
   "execution_count": 9,
   "metadata": {},
   "outputs": [
    {
     "name": "stdout",
     "output_type": "stream",
     "text": [
      "2023-09-03 09:33:40.880000\n"
     ]
    }
   ],
   "source": [
    "max_date_comments = df_comments[\"CreationDate\"].max()\n",
    "max_date_posts = df_posts[\"CreationDate\"].max()\n",
    "\n",
    "# Use the latest date as the reference for the n-year filter\n",
    "max_date = max(max_date_comments, max_date_posts)\n",
    "print(max_date)"
   ]
  },
  {
   "cell_type": "markdown",
   "metadata": {},
   "source": [
    "### Active users"
   ]
  },
  {
   "cell_type": "code",
   "execution_count": 10,
   "metadata": {},
   "outputs": [],
   "source": [
    "# Sample dataframes - replace these with your actual dataframes\n",
    "\n",
    "def filter_data(years_back, activity_threshold):\n",
    "    # Calculate the maximum dates for comments and posts\n",
    "    max_date_comments = df_comments[\"CreationDate\"].max()\n",
    "    max_date_posts = df_posts[\"CreationDate\"].max()\n",
    "\n",
    "    # Use the latest date as the reference for the n-year filter\n",
    "    max_date = max(max_date_comments, max_date_posts)\n",
    "    min_date = max_date - timedelta(days=365 * years_back)\n",
    "\n",
    "    # Remove entries with -1 in UserId and OwnerUserId columns\n",
    "    df_comments_filtered = df_comments[(df_comments['UserId'] != -1) & (df_comments['CreationDate'] >= min_date)]\n",
    "    df_posts_filtered = df_posts[(df_posts['OwnerUserId'] != -1) & (df_posts['CreationDate'] >= min_date)]\n",
    "\n",
    "    # Selecting only questions and answers from posts\n",
    "    questions_df = df_posts_filtered[df_posts_filtered['PostTypeId'] == 1]\n",
    "    answers_df = df_posts_filtered[df_posts_filtered['PostTypeId'] == 2]\n",
    "\n",
    "    # Calculate post and comment counts for each user\n",
    "    user_posts_count = df_posts_filtered.groupby('OwnerUserId').size().rename('PostCount')\n",
    "    user_comments_count = df_comments_filtered.groupby('UserId').size().rename('CommentCount')\n",
    "\n",
    "    # Merge counts with user data and fill missing values\n",
    "    user_data = df_users.merge(user_posts_count, left_on='Id', right_index=True, how='left')\\\n",
    "                        .merge(user_comments_count, left_on='Id', right_index=True, how='left')\\\n",
    "                        .fillna({'PostCount': 0, 'CommentCount': 0})\n",
    "\n",
    "    # Add total activity column and filter for active users\n",
    "    user_data['TotalActivity'] = user_data['PostCount'] + user_data['CommentCount']\n",
    "    active_users = user_data[user_data[\"TotalActivity\"] >= activity_threshold]\n",
    "    active_user_ids = set(active_users['Id'])\n",
    "\n",
    "    # Filter questions and comments for active user activity\n",
    "    filtered_questions = questions_df[questions_df['OwnerUserId'].isin(active_user_ids)]\n",
    "    active_user_post_ids = set(df_posts_filtered[df_posts_filtered['OwnerUserId'].isin(active_user_ids)]['Id'])\n",
    "    filtered_comments = df_comments_filtered[(df_comments_filtered['UserId'].isin(active_user_ids)) | \n",
    "                                    (df_comments_filtered['PostId'].isin(active_user_post_ids))].drop_duplicates()\n",
    "\n",
    "    # Print counts (or return these values if needed)\n",
    "    print(f\"Years back: {years_back}, Activity threshold: {activity_threshold}\")\n",
    "    print(f\"Number of comments before filtering: {df_comments_filtered.shape[0]}\")\n",
    "    print(f\"Number of questions before filtering: {questions_df.shape[0]}\")\n",
    "    print(f\"Number of comments after filtering: {filtered_comments.shape[0]}\")\n",
    "    print(f\"Number of questions after filtering: {filtered_questions.shape[0]}\")\n",
    "    print(f\"Number of users before Activity Threshold: {len(set(user_data['Id']))}\")\n",
    "    print(f\"Number of users after Activity Threshold: {len(active_user_ids)}\\n\")"
   ]
  },
  {
   "cell_type": "code",
   "execution_count": 11,
   "metadata": {},
   "outputs": [
    {
     "name": "stdout",
     "output_type": "stream",
     "text": [
      "Years back: 10, Activity threshold: 100\n",
      "Number of comments before filtering: 37504942\n",
      "Number of questions before filtering: 2320501\n",
      "Number of comments after filtering: 29251269\n",
      "Number of questions after filtering: 474171\n",
      "Number of users before Activity Threshold: 1116805\n",
      "Number of users after Activity Threshold: 52337\n",
      "\n"
     ]
    }
   ],
   "source": [
    "# Scenario 1\n",
    "filter_data(10, 100)"
   ]
  },
  {
   "cell_type": "code",
   "execution_count": 12,
   "metadata": {},
   "outputs": [
    {
     "name": "stdout",
     "output_type": "stream",
     "text": [
      "Years back: 5, Activity threshold: 100\n",
      "Number of comments before filtering: 16458151\n",
      "Number of questions before filtering: 1405906\n",
      "Number of comments after filtering: 11461308\n",
      "Number of questions after filtering: 177242\n",
      "Number of users before Activity Threshold: 1116805\n",
      "Number of users after Activity Threshold: 20851\n",
      "\n"
     ]
    }
   ],
   "source": [
    "# Scenario 2\n",
    "filter_data(5, 100)"
   ]
  },
  {
   "cell_type": "code",
   "execution_count": 13,
   "metadata": {},
   "outputs": [
    {
     "name": "stdout",
     "output_type": "stream",
     "text": [
      "Years back: 10, Activity threshold: 200\n",
      "Number of comments before filtering: 37504942\n",
      "Number of questions before filtering: 2320501\n",
      "Number of comments after filtering: 25879360\n",
      "Number of questions after filtering: 276931\n",
      "Number of users before Activity Threshold: 1116805\n",
      "Number of users after Activity Threshold: 25901\n",
      "\n"
     ]
    }
   ],
   "source": [
    "# Scenario 3\n",
    "filter_data(10, 200)"
   ]
  },
  {
   "cell_type": "code",
   "execution_count": 14,
   "metadata": {},
   "outputs": [
    {
     "name": "stdout",
     "output_type": "stream",
     "text": [
      "Years back: 5, Activity threshold: 200\n",
      "Number of comments before filtering: 16458151\n",
      "Number of questions before filtering: 1405906\n",
      "Number of comments after filtering: 10096665\n",
      "Number of questions after filtering: 92049\n",
      "Number of users before Activity Threshold: 1116805\n",
      "Number of users after Activity Threshold: 10087\n",
      "\n"
     ]
    }
   ],
   "source": [
    "# Scenario 4\n",
    "filter_data(5, 200)"
   ]
  },
  {
   "cell_type": "code",
   "execution_count": 15,
   "metadata": {},
   "outputs": [
    {
     "name": "stdout",
     "output_type": "stream",
     "text": [
      "Years back: 10, Activity threshold: 250\n",
      "Number of comments before filtering: 37504942\n",
      "Number of questions before filtering: 2320501\n",
      "Number of comments after filtering: 24737413\n",
      "Number of questions after filtering: 225863\n",
      "Number of users before Activity Threshold: 1116805\n",
      "Number of users after Activity Threshold: 20447\n",
      "\n"
     ]
    }
   ],
   "source": [
    "# Scenario 3\n",
    "filter_data(10, 250)"
   ]
  },
  {
   "cell_type": "code",
   "execution_count": 16,
   "metadata": {},
   "outputs": [],
   "source": [
    "# Scenario 4\n",
    "filter_data(5, 250)"
   ]
  },
  {
   "cell_type": "code",
   "execution_count": null,
   "metadata": {},
   "outputs": [],
   "source": [
    "# Scenario 3\n",
    "filter_data(3, 200)"
   ]
  },
  {
   "cell_type": "code",
   "execution_count": null,
   "metadata": {},
   "outputs": [],
   "source": [
    "# Scenario 4\n",
    "filter_data(3, 200)"
   ]
  },
  {
   "cell_type": "code",
   "execution_count": null,
   "metadata": {},
   "outputs": [],
   "source": []
  }
 ],
 "metadata": {
  "kernelspec": {
   "display_name": "Python 3",
   "language": "python",
   "name": "python3"
  },
  "language_info": {
   "codemirror_mode": {
    "name": "ipython",
    "version": 3
   },
   "file_extension": ".py",
   "mimetype": "text/x-python",
   "name": "python",
   "nbconvert_exporter": "python",
   "pygments_lexer": "ipython3",
   "version": "3.11.0"
  }
 },
 "nbformat": 4,
 "nbformat_minor": 2
}
