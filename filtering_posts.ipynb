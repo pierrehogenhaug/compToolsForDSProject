{
 "cells": [
  {
   "cell_type": "code",
   "execution_count": 1,
   "metadata": {},
   "outputs": [],
   "source": [
    "from bs4 import BeautifulSoup\n",
    "from gensim.models import CoherenceModel\n",
    "from nltk.stem import WordNetLemmatizer, PorterStemmer\n",
    "from nltk.corpus import stopwords\n",
    "from sklearn.decomposition import LatentDirichletAllocation, NMF\n",
    "from sklearn.feature_extraction.text import CountVectorizer\n",
    "from sklearn.feature_extraction.text import TfidfVectorizer\n",
    "\n",
    "import gensim.corpora as corpora\n",
    "import gensim\n",
    "import html\n",
    "import itertools\n",
    "import nltk\n",
    "import numpy as np\n",
    "import pandas as pd\n",
    "import re\n",
    "import wandb"
   ]
  },
  {
   "cell_type": "code",
   "execution_count": 4,
   "metadata": {},
   "outputs": [],
   "source": [
    "# Read the data\n",
    "df_comments = pd.read_pickle('./pickle_dataframes/comments_typecasted.pkl')\n",
    "df_posts = pd.read_pickle('./pickle_dataframes/posts_typecasted.pkl')\n",
    "\n",
    "df_post_links = pd.read_pickle('./pickle_dataframes/post_links_typecasted.pkl')\n",
    "df_tags = pd.read_pickle('./pickle_dataframes/tags_typecasted.pkl')\n",
    "df_users = pd.read_pickle('./pickle_dataframes/users_typecasted.pkl')"
   ]
  },
  {
   "cell_type": "markdown",
   "metadata": {},
   "source": [
    "### Filtering Posts"
   ]
  },
  {
   "cell_type": "code",
   "execution_count": 5,
   "metadata": {},
   "outputs": [
    {
     "name": "stdout",
     "output_type": "stream",
     "text": [
      "2023-09-03 09:33:40.880000\n"
     ]
    }
   ],
   "source": [
    "max_date_comments = df_comments[\"CreationDate\"].max()\n",
    "max_date_posts = df_posts[\"CreationDate\"].max()\n",
    "\n",
    "# Use the latest date as the reference for the n-year filter\n",
    "max_date = max(max_date_comments, max_date_posts)\n",
    "print(max_date)"
   ]
  },
  {
   "cell_type": "markdown",
   "metadata": {},
   "source": [
    "### Active users"
   ]
  },
  {
   "cell_type": "code",
   "execution_count": 6,
   "metadata": {},
   "outputs": [
    {
     "name": "stdout",
     "output_type": "stream",
     "text": [
      "Number of comments  47505654\n",
      "Number of questions  2567938\n"
     ]
    }
   ],
   "source": [
    "# Remove entries with -1 in UserId and OwnerUserId columns\n",
    "df_comments = df_comments[df_comments['UserId'] != -1]\n",
    "df_posts = df_posts[df_posts['OwnerUserId'] != -1]\n",
    "\n",
    "# Selecting only questions from posts\n",
    "questions_df = df_posts[df_posts['PostTypeId'] == 1]\n",
    "answers_df = df_posts[df_posts['PostTypeId'] == 2]\n",
    "\n",
    "# Calculate post and comment counts for each user\n",
    "user_posts_count = df_posts.groupby('OwnerUserId').size().rename('PostCount')\n",
    "user_comments_count = df_comments.groupby('UserId').size().rename('CommentCount')\n",
    "\n",
    "# Merge counts with user data and fill missing values\n",
    "user_data = df_users.merge(user_posts_count, left_on='Id', right_index=True, how='left')\\\n",
    "                    .merge(user_comments_count, left_on='Id', right_index=True, how='left')\\\n",
    "                    .fillna({'PostCount': 0, 'CommentCount': 0})\n",
    "\n",
    "# Add total activity column and filter for active users\n",
    "user_data['TotalActivity'] = user_data['PostCount'] + user_data['CommentCount']\n",
    "active_users = user_data.query(\"TotalActivity > 200\")\n",
    "active_user_ids = set(active_users['Id'])\n",
    "\n",
    "# Filter questions and comments for active user activity\n",
    "filtered_questions = questions_df[questions_df['OwnerUserId'].isin(active_user_ids)]\n",
    "active_user_post_ids = set(df_posts[df_posts['OwnerUserId'].isin(active_user_ids)]['Id'])\n",
    "filtered_comments = df_comments[(df_comments['UserId'].isin(active_user_ids)) | \n",
    "                                (df_comments['PostId'].isin(active_user_post_ids))].drop_duplicates()\n",
    "\n",
    "# Print counts\n",
    "print(f\"Number of comments before filtering: {df_comments.shape[0]}\")\n",
    "print(f\"Number of questions before filtering: {questions_df.shape[0]}\")\n",
    "print(f\"Number of comments after filtering: {filtered_comments.shape[0]}\")\n",
    "print(f\"Number of questions after filtering: {filtered_questions.shape[0]}\")\n",
    "print(f\"Number of users before Activity Threshold: {len(set(user_data['Id']))}\")\n",
    "print(f\"Number of users after Activity Threshold: {len(active_user_ids)}\")"
   ]
  },
  {
   "cell_type": "code",
   "execution_count": null,
   "metadata": {},
   "outputs": [],
   "source": []
  }
 ],
 "metadata": {
  "kernelspec": {
   "display_name": "Python 3",
   "language": "python",
   "name": "python3"
  },
  "language_info": {
   "codemirror_mode": {
    "name": "ipython",
    "version": 3
   },
   "file_extension": ".py",
   "mimetype": "text/x-python",
   "name": "python",
   "nbconvert_exporter": "python",
   "pygments_lexer": "ipython3",
   "version": "3.11.0"
  }
 },
 "nbformat": 4,
 "nbformat_minor": 2
}
