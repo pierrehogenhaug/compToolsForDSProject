{
 "cells": [
  {
   "cell_type": "code",
   "execution_count": null,
   "metadata": {},
   "outputs": [],
   "source": [
    "from bs4 import BeautifulSoup\n",
    "from gensim.models import CoherenceModel\n",
    "from nltk.stem import WordNetLemmatizer, PorterStemmer\n",
    "from nltk.corpus import stopwords\n",
    "from sklearn.decomposition import LatentDirichletAllocation, NMF\n",
    "from sklearn.feature_extraction.text import CountVectorizer\n",
    "from sklearn.feature_extraction.text import TfidfVectorizer\n",
    "\n",
    "import gensim.corpora as corpora\n",
    "import gensim\n",
    "import html\n",
    "import itertools\n",
    "import nltk\n",
    "import numpy as np\n",
    "import pandas as pd\n",
    "import re\n",
    "import wandb"
   ]
  },
  {
   "cell_type": "code",
   "execution_count": null,
   "metadata": {},
   "outputs": [],
   "source": [
    "# Read the data\n",
    "df_c = pd.read_pickle('./pickle_dataframes/comments_typecasted.pkl')\n",
    "df_p = pd.read_pickle('./pickle_dataframes/posts_typecasted.pkl')\n",
    "\n",
    "df_pl = pd.read_pickle('./pickle_dataframes/post_links_typecasted.pkl')\n",
    "df_t = pd.read_pickle('./pickle_dataframes/tags_typecasted.pkl')\n",
    "df_u = pd.read_pickle('./pickle_dataframes/users_typecasted.pkl')"
   ]
  },
  {
   "cell_type": "code",
   "execution_count": null,
   "metadata": {},
   "outputs": [],
   "source": [
    "df_comments = df_c.copy()\n",
    "df_posts = df_p.copy()\n",
    "#df_post_links = df_p.copy()\n",
    "#df_tags = df_t.copy()\n",
    "df_users = df_u.copy()"
   ]
  },
  {
   "cell_type": "markdown",
   "metadata": {},
   "source": [
    "### Filtering Posts"
   ]
  },
  {
   "cell_type": "code",
   "execution_count": null,
   "metadata": {},
   "outputs": [],
   "source": [
    "max_date_comments = df_comments[\"CreationDate\"].max()\n",
    "max_date_posts = df_posts[\"CreationDate\"].max()\n",
    "\n",
    "# Use the latest date as the reference for the n-year filter\n",
    "max_date = max(max_date_comments, max_date_posts)\n",
    "print(max_date)"
   ]
  },
  {
   "cell_type": "markdown",
   "metadata": {},
   "source": [
    "### Topic model: only posts from active users"
   ]
  },
  {
   "cell_type": "code",
   "execution_count": null,
   "metadata": {},
   "outputs": [],
   "source": [
    "# Remove entries with -1 in UserId and OwnerUserId columns\n",
    "df_comments = df_comments[df_comments['UserId'] != -1]\n",
    "df_posts = df_posts[df_posts['OwnerUserId'] != -1]\n",
    "\n",
    "# Selecting only questions from posts\n",
    "questions_df = df_posts[df_posts['PostTypeId'] == 1]\n",
    "answers_df = df_posts[df_posts['PostTypeId'] == 2]\n",
    "\n",
    "#print(\"Number of comments \", df_comments.shape[0])\n",
    "#print(\"Number of posts \", df_posts.shape[0])\n",
    "#print(\"Number of questions \", questions_df.shape[0])\n",
    "#print(\"Number of answers \", answers_df.shape[0])\n",
    "\n",
    "# Count unique users involved in questions and comments\n",
    "unique_user_count = len(pd.concat([questions_df[\"OwnerUserId\"], answers_df[\"OwnerUserId\"], df_comments[\"UserId\"]]).unique())\n",
    "# print(\"Number of Unique Users: \", unique_user_count)\n",
    "\n",
    "# Calculate post and comment counts for each user\n",
    "user_posts_count = df_posts.groupby('OwnerUserId').size().rename('PostCount')\n",
    "user_comments_count = df_comments.groupby('UserId').size().rename('CommentCount')\n",
    "\n",
    "# Merge counts with user data and fill missing values with 0\n",
    "user_data = df_users.merge(user_posts_count, left_on='Id', right_index=True, how='left')\n",
    "user_data = user_data.merge(user_comments_count, left_on='Id', right_index=True, how='left')\n",
    "user_data.fillna({'PostCount': 0, 'CommentCount': 0}, inplace=True)\n",
    "\n",
    "# Add a column for total activity and filter for active users\n",
    "user_data['TotalActivity'] = user_data['PostCount'] + user_data['CommentCount']\n",
    "\n",
    "# Get sets of active user IDs before Activity Threshold\n",
    "print(\"Users before Activity Threshold: \" , user_data['Id'].nunique())\n",
    "\n",
    "# Get sets of active user IDs after Activity Threshold\n",
    "active_users = user_data[user_data['TotalActivity'] > 200]\n",
    "active_user_ids = set(active_users['Id'])\n",
    "print(\"Users after Activity Threshold: \" ,len(active_user_ids))\n",
    "\n",
    "# Filter questions and comments for active user activity\n",
    "filtered_questions_df = questions_df[questions_df['OwnerUserId'].isin(active_user_ids)]\n",
    "active_user_post_ids = set(df_posts[df_posts['OwnerUserId'].isin(active_user_ids)]['Id'])\n",
    "filtered_comments = df_comments[(df_comments['UserId'].isin(active_user_ids)) | \n",
    "                                (df_comments['PostId'].isin(active_user_post_ids))].drop_duplicates()\n",
    "\n",
    "# Count unique users in filtered questions and comments\n",
    "unique_active_user_count = len(pd.concat([filtered_questions_df[\"OwnerUserId\"], filtered_comments[\"UserId\"]]).unique())\n",
    "\n",
    "#print(\"Number of comments \", filtered_comments.shape[0])\n",
    "#print(\"Number of posts \", active_user_post_ids.shape[0])\n",
    "#print(\"Number of Unique Users: \", unique_active_user_count)\n"
   ]
  }
 ],
 "metadata": {
  "language_info": {
   "name": "python"
  }
 },
 "nbformat": 4,
 "nbformat_minor": 2
}
